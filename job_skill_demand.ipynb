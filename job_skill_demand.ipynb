{
 "cells": [
  {
   "cell_type": "markdown",
   "metadata": {},
   "source": [
    "#### **Skills Analysis:** Identify the most commonly required skills for different job titles. What skills are in high demand?\n",
    "#### **Skills Gaps:** Compare the skills listed in job postings with those possessed by current job seekers (if you have any candidate data) to identify potential skills gaps."
   ]
  },
  {
   "cell_type": "code",
   "execution_count": 1,
   "metadata": {},
   "outputs": [],
   "source": [
    "import pandas as pd\n",
    "\n",
    "# Load the datasets\n",
    "postings = pd.read_csv('updated_data\\postings.csv')\n",
    "companies = pd.read_csv('updated_data\\company.csv')\n",
    "company_industries = pd.read_csv('updated_data\\company_industries.csv')\n",
    "company_specialities = pd.read_csv('updated_data\\company_specialities.csv')\n",
    "employee_counts = pd.read_csv('updated_data\\employee_counts.csv')\n",
    "salaries = pd.read_csv('updated_data\\salaries.csv')\n",
    "job_skills = pd.read_csv('updated_data\\Job_skills.csv')\n",
    "job_industries = pd.read_csv('updated_data\\modified_job_industries.csv')\n"
   ]
  },
  {
   "cell_type": "code",
   "execution_count": 2,
   "metadata": {},
   "outputs": [],
   "source": [
    "postings = postings.astype({\n",
    "    'job_id': 'int32',\n",
    "    'company_name': 'string',    # Use 'string' for modern text processing (like VARCHAR)\n",
    "    'title': 'string',\n",
    "    'description': 'string',\n",
    "    'pay_period': 'string',\n",
    "    'location': 'string',\n",
    "    'company_id': 'int32',\n",
    "    'views': 'int32',\n",
    "    'formatted_work_type': 'string',\n",
    "    'applies': 'int32',\n",
    "    'job_posting_url': 'string',\n",
    "    'work_type': 'string',\n",
    "    'normalized_salary': 'float',\n",
    "    'zip_code': 'string',\n",
    "    'fips': 'int32'\n",
    "})\n",
    "\n",
    "postings['original_listed_time'] = pd.to_datetime(postings['original_listed_time'], errors='coerce')\n",
    "postings['expiry'] = pd.to_datetime(postings['expiry'], errors='coerce')"
   ]
  },
  {
   "cell_type": "code",
   "execution_count": 3,
   "metadata": {},
   "outputs": [
    {
     "name": "stdout",
     "output_type": "stream",
     "text": [
      "<class 'pandas.core.frame.DataFrame'>\n",
      "RangeIndex: 35564 entries, 0 to 35563\n",
      "Data columns (total 19 columns):\n",
      " #   Column                Non-Null Count  Dtype         \n",
      "---  ------                --------------  -----         \n",
      " 0   job_id                35564 non-null  int32         \n",
      " 1   company_name          35564 non-null  string        \n",
      " 2   title                 35564 non-null  string        \n",
      " 3   description           35564 non-null  string        \n",
      " 4   pay_period            35564 non-null  string        \n",
      " 5   location              35564 non-null  string        \n",
      " 6   company_id            35564 non-null  int32         \n",
      " 7   views                 35564 non-null  int32         \n",
      " 8   formatted_work_type   35564 non-null  string        \n",
      " 9   applies               35564 non-null  int32         \n",
      " 10  original_listed_time  35564 non-null  datetime64[ns]\n",
      " 11  remote_allowed        35564 non-null  bool          \n",
      " 12  job_posting_url       35564 non-null  string        \n",
      " 13  expiry                35564 non-null  datetime64[ns]\n",
      " 14  listed_time           35564 non-null  object        \n",
      " 15  work_type             35564 non-null  string        \n",
      " 16  normalized_salary     35564 non-null  float64       \n",
      " 17  zip_code              35564 non-null  string        \n",
      " 18  fips                  35564 non-null  int32         \n",
      "dtypes: bool(1), datetime64[ns](2), float64(1), int32(5), object(1), string(9)\n",
      "memory usage: 4.2+ MB\n"
     ]
    }
   ],
   "source": [
    "postings.info()"
   ]
  },
  {
   "cell_type": "code",
   "execution_count": 3,
   "metadata": {},
   "outputs": [
    {
     "data": {
      "text/html": [
       "<div>\n",
       "<style scoped>\n",
       "    .dataframe tbody tr th:only-of-type {\n",
       "        vertical-align: middle;\n",
       "    }\n",
       "\n",
       "    .dataframe tbody tr th {\n",
       "        vertical-align: top;\n",
       "    }\n",
       "\n",
       "    .dataframe thead th {\n",
       "        text-align: right;\n",
       "    }\n",
       "</style>\n",
       "<table border=\"1\" class=\"dataframe\">\n",
       "  <thead>\n",
       "    <tr style=\"text-align: right;\">\n",
       "      <th></th>\n",
       "      <th>job_id</th>\n",
       "      <th>company_name</th>\n",
       "      <th>title</th>\n",
       "      <th>description</th>\n",
       "      <th>pay_period</th>\n",
       "      <th>location</th>\n",
       "      <th>company_id</th>\n",
       "      <th>views</th>\n",
       "      <th>formatted_work_type</th>\n",
       "      <th>applies</th>\n",
       "      <th>original_listed_time</th>\n",
       "      <th>remote_allowed</th>\n",
       "      <th>job_posting_url</th>\n",
       "      <th>expiry</th>\n",
       "      <th>listed_time</th>\n",
       "      <th>work_type</th>\n",
       "      <th>normalized_salary</th>\n",
       "      <th>zip_code</th>\n",
       "      <th>fips</th>\n",
       "    </tr>\n",
       "  </thead>\n",
       "  <tbody>\n",
       "    <tr>\n",
       "      <th>0</th>\n",
       "      <td>921716</td>\n",
       "      <td>Corcoran Sawyer Smith</td>\n",
       "      <td>Marketing Coordinator</td>\n",
       "      <td>Job descriptionA leading real estate firm in N...</td>\n",
       "      <td>HOURLY</td>\n",
       "      <td>Princeton, NJ</td>\n",
       "      <td>2774458</td>\n",
       "      <td>20</td>\n",
       "      <td>Full-time</td>\n",
       "      <td>2</td>\n",
       "      <td>2024-04-17 23:45:08</td>\n",
       "      <td>False</td>\n",
       "      <td>https://www.linkedin.com/jobs/view/921716/?trk...</td>\n",
       "      <td>2024-05-17 23:45:08</td>\n",
       "      <td>2024-04-17 23:45:08</td>\n",
       "      <td>FULL_TIME</td>\n",
       "      <td>38480.0</td>\n",
       "      <td>8540.0</td>\n",
       "      <td>34021</td>\n",
       "    </tr>\n",
       "    <tr>\n",
       "      <th>1</th>\n",
       "      <td>10998357</td>\n",
       "      <td>The National Exemplar</td>\n",
       "      <td>Assitant Restaurant Manager</td>\n",
       "      <td>The National Exemplar is accepting application...</td>\n",
       "      <td>YEARLY</td>\n",
       "      <td>Cincinnati, OH</td>\n",
       "      <td>64896719</td>\n",
       "      <td>8</td>\n",
       "      <td>Full-time</td>\n",
       "      <td>0</td>\n",
       "      <td>2024-04-16 14:26:54</td>\n",
       "      <td>False</td>\n",
       "      <td>https://www.linkedin.com/jobs/view/10998357/?t...</td>\n",
       "      <td>2024-05-16 14:26:54</td>\n",
       "      <td>2024-04-16 14:26:54</td>\n",
       "      <td>FULL_TIME</td>\n",
       "      <td>55000.0</td>\n",
       "      <td>45202.0</td>\n",
       "      <td>39061</td>\n",
       "    </tr>\n",
       "    <tr>\n",
       "      <th>2</th>\n",
       "      <td>23221523</td>\n",
       "      <td>Abrams Fensterman, LLP</td>\n",
       "      <td>Senior Elder Law / Trusts and Estates Associat...</td>\n",
       "      <td>Senior Associate Attorney - Elder Law / Trusts...</td>\n",
       "      <td>YEARLY</td>\n",
       "      <td>New Hyde Park, NY</td>\n",
       "      <td>766262</td>\n",
       "      <td>16</td>\n",
       "      <td>Full-time</td>\n",
       "      <td>0</td>\n",
       "      <td>2024-04-12 04:23:32</td>\n",
       "      <td>False</td>\n",
       "      <td>https://www.linkedin.com/jobs/view/23221523/?t...</td>\n",
       "      <td>2024-05-12 04:23:32</td>\n",
       "      <td>2024-04-12 04:23:32</td>\n",
       "      <td>FULL_TIME</td>\n",
       "      <td>157500.0</td>\n",
       "      <td>11040.0</td>\n",
       "      <td>36059</td>\n",
       "    </tr>\n",
       "  </tbody>\n",
       "</table>\n",
       "</div>"
      ],
      "text/plain": [
       "     job_id            company_name  \\\n",
       "0    921716   Corcoran Sawyer Smith   \n",
       "1  10998357  The National Exemplar    \n",
       "2  23221523  Abrams Fensterman, LLP   \n",
       "\n",
       "                                               title  \\\n",
       "0                              Marketing Coordinator   \n",
       "1                        Assitant Restaurant Manager   \n",
       "2  Senior Elder Law / Trusts and Estates Associat...   \n",
       "\n",
       "                                         description pay_period  \\\n",
       "0  Job descriptionA leading real estate firm in N...     HOURLY   \n",
       "1  The National Exemplar is accepting application...     YEARLY   \n",
       "2  Senior Associate Attorney - Elder Law / Trusts...     YEARLY   \n",
       "\n",
       "            location  company_id  views formatted_work_type  applies  \\\n",
       "0      Princeton, NJ     2774458     20           Full-time        2   \n",
       "1     Cincinnati, OH    64896719      8           Full-time        0   \n",
       "2  New Hyde Park, NY      766262     16           Full-time        0   \n",
       "\n",
       "  original_listed_time  remote_allowed  \\\n",
       "0  2024-04-17 23:45:08           False   \n",
       "1  2024-04-16 14:26:54           False   \n",
       "2  2024-04-12 04:23:32           False   \n",
       "\n",
       "                                     job_posting_url               expiry  \\\n",
       "0  https://www.linkedin.com/jobs/view/921716/?trk...  2024-05-17 23:45:08   \n",
       "1  https://www.linkedin.com/jobs/view/10998357/?t...  2024-05-16 14:26:54   \n",
       "2  https://www.linkedin.com/jobs/view/23221523/?t...  2024-05-12 04:23:32   \n",
       "\n",
       "           listed_time  work_type  normalized_salary zip_code   fips  \n",
       "0  2024-04-17 23:45:08  FULL_TIME            38480.0   8540.0  34021  \n",
       "1  2024-04-16 14:26:54  FULL_TIME            55000.0  45202.0  39061  \n",
       "2  2024-04-12 04:23:32  FULL_TIME           157500.0  11040.0  36059  "
      ]
     },
     "execution_count": 3,
     "metadata": {},
     "output_type": "execute_result"
    }
   ],
   "source": [
    "postings.head(3)"
   ]
  },
  {
   "cell_type": "code",
   "execution_count": 10,
   "metadata": {},
   "outputs": [
    {
     "data": {
      "text/plain": [
       "(30, 20)"
      ]
     },
     "execution_count": 10,
     "metadata": {},
     "output_type": "execute_result"
    }
   ],
   "source": [
    "merged_df = pd.merge(postings, job_skills, on='job_id')\n",
    "merged_df.shape"
   ]
  },
  {
   "cell_type": "code",
   "execution_count": 6,
   "metadata": {},
   "outputs": [],
   "source": [
    "skills = pd.read_csv('updated_data\\skills.csv')\n"
   ]
  },
  {
   "cell_type": "code",
   "execution_count": 12,
   "metadata": {},
   "outputs": [],
   "source": [
    "full_df = pd.merge(merged_df, skills, on='skill_abr')"
   ]
  },
  {
   "cell_type": "markdown",
   "metadata": {},
   "source": [
    "## TODO: randomly select job_id from postings and add it to job skills\n",
    "##       In postings restore the column skills"
   ]
  },
  {
   "cell_type": "markdown",
   "metadata": {},
   "source": []
  }
 ],
 "metadata": {
  "kernelspec": {
   "display_name": "Python 3",
   "language": "python",
   "name": "python3"
  },
  "language_info": {
   "codemirror_mode": {
    "name": "ipython",
    "version": 3
   },
   "file_extension": ".py",
   "mimetype": "text/x-python",
   "name": "python",
   "nbconvert_exporter": "python",
   "pygments_lexer": "ipython3",
   "version": "3.11.5"
  }
 },
 "nbformat": 4,
 "nbformat_minor": 2
}
