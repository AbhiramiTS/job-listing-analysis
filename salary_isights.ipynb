{
 "cells": [
  {
   "cell_type": "markdown",
   "metadata": {},
   "source": [
    "### **Salary Comparisons:** Compare average salaries across different industries and job titles to identify where the highest-paying jobs are located."
   ]
  },
  {
   "cell_type": "code",
   "execution_count": 1,
   "metadata": {},
   "outputs": [],
   "source": [
    "import pandas as pd\n",
    "\n",
    "# Load the datasets\n",
    "postings = pd.read_csv('updated_data\\postings.csv')\n",
    "companies = pd.read_csv('updated_data\\company.csv')\n",
    "company_industries = pd.read_csv('updated_data\\company_industries.csv')\n",
    "company_specialities = pd.read_csv('updated_data\\company_specialities.csv')\n",
    "employee_counts = pd.read_csv('updated_data\\employee_counts.csv')\n",
    "salaries = pd.read_csv('updated_data\\salaries.csv')\n",
    "job_skills = pd.read_csv('updated_data\\Job_skills.csv')\n",
    "job_industries = pd.read_csv('updated_data\\job_industries.csv')\n"
   ]
  },
  {
   "cell_type": "code",
   "execution_count": 2,
   "metadata": {},
   "outputs": [
    {
     "name": "stdout",
     "output_type": "stream",
     "text": [
      "<class 'pandas.core.frame.DataFrame'>\n",
      "RangeIndex: 35564 entries, 0 to 35563\n",
      "Data columns (total 19 columns):\n",
      " #   Column                Non-Null Count  Dtype  \n",
      "---  ------                --------------  -----  \n",
      " 0   job_id                35564 non-null  int64  \n",
      " 1   company_name          35564 non-null  object \n",
      " 2   title                 35564 non-null  object \n",
      " 3   description           35564 non-null  object \n",
      " 4   pay_period            35564 non-null  object \n",
      " 5   location              35564 non-null  object \n",
      " 6   company_id            35564 non-null  int64  \n",
      " 7   views                 35564 non-null  int64  \n",
      " 8   formatted_work_type   35564 non-null  object \n",
      " 9   applies               35564 non-null  int64  \n",
      " 10  original_listed_time  35564 non-null  object \n",
      " 11  remote_allowed        35564 non-null  bool   \n",
      " 12  job_posting_url       35564 non-null  object \n",
      " 13  expiry                35564 non-null  object \n",
      " 14  listed_time           35564 non-null  object \n",
      " 15  work_type             35564 non-null  object \n",
      " 16  normalized_salary     35564 non-null  float64\n",
      " 17  zip_code              35564 non-null  object \n",
      " 18  fips                  35564 non-null  int64  \n",
      "dtypes: bool(1), float64(1), int64(5), object(12)\n",
      "memory usage: 4.9+ MB\n"
     ]
    }
   ],
   "source": [
    "postings.info()"
   ]
  },
  {
   "cell_type": "code",
   "execution_count": 17,
   "metadata": {},
   "outputs": [],
   "source": [
    "postings = postings.astype({\n",
    "    'job_id': 'int32',\n",
    "    'company_name': 'string',    # Use 'string' for modern text processing (like VARCHAR)\n",
    "    'title': 'string',\n",
    "    'description': 'string',\n",
    "    'pay_period': 'string',\n",
    "    'location': 'string',\n",
    "    'company_id': 'int32',\n",
    "    'views': 'int32',\n",
    "    'formatted_work_type': 'string',\n",
    "    'applies': 'int32',\n",
    "    'job_posting_url': 'string',\n",
    "    'work_type': 'string',\n",
    "    'normalized_salary': 'float',\n",
    "    'zip_code': 'string',\n",
    "    'fips': 'int32'\n",
    "})"
   ]
  },
  {
   "cell_type": "code",
   "execution_count": 18,
   "metadata": {},
   "outputs": [],
   "source": [
    "postings['original_listed_time'] = pd.to_datetime(postings['original_listed_time'], errors='coerce')\n",
    "postings['expiry'] = pd.to_datetime(postings['expiry'], errors='coerce')"
   ]
  },
  {
   "cell_type": "code",
   "execution_count": 25,
   "metadata": {},
   "outputs": [
    {
     "name": "stdout",
     "output_type": "stream",
     "text": [
      "<class 'pandas.core.frame.DataFrame'>\n",
      "RangeIndex: 164808 entries, 0 to 164807\n",
      "Data columns (total 2 columns):\n",
      " #   Column       Non-Null Count   Dtype\n",
      "---  ------       --------------   -----\n",
      " 0   job_id       164808 non-null  int64\n",
      " 1   industry_id  164808 non-null  int64\n",
      "dtypes: int64(2)\n",
      "memory usage: 2.5 MB\n"
     ]
    }
   ],
   "source": [
    "job_industries.info()"
   ]
  },
  {
   "cell_type": "code",
   "execution_count": 23,
   "metadata": {},
   "outputs": [],
   "source": [
    "companies = companies.astype({\n",
    "    'name': 'string',\n",
    "    'description': 'string',\n",
    "    'state': 'string',\n",
    "    'country': 'string',\n",
    "    'city': 'string',\n",
    "    'zip_code': 'string',\n",
    "    'address': 'string',\n",
    "    'url': 'string'\n",
    "})"
   ]
  },
  {
   "cell_type": "markdown",
   "metadata": {},
   "source": [
    "#### analyze salary based on job title"
   ]
  },
  {
   "cell_type": "code",
   "execution_count": 9,
   "metadata": {},
   "outputs": [],
   "source": [
    "df_filtered = postings[postings['normalized_salary'] > 0]\n",
    "df_unique = df_filtered.drop_duplicates(subset=['job_id'], keep='first')"
   ]
  },
  {
   "cell_type": "code",
   "execution_count": 10,
   "metadata": {},
   "outputs": [
    {
     "data": {
      "text/html": [
       "<div>\n",
       "<style scoped>\n",
       "    .dataframe tbody tr th:only-of-type {\n",
       "        vertical-align: middle;\n",
       "    }\n",
       "\n",
       "    .dataframe tbody tr th {\n",
       "        vertical-align: top;\n",
       "    }\n",
       "\n",
       "    .dataframe thead th {\n",
       "        text-align: right;\n",
       "    }\n",
       "</style>\n",
       "<table border=\"1\" class=\"dataframe\">\n",
       "  <thead>\n",
       "    <tr style=\"text-align: right;\">\n",
       "      <th></th>\n",
       "      <th>title</th>\n",
       "      <th>normalized_salary</th>\n",
       "    </tr>\n",
       "  </thead>\n",
       "  <tbody>\n",
       "    <tr>\n",
       "      <th>0</th>\n",
       "      <td>\\tPublic Figure Protection / Executive Protect...</td>\n",
       "      <td>62500.0</td>\n",
       "    </tr>\n",
       "    <tr>\n",
       "      <th>1</th>\n",
       "      <td>\\tSupervisor Clinic Operations</td>\n",
       "      <td>60018.4</td>\n",
       "    </tr>\n",
       "    <tr>\n",
       "      <th>2</th>\n",
       "      <td>Data Architect</td>\n",
       "      <td>114138.0</td>\n",
       "    </tr>\n",
       "    <tr>\n",
       "      <th>3</th>\n",
       "      <td>AVP Underwriter</td>\n",
       "      <td>160.0</td>\n",
       "    </tr>\n",
       "    <tr>\n",
       "      <th>4</th>\n",
       "      <td>Accounts Receivable Specialist</td>\n",
       "      <td>60000.0</td>\n",
       "    </tr>\n",
       "    <tr>\n",
       "      <th>...</th>\n",
       "      <td>...</td>\n",
       "      <td>...</td>\n",
       "    </tr>\n",
       "    <tr>\n",
       "      <th>24224</th>\n",
       "      <td>z/os Programmer</td>\n",
       "      <td>98800.0</td>\n",
       "    </tr>\n",
       "    <tr>\n",
       "      <th>24225</th>\n",
       "      <td>Payroll Tax Accountant</td>\n",
       "      <td>58749.6</td>\n",
       "    </tr>\n",
       "    <tr>\n",
       "      <th>24226</th>\n",
       "      <td>​Oracle Services- Cloud SCM Manufacturing- Man...</td>\n",
       "      <td>181900.0</td>\n",
       "    </tr>\n",
       "    <tr>\n",
       "      <th>24227</th>\n",
       "      <td>【For External Referral - Talent Spotters】Resea...</td>\n",
       "      <td>170900.0</td>\n",
       "    </tr>\n",
       "    <tr>\n",
       "      <th>24228</th>\n",
       "      <td>🚀Principal Geotechnical Engineer (ESOP)(Bonus)...</td>\n",
       "      <td>155000.0</td>\n",
       "    </tr>\n",
       "  </tbody>\n",
       "</table>\n",
       "<p>24229 rows × 2 columns</p>\n",
       "</div>"
      ],
      "text/plain": [
       "                                                   title  normalized_salary\n",
       "0      \\tPublic Figure Protection / Executive Protect...            62500.0\n",
       "1                         \\tSupervisor Clinic Operations            60018.4\n",
       "2                                         Data Architect           114138.0\n",
       "3                                       AVP Underwriter               160.0\n",
       "4                         Accounts Receivable Specialist            60000.0\n",
       "...                                                  ...                ...\n",
       "24224                                    z/os Programmer            98800.0\n",
       "24225                             Payroll Tax Accountant            58749.6\n",
       "24226  ​Oracle Services- Cloud SCM Manufacturing- Man...           181900.0\n",
       "24227  【For External Referral - Talent Spotters】Resea...           170900.0\n",
       "24228  🚀Principal Geotechnical Engineer (ESOP)(Bonus)...           155000.0\n",
       "\n",
       "[24229 rows x 2 columns]"
      ]
     },
     "execution_count": 10,
     "metadata": {},
     "output_type": "execute_result"
    }
   ],
   "source": [
    "salary_by_title = df_unique.groupby('title')['normalized_salary'].mean().reset_index()\n",
    "salary_by_title"
   ]
  },
  {
   "cell_type": "code",
   "execution_count": 11,
   "metadata": {},
   "outputs": [
    {
     "data": {
      "text/html": [
       "<div>\n",
       "<style scoped>\n",
       "    .dataframe tbody tr th:only-of-type {\n",
       "        vertical-align: middle;\n",
       "    }\n",
       "\n",
       "    .dataframe tbody tr th {\n",
       "        vertical-align: top;\n",
       "    }\n",
       "\n",
       "    .dataframe thead th {\n",
       "        text-align: right;\n",
       "    }\n",
       "</style>\n",
       "<table border=\"1\" class=\"dataframe\">\n",
       "  <thead>\n",
       "    <tr style=\"text-align: right;\">\n",
       "      <th></th>\n",
       "      <th>title</th>\n",
       "      <th>normalized_salary</th>\n",
       "    </tr>\n",
       "  </thead>\n",
       "  <tbody>\n",
       "    <tr>\n",
       "      <th>10262</th>\n",
       "      <td>Intellectual Property Associate (246215)</td>\n",
       "      <td>5.356000e+08</td>\n",
       "    </tr>\n",
       "    <tr>\n",
       "      <th>3318</th>\n",
       "      <td>Case Manager RN, Pedi Rheumatology</td>\n",
       "      <td>3.624088e+08</td>\n",
       "    </tr>\n",
       "    <tr>\n",
       "      <th>2440</th>\n",
       "      <td>Billing Supervisor (246521)</td>\n",
       "      <td>2.600000e+08</td>\n",
       "    </tr>\n",
       "    <tr>\n",
       "      <th>11949</th>\n",
       "      <td>Manager - Clinical Applications Support - Anci...</td>\n",
       "      <td>2.304234e+08</td>\n",
       "    </tr>\n",
       "    <tr>\n",
       "      <th>4074</th>\n",
       "      <td>Cloud Domain Architect</td>\n",
       "      <td>1.907125e+08</td>\n",
       "    </tr>\n",
       "    <tr>\n",
       "      <th>...</th>\n",
       "      <td>...</td>\n",
       "      <td>...</td>\n",
       "    </tr>\n",
       "    <tr>\n",
       "      <th>16773</th>\n",
       "      <td>Recreation Aid (Lifeguard), NF-01</td>\n",
       "      <td>1.634000e+01</td>\n",
       "    </tr>\n",
       "    <tr>\n",
       "      <th>16774</th>\n",
       "      <td>Recreation Aid (Trainee-Lifeguard), NF-01</td>\n",
       "      <td>1.634000e+01</td>\n",
       "    </tr>\n",
       "    <tr>\n",
       "      <th>23718</th>\n",
       "      <td>Visitor Services Assistant Intern</td>\n",
       "      <td>1.500000e+01</td>\n",
       "    </tr>\n",
       "    <tr>\n",
       "      <th>17468</th>\n",
       "      <td>Resident Manager</td>\n",
       "      <td>1.300000e+01</td>\n",
       "    </tr>\n",
       "    <tr>\n",
       "      <th>250</th>\n",
       "      <td>ACCOUNT DIRECTOR SENIOR-ENTERPRISE 1</td>\n",
       "      <td>1.000000e+00</td>\n",
       "    </tr>\n",
       "  </tbody>\n",
       "</table>\n",
       "<p>24229 rows × 2 columns</p>\n",
       "</div>"
      ],
      "text/plain": [
       "                                                   title  normalized_salary\n",
       "10262           Intellectual Property Associate (246215)       5.356000e+08\n",
       "3318                  Case Manager RN, Pedi Rheumatology       3.624088e+08\n",
       "2440                         Billing Supervisor (246521)       2.600000e+08\n",
       "11949  Manager - Clinical Applications Support - Anci...       2.304234e+08\n",
       "4074                              Cloud Domain Architect       1.907125e+08\n",
       "...                                                  ...                ...\n",
       "16773                  Recreation Aid (Lifeguard), NF-01       1.634000e+01\n",
       "16774          Recreation Aid (Trainee-Lifeguard), NF-01       1.634000e+01\n",
       "23718                  Visitor Services Assistant Intern       1.500000e+01\n",
       "17468                                   Resident Manager       1.300000e+01\n",
       "250                 ACCOUNT DIRECTOR SENIOR-ENTERPRISE 1       1.000000e+00\n",
       "\n",
       "[24229 rows x 2 columns]"
      ]
     },
     "execution_count": 11,
     "metadata": {},
     "output_type": "execute_result"
    }
   ],
   "source": [
    "\n",
    "highest_salary_titles = salary_by_title.sort_values(by='normalized_salary', ascending=False)\n",
    "highest_salary_titles"
   ]
  },
  {
   "cell_type": "code",
   "execution_count": 14,
   "metadata": {},
   "outputs": [],
   "source": [
    "industries = pd.read_csv('updated_data\\industries.csv')\n"
   ]
  },
  {
   "cell_type": "code",
   "execution_count": 27,
   "metadata": {},
   "outputs": [],
   "source": [
    "industries = industries.astype({\n",
    "    'industry_name': 'string',  \n",
    "})"
   ]
  },
  {
   "cell_type": "code",
   "execution_count": 28,
   "metadata": {},
   "outputs": [
    {
     "name": "stdout",
     "output_type": "stream",
     "text": [
      "<class 'pandas.core.frame.DataFrame'>\n",
      "RangeIndex: 422 entries, 0 to 421\n",
      "Data columns (total 2 columns):\n",
      " #   Column         Non-Null Count  Dtype \n",
      "---  ------         --------------  ----- \n",
      " 0   industry_id    422 non-null    int64 \n",
      " 1   industry_name  422 non-null    string\n",
      "dtypes: int64(1), string(1)\n",
      "memory usage: 6.7 KB\n"
     ]
    }
   ],
   "source": [
    "industries.info()"
   ]
  },
  {
   "cell_type": "code",
   "execution_count": 33,
   "metadata": {},
   "outputs": [
    {
     "name": "stdout",
     "output_type": "stream",
     "text": [
      "<class 'pandas.core.frame.DataFrame'>\n",
      "RangeIndex: 164808 entries, 0 to 164807\n",
      "Data columns (total 2 columns):\n",
      " #   Column       Non-Null Count   Dtype\n",
      "---  ------       --------------   -----\n",
      " 0   job_id       164808 non-null  int64\n",
      " 1   industry_id  164808 non-null  int64\n",
      "dtypes: int64(2)\n",
      "memory usage: 2.5 MB\n"
     ]
    }
   ],
   "source": [
    "job_industries.info()"
   ]
  },
  {
   "cell_type": "markdown",
   "metadata": {},
   "source": [
    "## analyze salaries based on industry"
   ]
  },
  {
   "cell_type": "markdown",
   "metadata": {},
   "source": [
    "##### Replacing `job_id` Values in `job_industries.csv`\n",
    "\n",
    "The reason for replacing the `job_id` values in the `job_industries.csv` file is that the current `job_id` values only match 10 unique values from the `postings.csv` file. This limited matching indicates that the `job_industries` dataset may not be fully utilizing the available job postings, which could lead to a lack of diversity in job listings across different industries.\n",
    "\n",
    "To enhance the representativeness of the `job_id` values in `job_industries.csv`, we will replace the existing `job_id` values with randomly selected job IDs from the `postings.csv`. This approach ensures that the `job_industries.csv` file reflects a broader range of job postings, improving the relevance and usefulness of the data for analysis and decision-making.\n"
   ]
  },
  {
   "cell_type": "code",
   "execution_count": 54,
   "metadata": {},
   "outputs": [
    {
     "name": "stdout",
     "output_type": "stream",
     "text": [
      "job_id values in job_industries.csv have been replaced with random values from postings.csv.\n"
     ]
    }
   ],
   "source": [
    "import numpy as np\n",
    "\n",
    "\n",
    "# Extract the job_id values from postings.csv\n",
    "job_ids = postings['job_id'].values\n",
    "\n",
    "# Randomly choose job_id values to match the length of job_industries_df\n",
    "# Use replacement to fill the job_id column in job_industries_df\n",
    "random_job_ids = np.random.choice(job_ids, size=len(job_industries), replace=True)\n",
    "\n",
    "# Replace the job_id values in job_industries.csv with the randomly chosen job_ids\n",
    "job_industries['job_id'] = random_job_ids\n",
    "\n",
    "# Save the modified job_industries.csv\n",
    "job_industries.to_csv('updated_data/modified_job_industries.csv', index=False)\n",
    "\n",
    "print(\"job_id values in job_industries.csv have been replaced with random values from postings.csv.\")\n"
   ]
  },
  {
   "cell_type": "code",
   "execution_count": 55,
   "metadata": {},
   "outputs": [],
   "source": [
    "modified_job_industries = pd.read_csv('updated_data\\modified_job_industries.csv')"
   ]
  },
  {
   "cell_type": "code",
   "execution_count": 62,
   "metadata": {},
   "outputs": [
    {
     "data": {
      "text/html": [
       "<div>\n",
       "<style scoped>\n",
       "    .dataframe tbody tr th:only-of-type {\n",
       "        vertical-align: middle;\n",
       "    }\n",
       "\n",
       "    .dataframe tbody tr th {\n",
       "        vertical-align: top;\n",
       "    }\n",
       "\n",
       "    .dataframe thead th {\n",
       "        text-align: right;\n",
       "    }\n",
       "</style>\n",
       "<table border=\"1\" class=\"dataframe\">\n",
       "  <thead>\n",
       "    <tr style=\"text-align: right;\">\n",
       "      <th></th>\n",
       "      <th>job_id</th>\n",
       "      <th>company_name</th>\n",
       "      <th>title</th>\n",
       "      <th>description</th>\n",
       "      <th>pay_period</th>\n",
       "      <th>location</th>\n",
       "      <th>company_id</th>\n",
       "      <th>views</th>\n",
       "      <th>formatted_work_type</th>\n",
       "      <th>applies</th>\n",
       "      <th>original_listed_time</th>\n",
       "      <th>remote_allowed</th>\n",
       "      <th>job_posting_url</th>\n",
       "      <th>expiry</th>\n",
       "      <th>listed_time</th>\n",
       "      <th>work_type</th>\n",
       "      <th>normalized_salary</th>\n",
       "      <th>zip_code</th>\n",
       "      <th>fips</th>\n",
       "      <th>industry_id</th>\n",
       "    </tr>\n",
       "  </thead>\n",
       "  <tbody>\n",
       "    <tr>\n",
       "      <th>0</th>\n",
       "      <td>921716</td>\n",
       "      <td>Corcoran Sawyer Smith</td>\n",
       "      <td>Marketing Coordinator</td>\n",
       "      <td>Job descriptionA leading real estate firm in N...</td>\n",
       "      <td>HOURLY</td>\n",
       "      <td>Princeton, NJ</td>\n",
       "      <td>2774458</td>\n",
       "      <td>20</td>\n",
       "      <td>Full-time</td>\n",
       "      <td>2</td>\n",
       "      <td>2024-04-17 23:45:08</td>\n",
       "      <td>False</td>\n",
       "      <td>https://www.linkedin.com/jobs/view/921716/?trk...</td>\n",
       "      <td>2024-05-17 23:45:08</td>\n",
       "      <td>2024-04-17 23:45:08</td>\n",
       "      <td>FULL_TIME</td>\n",
       "      <td>38480.0</td>\n",
       "      <td>8540.0</td>\n",
       "      <td>34021</td>\n",
       "      <td>48</td>\n",
       "    </tr>\n",
       "    <tr>\n",
       "      <th>1</th>\n",
       "      <td>921716</td>\n",
       "      <td>Corcoran Sawyer Smith</td>\n",
       "      <td>Marketing Coordinator</td>\n",
       "      <td>Job descriptionA leading real estate firm in N...</td>\n",
       "      <td>HOURLY</td>\n",
       "      <td>Princeton, NJ</td>\n",
       "      <td>2774458</td>\n",
       "      <td>20</td>\n",
       "      <td>Full-time</td>\n",
       "      <td>2</td>\n",
       "      <td>2024-04-17 23:45:08</td>\n",
       "      <td>False</td>\n",
       "      <td>https://www.linkedin.com/jobs/view/921716/?trk...</td>\n",
       "      <td>2024-05-17 23:45:08</td>\n",
       "      <td>2024-04-17 23:45:08</td>\n",
       "      <td>FULL_TIME</td>\n",
       "      <td>38480.0</td>\n",
       "      <td>8540.0</td>\n",
       "      <td>34021</td>\n",
       "      <td>27</td>\n",
       "    </tr>\n",
       "    <tr>\n",
       "      <th>2</th>\n",
       "      <td>10998357</td>\n",
       "      <td>The National Exemplar</td>\n",
       "      <td>Assitant Restaurant Manager</td>\n",
       "      <td>The National Exemplar is accepting application...</td>\n",
       "      <td>YEARLY</td>\n",
       "      <td>Cincinnati, OH</td>\n",
       "      <td>64896719</td>\n",
       "      <td>8</td>\n",
       "      <td>Full-time</td>\n",
       "      <td>0</td>\n",
       "      <td>2024-04-16 14:26:54</td>\n",
       "      <td>False</td>\n",
       "      <td>https://www.linkedin.com/jobs/view/10998357/?t...</td>\n",
       "      <td>2024-05-16 14:26:54</td>\n",
       "      <td>2024-04-16 14:26:54</td>\n",
       "      <td>FULL_TIME</td>\n",
       "      <td>55000.0</td>\n",
       "      <td>45202.0</td>\n",
       "      <td>39061</td>\n",
       "      <td>43</td>\n",
       "    </tr>\n",
       "  </tbody>\n",
       "</table>\n",
       "</div>"
      ],
      "text/plain": [
       "     job_id            company_name                        title  \\\n",
       "0    921716   Corcoran Sawyer Smith        Marketing Coordinator   \n",
       "1    921716   Corcoran Sawyer Smith        Marketing Coordinator   \n",
       "2  10998357  The National Exemplar   Assitant Restaurant Manager   \n",
       "\n",
       "                                         description pay_period  \\\n",
       "0  Job descriptionA leading real estate firm in N...     HOURLY   \n",
       "1  Job descriptionA leading real estate firm in N...     HOURLY   \n",
       "2  The National Exemplar is accepting application...     YEARLY   \n",
       "\n",
       "         location  company_id  views formatted_work_type  applies  \\\n",
       "0   Princeton, NJ     2774458     20           Full-time        2   \n",
       "1   Princeton, NJ     2774458     20           Full-time        2   \n",
       "2  Cincinnati, OH    64896719      8           Full-time        0   \n",
       "\n",
       "  original_listed_time  remote_allowed  \\\n",
       "0  2024-04-17 23:45:08           False   \n",
       "1  2024-04-17 23:45:08           False   \n",
       "2  2024-04-16 14:26:54           False   \n",
       "\n",
       "                                     job_posting_url              expiry  \\\n",
       "0  https://www.linkedin.com/jobs/view/921716/?trk... 2024-05-17 23:45:08   \n",
       "1  https://www.linkedin.com/jobs/view/921716/?trk... 2024-05-17 23:45:08   \n",
       "2  https://www.linkedin.com/jobs/view/10998357/?t... 2024-05-16 14:26:54   \n",
       "\n",
       "           listed_time  work_type  normalized_salary zip_code   fips  \\\n",
       "0  2024-04-17 23:45:08  FULL_TIME            38480.0   8540.0  34021   \n",
       "1  2024-04-17 23:45:08  FULL_TIME            38480.0   8540.0  34021   \n",
       "2  2024-04-16 14:26:54  FULL_TIME            55000.0  45202.0  39061   \n",
       "\n",
       "   industry_id  \n",
       "0           48  \n",
       "1           27  \n",
       "2           43  "
      ]
     },
     "execution_count": 62,
     "metadata": {},
     "output_type": "execute_result"
    }
   ],
   "source": [
    "merged_df = pd.merge(postings, job_industries, on='job_id')\n",
    "merged_df.head(3)"
   ]
  },
  {
   "cell_type": "code",
   "execution_count": 60,
   "metadata": {},
   "outputs": [
    {
     "data": {
      "text/html": [
       "<div>\n",
       "<style scoped>\n",
       "    .dataframe tbody tr th:only-of-type {\n",
       "        vertical-align: middle;\n",
       "    }\n",
       "\n",
       "    .dataframe tbody tr th {\n",
       "        vertical-align: top;\n",
       "    }\n",
       "\n",
       "    .dataframe thead th {\n",
       "        text-align: right;\n",
       "    }\n",
       "</style>\n",
       "<table border=\"1\" class=\"dataframe\">\n",
       "  <thead>\n",
       "    <tr style=\"text-align: right;\">\n",
       "      <th></th>\n",
       "      <th>company_id</th>\n",
       "      <th>company_name</th>\n",
       "      <th>job_posting_count</th>\n",
       "    </tr>\n",
       "  </thead>\n",
       "  <tbody>\n",
       "    <tr>\n",
       "      <th>0</th>\n",
       "      <td>1009</td>\n",
       "      <td>IBM</td>\n",
       "      <td>134</td>\n",
       "    </tr>\n",
       "    <tr>\n",
       "      <th>1</th>\n",
       "      <td>1016</td>\n",
       "      <td>GE HealthCare</td>\n",
       "      <td>37</td>\n",
       "    </tr>\n",
       "    <tr>\n",
       "      <th>2</th>\n",
       "      <td>1025</td>\n",
       "      <td>Hewlett Packard Enterprise</td>\n",
       "      <td>38</td>\n",
       "    </tr>\n",
       "    <tr>\n",
       "      <th>3</th>\n",
       "      <td>1028</td>\n",
       "      <td>Oracle</td>\n",
       "      <td>265</td>\n",
       "    </tr>\n",
       "    <tr>\n",
       "      <th>4</th>\n",
       "      <td>1033</td>\n",
       "      <td>Accenture</td>\n",
       "      <td>43</td>\n",
       "    </tr>\n",
       "    <tr>\n",
       "      <th>...</th>\n",
       "      <td>...</td>\n",
       "      <td>...</td>\n",
       "      <td>...</td>\n",
       "    </tr>\n",
       "    <tr>\n",
       "      <th>10296</th>\n",
       "      <td>103426165</td>\n",
       "      <td>JPM Financial LLC</td>\n",
       "      <td>7</td>\n",
       "    </tr>\n",
       "    <tr>\n",
       "      <th>10297</th>\n",
       "      <td>103432741</td>\n",
       "      <td>Patriot Wings</td>\n",
       "      <td>11</td>\n",
       "    </tr>\n",
       "    <tr>\n",
       "      <th>10298</th>\n",
       "      <td>103453650</td>\n",
       "      <td>Souvlaki</td>\n",
       "      <td>3</td>\n",
       "    </tr>\n",
       "    <tr>\n",
       "      <th>10299</th>\n",
       "      <td>103456466</td>\n",
       "      <td>Foundation Model Startup</td>\n",
       "      <td>4</td>\n",
       "    </tr>\n",
       "    <tr>\n",
       "      <th>10300</th>\n",
       "      <td>103456527</td>\n",
       "      <td>Kinder Prep Montessori Nursery &amp; Preschool</td>\n",
       "      <td>2</td>\n",
       "    </tr>\n",
       "  </tbody>\n",
       "</table>\n",
       "<p>10301 rows × 3 columns</p>\n",
       "</div>"
      ],
      "text/plain": [
       "       company_id                                company_name  \\\n",
       "0            1009                                         IBM   \n",
       "1            1016                               GE HealthCare   \n",
       "2            1025                  Hewlett Packard Enterprise   \n",
       "3            1028                                      Oracle   \n",
       "4            1033                                   Accenture   \n",
       "...           ...                                         ...   \n",
       "10296   103426165                           JPM Financial LLC   \n",
       "10297   103432741                               Patriot Wings   \n",
       "10298   103453650                                    Souvlaki   \n",
       "10299   103456466                    Foundation Model Startup   \n",
       "10300   103456527  Kinder Prep Montessori Nursery & Preschool   \n",
       "\n",
       "       job_posting_count  \n",
       "0                    134  \n",
       "1                     37  \n",
       "2                     38  \n",
       "3                    265  \n",
       "4                     43  \n",
       "...                  ...  \n",
       "10296                  7  \n",
       "10297                 11  \n",
       "10298                  3  \n",
       "10299                  4  \n",
       "10300                  2  \n",
       "\n",
       "[10301 rows x 3 columns]"
      ]
     },
     "execution_count": 60,
     "metadata": {},
     "output_type": "execute_result"
    }
   ],
   "source": [
    "company_postings = merged_df.groupby(['company_id', 'company_name']).size().reset_index(name='job_posting_count')\n",
    "company_postings"
   ]
  },
  {
   "cell_type": "code",
   "execution_count": 70,
   "metadata": {},
   "outputs": [],
   "source": [
    "full_df = pd.merge(merged_df, industries, on='industry_id')"
   ]
  },
  {
   "cell_type": "code",
   "execution_count": 68,
   "metadata": {},
   "outputs": [
    {
     "data": {
      "text/html": [
       "<div>\n",
       "<style scoped>\n",
       "    .dataframe tbody tr th:only-of-type {\n",
       "        vertical-align: middle;\n",
       "    }\n",
       "\n",
       "    .dataframe tbody tr th {\n",
       "        vertical-align: top;\n",
       "    }\n",
       "\n",
       "    .dataframe thead th {\n",
       "        text-align: right;\n",
       "    }\n",
       "</style>\n",
       "<table border=\"1\" class=\"dataframe\">\n",
       "  <thead>\n",
       "    <tr style=\"text-align: right;\">\n",
       "      <th></th>\n",
       "      <th>industry_name</th>\n",
       "      <th>normalized_salary</th>\n",
       "    </tr>\n",
       "  </thead>\n",
       "  <tbody>\n",
       "    <tr>\n",
       "      <th>0</th>\n",
       "      <td>Abrasives and Nonmetallic Minerals Manufacturing</td>\n",
       "      <td>160000.000000</td>\n",
       "    </tr>\n",
       "    <tr>\n",
       "      <th>1</th>\n",
       "      <td>Accessible Architecture and Design</td>\n",
       "      <td>96745.022222</td>\n",
       "    </tr>\n",
       "    <tr>\n",
       "      <th>2</th>\n",
       "      <td>Accommodation and Food Services</td>\n",
       "      <td>123761.200000</td>\n",
       "    </tr>\n",
       "    <tr>\n",
       "      <th>3</th>\n",
       "      <td>Accounting</td>\n",
       "      <td>209848.924543</td>\n",
       "    </tr>\n",
       "    <tr>\n",
       "      <th>4</th>\n",
       "      <td>Administration of Justice</td>\n",
       "      <td>97904.645455</td>\n",
       "    </tr>\n",
       "    <tr>\n",
       "      <th>...</th>\n",
       "      <td>...</td>\n",
       "      <td>...</td>\n",
       "    </tr>\n",
       "    <tr>\n",
       "      <th>384</th>\n",
       "      <td>Wineries</td>\n",
       "      <td>120496.800000</td>\n",
       "    </tr>\n",
       "    <tr>\n",
       "      <th>385</th>\n",
       "      <td>Wireless Services</td>\n",
       "      <td>404273.498608</td>\n",
       "    </tr>\n",
       "    <tr>\n",
       "      <th>386</th>\n",
       "      <td>Wood Product Manufacturing</td>\n",
       "      <td>87491.490909</td>\n",
       "    </tr>\n",
       "    <tr>\n",
       "      <th>387</th>\n",
       "      <td>Writing and Editing</td>\n",
       "      <td>101116.436061</td>\n",
       "    </tr>\n",
       "    <tr>\n",
       "      <th>388</th>\n",
       "      <td>Zoos and Botanical Gardens</td>\n",
       "      <td>135000.000000</td>\n",
       "    </tr>\n",
       "  </tbody>\n",
       "</table>\n",
       "<p>389 rows × 2 columns</p>\n",
       "</div>"
      ],
      "text/plain": [
       "                                        industry_name  normalized_salary\n",
       "0    Abrasives and Nonmetallic Minerals Manufacturing      160000.000000\n",
       "1                  Accessible Architecture and Design       96745.022222\n",
       "2                     Accommodation and Food Services      123761.200000\n",
       "3                                          Accounting      209848.924543\n",
       "4                           Administration of Justice       97904.645455\n",
       "..                                                ...                ...\n",
       "384                                          Wineries      120496.800000\n",
       "385                                 Wireless Services      404273.498608\n",
       "386                        Wood Product Manufacturing       87491.490909\n",
       "387                               Writing and Editing      101116.436061\n",
       "388                        Zoos and Botanical Gardens      135000.000000\n",
       "\n",
       "[389 rows x 2 columns]"
      ]
     },
     "execution_count": 68,
     "metadata": {},
     "output_type": "execute_result"
    }
   ],
   "source": [
    "industry_salary_df = full_df.groupby('industry_name')['normalized_salary'].mean().reset_index()\n",
    "industry_salary_df"
   ]
  },
  {
   "cell_type": "code",
   "execution_count": 81,
   "metadata": {},
   "outputs": [
    {
     "data": {
      "text/html": [
       "<div>\n",
       "<style scoped>\n",
       "    .dataframe tbody tr th:only-of-type {\n",
       "        vertical-align: middle;\n",
       "    }\n",
       "\n",
       "    .dataframe tbody tr th {\n",
       "        vertical-align: top;\n",
       "    }\n",
       "\n",
       "    .dataframe thead th {\n",
       "        text-align: right;\n",
       "    }\n",
       "</style>\n",
       "<table border=\"1\" class=\"dataframe\">\n",
       "  <thead>\n",
       "    <tr style=\"text-align: right;\">\n",
       "      <th></th>\n",
       "      <th>industry_name</th>\n",
       "      <th>normalized_salary</th>\n",
       "    </tr>\n",
       "  </thead>\n",
       "  <tbody>\n",
       "    <tr>\n",
       "      <th>322</th>\n",
       "      <td>Sports and Recreation Instruction</td>\n",
       "      <td>9.693992e+06</td>\n",
       "    </tr>\n",
       "    <tr>\n",
       "      <th>190</th>\n",
       "      <td>Libraries</td>\n",
       "      <td>5.602342e+06</td>\n",
       "    </tr>\n",
       "    <tr>\n",
       "      <th>244</th>\n",
       "      <td>Performing Arts</td>\n",
       "      <td>5.592640e+06</td>\n",
       "    </tr>\n",
       "    <tr>\n",
       "      <th>143</th>\n",
       "      <td>Holding Companies</td>\n",
       "      <td>3.785264e+06</td>\n",
       "    </tr>\n",
       "    <tr>\n",
       "      <th>108</th>\n",
       "      <td>Executive Offices</td>\n",
       "      <td>2.980938e+06</td>\n",
       "    </tr>\n",
       "    <tr>\n",
       "      <th>277</th>\n",
       "      <td>Renewable Energy Semiconductor Manufacturing</td>\n",
       "      <td>2.194225e+06</td>\n",
       "    </tr>\n",
       "    <tr>\n",
       "      <th>274</th>\n",
       "      <td>Religious Institutions</td>\n",
       "      <td>1.588681e+06</td>\n",
       "    </tr>\n",
       "    <tr>\n",
       "      <th>112</th>\n",
       "      <td>Farming</td>\n",
       "      <td>1.141833e+06</td>\n",
       "    </tr>\n",
       "    <tr>\n",
       "      <th>180</th>\n",
       "      <td>Investment Banking</td>\n",
       "      <td>9.789097e+05</td>\n",
       "    </tr>\n",
       "    <tr>\n",
       "      <th>258</th>\n",
       "      <td>Primary and Secondary Education</td>\n",
       "      <td>7.354747e+05</td>\n",
       "    </tr>\n",
       "  </tbody>\n",
       "</table>\n",
       "</div>"
      ],
      "text/plain": [
       "                                    industry_name  normalized_salary\n",
       "322             Sports and Recreation Instruction       9.693992e+06\n",
       "190                                     Libraries       5.602342e+06\n",
       "244                               Performing Arts       5.592640e+06\n",
       "143                             Holding Companies       3.785264e+06\n",
       "108                             Executive Offices       2.980938e+06\n",
       "277  Renewable Energy Semiconductor Manufacturing       2.194225e+06\n",
       "274                        Religious Institutions       1.588681e+06\n",
       "112                                       Farming       1.141833e+06\n",
       "180                            Investment Banking       9.789097e+05\n",
       "258               Primary and Secondary Education       7.354747e+05"
      ]
     },
     "execution_count": 81,
     "metadata": {},
     "output_type": "execute_result"
    }
   ],
   "source": [
    "# Sort the DataFrame by normalized_salary in descending order\n",
    "industry_salary_df = industry_salary_df.sort_values(by='normalized_salary', ascending=False)\n",
    "\n",
    "# Select the top 10 highest paying industries\n",
    "top_10_industries = industry_salary_df.head(10)\n",
    "top_10_industries\n"
   ]
  },
  {
   "cell_type": "code",
   "execution_count": 75,
   "metadata": {},
   "outputs": [
    {
     "data": {
      "text/html": [
       "<div>\n",
       "<style scoped>\n",
       "    .dataframe tbody tr th:only-of-type {\n",
       "        vertical-align: middle;\n",
       "    }\n",
       "\n",
       "    .dataframe tbody tr th {\n",
       "        vertical-align: top;\n",
       "    }\n",
       "\n",
       "    .dataframe thead th {\n",
       "        text-align: right;\n",
       "    }\n",
       "</style>\n",
       "<table border=\"1\" class=\"dataframe\">\n",
       "  <thead>\n",
       "    <tr style=\"text-align: right;\">\n",
       "      <th></th>\n",
       "      <th>industry_name</th>\n",
       "      <th>normalized_salary</th>\n",
       "    </tr>\n",
       "  </thead>\n",
       "  <tbody>\n",
       "    <tr>\n",
       "      <th>322</th>\n",
       "      <td>Sports and Recreation Instruction</td>\n",
       "      <td>9.693992e+06</td>\n",
       "    </tr>\n",
       "    <tr>\n",
       "      <th>190</th>\n",
       "      <td>Libraries</td>\n",
       "      <td>5.602342e+06</td>\n",
       "    </tr>\n",
       "    <tr>\n",
       "      <th>244</th>\n",
       "      <td>Performing Arts</td>\n",
       "      <td>5.592640e+06</td>\n",
       "    </tr>\n",
       "  </tbody>\n",
       "</table>\n",
       "</div>"
      ],
      "text/plain": [
       "                         industry_name  normalized_salary\n",
       "322  Sports and Recreation Instruction       9.693992e+06\n",
       "190                          Libraries       5.602342e+06\n",
       "244                    Performing Arts       5.592640e+06"
      ]
     },
     "execution_count": 75,
     "metadata": {},
     "output_type": "execute_result"
    }
   ],
   "source": [
    "industry_salary_df.head(3)"
   ]
  },
  {
   "cell_type": "code",
   "execution_count": 72,
   "metadata": {},
   "outputs": [
    {
     "name": "stderr",
     "output_type": "stream",
     "text": [
      "C:\\Users\\My Account\\AppData\\Local\\Temp\\ipykernel_16000\\474496380.py:8: FutureWarning:\n",
      "\n",
      "\n",
      "\n",
      "Passing `palette` without assigning `hue` is deprecated and will be removed in v0.14.0. Assign the `y` variable to `hue` and set `legend=False` for the same effect.\n",
      "\n",
      "\n"
     ]
    },
    {
     "data": {
      "image/png": "[encoded data removed]",
      "text/plain": [
       "<Figure size 1200x800 with 1 Axes>"
      ]
     },
     "metadata": {},
     "output_type": "display_data"
    }
   ],
   "source": [
    "import matplotlib.pyplot as plt\n",
    "import seaborn as sns\n",
    "\n",
    "# Assuming `highest_paying_industries` is your DataFrame with industry names and average salaries\n",
    "# Example: highest_paying_industries = pd.DataFrame({'industry_name': ['Tech', 'Finance', 'Healthcare'], 'average_salary': [120000, 115000, 110000]})\n",
    "\n",
    "plt.figure(figsize=(12, 8))\n",
    "sns.barplot(x='normalized_salary', y='industry_name', data=top_10_industries, palette='viridis')\n",
    "\n",
    "plt.title('Average Salary by Industry', fontsize=16)\n",
    "plt.xlabel('Average Salary (in $)', fontsize=14)\n",
    "plt.ylabel('Industry', fontsize=14)\n",
    "plt.xticks(rotation=45)\n",
    "plt.grid(axis='x', linestyle='--', alpha=0.7)\n",
    "plt.show()\n"
   ]
  },
  {
   "cell_type": "code",
   "execution_count": 86,
   "metadata": {},
   "outputs": [
    {
     "data": {
      "text/html": [
       "\n",
       "        <iframe\n",
       "            width=\"100%\"\n",
       "            height=\"650\"\n",
       "            src=\"http://127.0.0.1:8050/\"\n",
       "            frameborder=\"0\"\n",
       "            allowfullscreen\n",
       "            \n",
       "        ></iframe>\n",
       "        "
      ],
      "text/plain": [
       "<IPython.lib.display.IFrame at 0x24032607c50>"
      ]
     },
     "metadata": {},
     "output_type": "display_data"
    }
   ],
   "source": [
    "import dash\n",
    "from dash import dcc, html\n",
    "from dash.dependencies import Input, Output\n",
    "import plotly.express as px\n",
    "import pandas as pd\n",
    "from dash.dash_table import DataTable  # Import DataTable from dash_table\n",
    "\n",
    "# Sample DataFrame creation for illustration (replace this with your actual data)\n",
    "# Example structure: industry_salary_df = pd.DataFrame({'industry_name': [...], 'normalized_salary': [...]})\n",
    "\n",
    "# Assuming industry_salary_df is defined elsewhere\n",
    "# Get top 10 highest paying industries and sort by salary in descending order\n",
    "top_10_industries = industry_salary_df.nlargest(10, 'normalized_salary')\n",
    "\n",
    "category_order = top_10_industries['industry_name'].tolist()\n",
    "\n",
    "# Create the Dash app\n",
    "app = dash.Dash(__name__)\n",
    "\n",
    "app.layout = html.Div([\n",
    "    html.H1(\"Average Salary by Industry\", style={'textAlign': 'center', 'color': '#333', 'fontFamily': 'Arial'}),\n",
    "    dcc.Graph(\n",
    "        id='top-industry-bar-graph',\n",
    "        figure=px.bar(\n",
    "            top_10_industries,\n",
    "            x='normalized_salary',\n",
    "            y='industry_name',\n",
    "            orientation='h',\n",
    "            title='Top 10 Highest Paying Industries',\n",
    "            labels={'normalized_salary': 'Average Salary (in $)', 'industry_name': 'Industry'},\n",
    "            text='normalized_salary',\n",
    "            color='normalized_salary',\n",
    "            color_continuous_scale=px.colors.sequential.Viridis,\n",
    "            category_orders={'industry_name': category_order}  # Specify the order of categories\n",
    "        ).update_traces(\n",
    "            texttemplate='%{text:.2f}',  # Format the text on the bars\n",
    "            textposition='outside',\n",
    "            marker=dict(line=dict(width=2, color='DarkSlateGrey')),  # Add border around bars\n",
    "        ).update_layout(\n",
    "            title_x=0.5,  # Center title\n",
    "            title_font=dict(size=24, color='darkblue'),  # Title font\n",
    "            margin=dict(l=40, r=40, t=40, b=40),  # Set margins\n",
    "            plot_bgcolor='rgba(240, 240, 240, 0.95)',  # Light background\n",
    "            paper_bgcolor='rgba(255, 255, 255, 0.9)',  # Paper background\n",
    "            font=dict(size=14, color='black'),  # Font for all text\n",
    "            xaxis_title='Average Salary (in $)',\n",
    "            yaxis_title='Industry',\n",
    "            xaxis=dict(showgrid=True, gridcolor='LightGrey'),  # Add gridlines\n",
    "            yaxis=dict(showgrid=False),  # Disable gridlines on y-axis\n",
    "            hoverlabel=dict(bgcolor='white', font_size=12, font_family='Arial')  # Hover label styling\n",
    "        )\n",
    "    ),\n",
    "    html.H2(\"All Industries and Their Salaries\", style={'textAlign': 'center', 'color': 'blue', 'fontFamily': 'Arial'}),\n",
    "    dcc.Loading(\n",
    "        id=\"loading\",\n",
    "        type=\"default\",\n",
    "        children=[\n",
    "            html.Div(\n",
    "                DataTable(  # Use DataTable from dash_table\n",
    "                    id='industry-table',\n",
    "                    columns=[\n",
    "                        {\"name\": \"Industry\", \"id\": \"industry_name\"},  # Changed to 'Industry'\n",
    "                        {\"name\": \"Average Salary\", \"id\": \"normalized_salary\"},  # Changed to 'Average Salary'\n",
    "                    ],\n",
    "                    data=industry_salary_df.to_dict('records'),\n",
    "                    page_size=15,  # Number of rows per page\n",
    "                    style_table={'overflowY': 'auto', 'height': '400px'},  # Set fixed height and scroll\n",
    "                    style_cell={'textAlign': 'left', 'padding': '10px', 'border': '1px solid #e1e1e1'},\n",
    "                    style_header={'backgroundColor': 'lightgrey', 'fontWeight': 'bold', 'border': '1px solid #e1e1e1'},\n",
    "                    style_data={'whiteSpace': 'normal', 'height': 'auto', 'border': '1px solid #e1e1e1'},  # Allow auto height for rows\n",
    "                ),\n",
    "                style={'overflow': 'auto'}\n",
    "            )\n",
    "        ]\n",
    "    )\n",
    "])\n",
    "\n",
    "if __name__ == '__main__':\n",
    "    app.run_server(debug=True)\n"
   ]
  },
  {
   "cell_type": "code",
   "execution_count": 47,
   "metadata": {},
   "outputs": [
    {
     "data": {
      "application/vnd.plotly.v1+json": {
       "config": {
        "plotlyServerURL": "https://plot.ly"
       },
       "data": [
        {
         "alignmentgroup": "True",
         "customdata": [
          [
           1500
          ],
          [
           1200
          ],
          [
           800
          ],
          [
           600
          ],
          [
           400
          ]
         ],
         "hovertemplate": "<b>%{y}</b><br>Average Salary: $%{x:,.2f}<br>Number of Jobs: %{customdata[0]}<extra></extra>",
         "legendgroup": "",
         "marker": {
          "color": [
           120000,
           115000,
           110000,
           90000,
           80000
          ],
          "coloraxis": "coloraxis",
          "line": {
           "color": "black",
           "width": 2
          },
          "pattern": {
           "shape": ""
          }
         },
         "name": "",
         "offsetgroup": "",
         "opacity": 0.85,
         "orientation": "h",
         "showlegend": false,
         "text": [
          120000,
          115000,
          110000,
          90000,
          80000
         ],
         "textposition": "outside",
         "texttemplate": "%{text:,.2f}",
         "type": "bar",
         "x": [
          120000,
          115000,
          110000,
          90000,
          80000
         ],
         "xaxis": "x",
         "y": [
          "Tech",
          "Finance",
          "Healthcare",
          "Education",
          "Construction"
         ],
         "yaxis": "y"
        }
       ],
       "layout": {
        "barmode": "relative",
        "coloraxis": {
         "colorbar": {
          "title": {
           "text": "Average Salary (in $)"
          }
         },
         "colorscale": [
          [
           0,
           "#440154"
          ],
          [
           0.1111111111111111,
           "#482878"
          ],
          [
           0.2222222222222222,
           "#3e4989"
          ],
          [
           0.3333333333333333,
           "#31688e"
          ],
          [
           0.4444444444444444,
           "#26828e"
          ],
          [
           0.5555555555555556,
           "#1f9e89"
          ],
          [
           0.6666666666666666,
           "#35b779"
          ],
          [
           0.7777777777777778,
           "#6ece58"
          ],
          [
           0.8888888888888888,
           "#b5de2b"
          ],
          [
           1,
           "#fde725"
          ]
         ]
        },
        "font": {
         "color": "black",
         "size": 12
        },
        "legend": {
         "tracegroupgap": 0
        },
        "margin": {
         "b": 20,
         "l": 20,
         "r": 20,
         "t": 40
        },
        "plot_bgcolor": "rgba(255, 255, 255, 0)",
        "template": {
         "data": {
          "bar": [
           {
            "error_x": {
             "color": "#2a3f5f"
            },
            "error_y": {
             "color": "#2a3f5f"
            },
            "marker": {
             "line": {
              "color": "#E5ECF6",
              "width": 0.5
             },
             "pattern": {
              "fillmode": "overlay",
              "size": 10,
              "solidity": 0.2
             }
            },
            "type": "bar"
           }
          ],
          "barpolar": [
           {
            "marker": {
             "line": {
              "color": "#E5ECF6",
              "width": 0.5
             },
             "pattern": {
              "fillmode": "overlay",
              "size": 10,
              "solidity": 0.2
             }
            },
            "type": "barpolar"
           }
          ],
          "carpet": [
           {
            "aaxis": {
             "endlinecolor": "#2a3f5f",
             "gridcolor": "white",
             "linecolor": "white",
             "minorgridcolor": "white",
             "startlinecolor": "#2a3f5f"
            },
            "baxis": {
             "endlinecolor": "#2a3f5f",
             "gridcolor": "white",
             "linecolor": "white",
             "minorgridcolor": "white",
             "startlinecolor": "#2a3f5f"
            },
            "type": "carpet"
           }
          ],
          "choropleth": [
           {
            "colorbar": {
             "outlinewidth": 0,
             "ticks": ""
            },
            "type": "choropleth"
           }
          ],
          "contour": [
           {
            "colorbar": {
             "outlinewidth": 0,
             "ticks": ""
            },
            "colorscale": [
             [
              0,
              "#0d0887"
             ],
             [
              0.1111111111111111,
              "#46039f"
             ],
             [
              0.2222222222222222,
              "#7201a8"
             ],
             [
              0.3333333333333333,
              "#9c179e"
             ],
             [
              0.4444444444444444,
              "#bd3786"
             ],
             [
              0.5555555555555556,
              "#d8576b"
             ],
             [
              0.6666666666666666,
              "#ed7953"
             ],
             [
              0.7777777777777778,
              "#fb9f3a"
             ],
             [
              0.8888888888888888,
              "#fdca26"
             ],
             [
              1,
              "#f0f921"
             ]
            ],
            "type": "contour"
           }
          ],
          "contourcarpet": [
           {
            "colorbar": {
             "outlinewidth": 0,
             "ticks": ""
            },
            "type": "contourcarpet"
           }
          ],
          "heatmap": [
           {
            "colorbar": {
             "outlinewidth": 0,
             "ticks": ""
            },
            "colorscale": [
             [
              0,
              "#0d0887"
             ],
             [
              0.1111111111111111,
              "#46039f"
             ],
             [
              0.2222222222222222,
              "#7201a8"
             ],
             [
              0.3333333333333333,
              "#9c179e"
             ],
             [
              0.4444444444444444,
              "#bd3786"
             ],
             [
              0.5555555555555556,
              "#d8576b"
             ],
             [
              0.6666666666666666,
              "#ed7953"
             ],
             [
              0.7777777777777778,
              "#fb9f3a"
             ],
             [
              0.8888888888888888,
              "#fdca26"
             ],
             [
              1,
              "#f0f921"
             ]
            ],
            "type": "heatmap"
           }
          ],
          "heatmapgl": [
           {
            "colorbar": {
             "outlinewidth": 0,
             "ticks": ""
            },
            "colorscale": [
             [
              0,
              "#0d0887"
             ],
             [
              0.1111111111111111,
              "#46039f"
             ],
             [
              0.2222222222222222,
              "#7201a8"
             ],
             [
              0.3333333333333333,
              "#9c179e"
             ],
             [
              0.4444444444444444,
              "#bd3786"
             ],
             [
              0.5555555555555556,
              "#d8576b"
             ],
             [
              0.6666666666666666,
              "#ed7953"
             ],
             [
              0.7777777777777778,
              "#fb9f3a"
             ],
             [
              0.8888888888888888,
              "#fdca26"
             ],
             [
              1,
              "#f0f921"
             ]
            ],
            "type": "heatmapgl"
           }
          ],
          "histogram": [
           {
            "marker": {
             "pattern": {
              "fillmode": "overlay",
              "size": 10,
              "solidity": 0.2
             }
            },
            "type": "histogram"
           }
          ],
          "histogram2d": [
           {
            "colorbar": {
             "outlinewidth": 0,
             "ticks": ""
            },
            "colorscale": [
             [
              0,
              "#0d0887"
             ],
             [
              0.1111111111111111,
              "#46039f"
             ],
             [
              0.2222222222222222,
              "#7201a8"
             ],
             [
              0.3333333333333333,
              "#9c179e"
             ],
             [
              0.4444444444444444,
              "#bd3786"
             ],
             [
              0.5555555555555556,
              "#d8576b"
             ],
             [
              0.6666666666666666,
              "#ed7953"
             ],
             [
              0.7777777777777778,
              "#fb9f3a"
             ],
             [
              0.8888888888888888,
              "#fdca26"
             ],
             [
              1,
              "#f0f921"
             ]
            ],
            "type": "histogram2d"
           }
          ],
          "histogram2dcontour": [
           {
            "colorbar": {
             "outlinewidth": 0,
             "ticks": ""
            },
            "colorscale": [
             [
              0,
              "#0d0887"
             ],
             [
              0.1111111111111111,
              "#46039f"
             ],
             [
              0.2222222222222222,
              "#7201a8"
             ],
             [
              0.3333333333333333,
              "#9c179e"
             ],
             [
              0.4444444444444444,
              "#bd3786"
             ],
             [
              0.5555555555555556,
              "#d8576b"
             ],
             [
              0.6666666666666666,
              "#ed7953"
             ],
             [
              0.7777777777777778,
              "#fb9f3a"
             ],
             [
              0.8888888888888888,
              "#fdca26"
             ],
             [
              1,
              "#f0f921"
             ]
            ],
            "type": "histogram2dcontour"
           }
          ],
          "mesh3d": [
           {
            "colorbar": {
             "outlinewidth": 0,
             "ticks": ""
            },
            "type": "mesh3d"
           }
          ],
          "parcoords": [
           {
            "line": {
             "colorbar": {
              "outlinewidth": 0,
              "ticks": ""
             }
            },
            "type": "parcoords"
           }
          ],
          "pie": [
           {
            "automargin": true,
            "type": "pie"
           }
          ],
          "scatter": [
           {
            "fillpattern": {
             "fillmode": "overlay",
             "size": 10,
             "solidity": 0.2
            },
            "type": "scatter"
           }
          ],
          "scatter3d": [
           {
            "line": {
             "colorbar": {
              "outlinewidth": 0,
              "ticks": ""
             }
            },
            "marker": {
             "colorbar": {
              "outlinewidth": 0,
              "ticks": ""
             }
            },
            "type": "scatter3d"
           }
          ],
          "scattercarpet": [
           {
            "marker": {
             "colorbar": {
              "outlinewidth": 0,
              "ticks": ""
             }
            },
            "type": "scattercarpet"
           }
          ],
          "scattergeo": [
           {
            "marker": {
             "colorbar": {
              "outlinewidth": 0,
              "ticks": ""
             }
            },
            "type": "scattergeo"
           }
          ],
          "scattergl": [
           {
            "marker": {
             "colorbar": {
              "outlinewidth": 0,
              "ticks": ""
             }
            },
            "type": "scattergl"
           }
          ],
          "scattermapbox": [
           {
            "marker": {
             "colorbar": {
              "outlinewidth": 0,
              "ticks": ""
             }
            },
            "type": "scattermapbox"
           }
          ],
          "scatterpolar": [
           {
            "marker": {
             "colorbar": {
              "outlinewidth": 0,
              "ticks": ""
             }
            },
            "type": "scatterpolar"
           }
          ],
          "scatterpolargl": [
           {
            "marker": {
             "colorbar": {
              "outlinewidth": 0,
              "ticks": ""
             }
            },
            "type": "scatterpolargl"
           }
          ],
          "scatterternary": [
           {
            "marker": {
             "colorbar": {
              "outlinewidth": 0,
              "ticks": ""
             }
            },
            "type": "scatterternary"
           }
          ],
          "surface": [
           {
            "colorbar": {
             "outlinewidth": 0,
             "ticks": ""
            },
            "colorscale": [
             [
              0,
              "#0d0887"
             ],
             [
              0.1111111111111111,
              "#46039f"
             ],
             [
              0.2222222222222222,
              "#7201a8"
             ],
             [
              0.3333333333333333,
              "#9c179e"
             ],
             [
              0.4444444444444444,
              "#bd3786"
             ],
             [
              0.5555555555555556,
              "#d8576b"
             ],
             [
              0.6666666666666666,
              "#ed7953"
             ],
             [
              0.7777777777777778,
              "#fb9f3a"
             ],
             [
              0.8888888888888888,
              "#fdca26"
             ],
             [
              1,
              "#f0f921"
             ]
            ],
            "type": "surface"
           }
          ],
          "table": [
           {
            "cells": {
             "fill": {
              "color": "#EBF0F8"
             },
             "line": {
              "color": "white"
             }
            },
            "header": {
             "fill": {
              "color": "#C8D4E3"
             },
             "line": {
              "color": "white"
             }
            },
            "type": "table"
           }
          ]
         },
         "layout": {
          "annotationdefaults": {
           "arrowcolor": "#2a3f5f",
           "arrowhead": 0,
           "arrowwidth": 1
          },
          "autotypenumbers": "strict",
          "coloraxis": {
           "colorbar": {
            "outlinewidth": 0,
            "ticks": ""
           }
          },
          "colorscale": {
           "diverging": [
            [
             0,
             "#8e0152"
            ],
            [
             0.1,
             "#c51b7d"
            ],
            [
             0.2,
             "#de77ae"
            ],
            [
             0.3,
             "#f1b6da"
            ],
            [
             0.4,
             "#fde0ef"
            ],
            [
             0.5,
             "#f7f7f7"
            ],
            [
             0.6,
             "#e6f5d0"
            ],
            [
             0.7,
             "#b8e186"
            ],
            [
             0.8,
             "#7fbc41"
            ],
            [
             0.9,
             "#4d9221"
            ],
            [
             1,
             "#276419"
            ]
           ],
           "sequential": [
            [
             0,
             "#0d0887"
            ],
            [
             0.1111111111111111,
             "#46039f"
            ],
            [
             0.2222222222222222,
             "#7201a8"
            ],
            [
             0.3333333333333333,
             "#9c179e"
            ],
            [
             0.4444444444444444,
             "#bd3786"
            ],
            [
             0.5555555555555556,
             "#d8576b"
            ],
            [
             0.6666666666666666,
             "#ed7953"
            ],
            [
             0.7777777777777778,
             "#fb9f3a"
            ],
            [
             0.8888888888888888,
             "#fdca26"
            ],
            [
             1,
             "#f0f921"
            ]
           ],
           "sequentialminus": [
            [
             0,
             "#0d0887"
            ],
            [
             0.1111111111111111,
             "#46039f"
            ],
            [
             0.2222222222222222,
             "#7201a8"
            ],
            [
             0.3333333333333333,
             "#9c179e"
            ],
            [
             0.4444444444444444,
             "#bd3786"
            ],
            [
             0.5555555555555556,
             "#d8576b"
            ],
            [
             0.6666666666666666,
             "#ed7953"
            ],
            [
             0.7777777777777778,
             "#fb9f3a"
            ],
            [
             0.8888888888888888,
             "#fdca26"
            ],
            [
             1,
             "#f0f921"
            ]
           ]
          },
          "colorway": [
           "#636efa",
           "#EF553B",
           "#00cc96",
           "#ab63fa",
           "#FFA15A",
           "#19d3f3",
           "#FF6692",
           "#B6E880",
           "#FF97FF",
           "#FECB52"
          ],
          "font": {
           "color": "#2a3f5f"
          },
          "geo": {
           "bgcolor": "white",
           "lakecolor": "white",
           "landcolor": "#E5ECF6",
           "showlakes": true,
           "showland": true,
           "subunitcolor": "white"
          },
          "hoverlabel": {
           "align": "left"
          },
          "hovermode": "closest",
          "mapbox": {
           "style": "light"
          },
          "paper_bgcolor": "white",
          "plot_bgcolor": "#E5ECF6",
          "polar": {
           "angularaxis": {
            "gridcolor": "white",
            "linecolor": "white",
            "ticks": ""
           },
           "bgcolor": "#E5ECF6",
           "radialaxis": {
            "gridcolor": "white",
            "linecolor": "white",
            "ticks": ""
           }
          },
          "scene": {
           "xaxis": {
            "backgroundcolor": "#E5ECF6",
            "gridcolor": "white",
            "gridwidth": 2,
            "linecolor": "white",
            "showbackground": true,
            "ticks": "",
            "zerolinecolor": "white"
           },
           "yaxis": {
            "backgroundcolor": "#E5ECF6",
            "gridcolor": "white",
            "gridwidth": 2,
            "linecolor": "white",
            "showbackground": true,
            "ticks": "",
            "zerolinecolor": "white"
           },
           "zaxis": {
            "backgroundcolor": "#E5ECF6",
            "gridcolor": "white",
            "gridwidth": 2,
            "linecolor": "white",
            "showbackground": true,
            "ticks": "",
            "zerolinecolor": "white"
           }
          },
          "shapedefaults": {
           "line": {
            "color": "#2a3f5f"
           }
          },
          "ternary": {
           "aaxis": {
            "gridcolor": "white",
            "linecolor": "white",
            "ticks": ""
           },
           "baxis": {
            "gridcolor": "white",
            "linecolor": "white",
            "ticks": ""
           },
           "bgcolor": "#E5ECF6",
           "caxis": {
            "gridcolor": "white",
            "linecolor": "white",
            "ticks": ""
           }
          },
          "title": {
           "x": 0.05
          },
          "xaxis": {
           "automargin": true,
           "gridcolor": "white",
           "linecolor": "white",
           "ticks": "",
           "title": {
            "standoff": 15
           },
           "zerolinecolor": "white",
           "zerolinewidth": 2
          },
          "yaxis": {
           "automargin": true,
           "gridcolor": "white",
           "linecolor": "white",
           "ticks": "",
           "title": {
            "standoff": 15
           },
           "zerolinecolor": "white",
           "zerolinewidth": 2
          }
         }
        },
        "title": {
         "font": {
          "color": "darkblue",
          "size": 20
         },
         "text": "Average Salary by Industry"
        },
        "xaxis": {
         "anchor": "y",
         "domain": [
          0,
          1
         ],
         "title": {
          "font": {
           "size": 14
          },
          "text": "Average Salary (in $)"
         }
        },
        "yaxis": {
         "anchor": "x",
         "domain": [
          0,
          1
         ],
         "title": {
          "font": {
           "size": 14
          },
          "text": "Industry"
         }
        }
       }
      }
     },
     "metadata": {},
     "output_type": "display_data"
    }
   ],
   "source": [
    "import plotly.express as px\n",
    "\n",
    "# Example DataFrame with industry names and average salaries\n",
    "highest_paying_industries = pd.DataFrame({\n",
    "    'industry_name': ['Tech', 'Finance', 'Healthcare', 'Education', 'Construction'],\n",
    "    'average_salary': [120000, 115000, 110000, 90000, 80000],\n",
    "    'num_jobs': [1500, 1200, 800, 600, 400]  # Additional information for hover\n",
    "})\n",
    "\n",
    "# Create an interactive horizontal bar graph with enhanced styling\n",
    "fig = px.bar(\n",
    "    industry_salary_df,\n",
    "    x='normalized_salary',\n",
    "    y='industry_name',\n",
    "    orientation='h',\n",
    "    title='Average Salary by Industry',\n",
    "    labels={'average_salary': 'Average Salary (in $)', 'industry_name': 'Industry'},\n",
    "    text='average_salary',\n",
    "    hover_data={'average_salary': True, 'num_jobs': True},\n",
    "    color='average_salary',  # Color by average salary\n",
    "    color_continuous_scale=px.colors.sequential.Viridis  # Color scale\n",
    ")\n",
    "\n",
    "# Customize hover tooltip\n",
    "fig.update_traces(hovertemplate='<b>%{y}</b><br>Average Salary: $%{x:,.2f}<br>Number of Jobs: %{customdata[0]}<extra></extra>',\n",
    "                  texttemplate='%{text:,.2f}', textposition='outside', \n",
    "                  marker=dict(line=dict(width=2, color='black')),  # Add outline to bars\n",
    "                  opacity=0.85)  # Slightly transparent bars for depth\n",
    "\n",
    "# Adding a shadow effect using custom CSS style for aesthetics\n",
    "fig.update_layout(\n",
    "    title_font=dict(size=20, color='darkblue'),\n",
    "    xaxis_title_font=dict(size=14),\n",
    "    yaxis_title_font=dict(size=14),\n",
    "    font=dict(size=12, color='black'),\n",
    "    plot_bgcolor='rgba(255, 255, 255, 0)',  # Transparent background for the plot\n",
    "    margin=dict(l=20, r=20, t=40, b=20),  # Adjust margins for better spacing\n",
    ")\n",
    "\n",
    "# Show the interactive figure\n",
    "fig.show()\n"
   ]
  }
 ],
 "metadata": {
  "kernelspec": {
   "display_name": "Python 3",
   "language": "python",
   "name": "python3"
  },
  "language_info": {
   "codemirror_mode": {
    "name": "ipython",
    "version": 3
   },
   "file_extension": ".py",
   "mimetype": "text/x-python",
   "name": "python",
   "nbconvert_exporter": "python",
   "pygments_lexer": "ipython3",
   "version": "3.11.5"
  }
 },
 "nbformat": 4,
 "nbformat_minor": 2
}
