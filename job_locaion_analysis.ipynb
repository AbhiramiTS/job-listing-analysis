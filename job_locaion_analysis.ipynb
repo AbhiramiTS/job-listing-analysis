{
 "cells": [
  {
   "cell_type": "markdown",
   "metadata": {},
   "source": [
    "## Job Location Analysis\n",
    "\n",
    "#### **Geographical Trends:** Identify which locations have the highest number of job postings and the most lucrative salaries. What are the top cities for job seekers?\n"
   ]
  },
  {
   "cell_type": "code",
   "execution_count": 2,
   "metadata": {},
   "outputs": [],
   "source": [
    "import pandas as pd\n",
    "\n",
    "# Load the datasets\n",
    "postings = pd.read_csv('updated_data\\postings.csv')\n",
    "companies = pd.read_csv('updated_data\\company.csv')\n",
    "company_industries = pd.read_csv('updated_data\\company_industries.csv')\n",
    "company_specialities = pd.read_csv('updated_data\\company_specialities.csv')\n",
    "employee_counts = pd.read_csv('updated_data\\employee_counts.csv')\n",
    "salaries = pd.read_csv('updated_data\\salaries.csv')\n",
    "job_skills = pd.read_csv('updated_data\\Job_skills.csv')\n",
    "job_industries = pd.read_csv('updated_data\\modified_job_industries.csv')\n"
   ]
  },
  {
   "cell_type": "code",
   "execution_count": 8,
   "metadata": {},
   "outputs": [],
   "source": [
    "postings = postings.astype({\n",
    "    'job_id': 'int32',\n",
    "    'company_name': 'string',    # Use 'string' for modern text processing (like VARCHAR)\n",
    "    'title': 'string',\n",
    "    'description': 'string',\n",
    "    'pay_period': 'string',\n",
    "    'location': 'string',\n",
    "    'company_id': 'int32',\n",
    "    'views': 'int32',\n",
    "    'formatted_work_type': 'string',\n",
    "    'applies': 'int32',\n",
    "    'job_posting_url': 'string',\n",
    "    'work_type': 'string',\n",
    "    'normalized_salary': 'float',\n",
    "    'zip_code': 'string',\n",
    "    'fips': 'int32'\n",
    "})"
   ]
  },
  {
   "cell_type": "code",
   "execution_count": 10,
   "metadata": {},
   "outputs": [
    {
     "data": {
      "text/html": [
       "<div>\n",
       "<style scoped>\n",
       "    .dataframe tbody tr th:only-of-type {\n",
       "        vertical-align: middle;\n",
       "    }\n",
       "\n",
       "    .dataframe tbody tr th {\n",
       "        vertical-align: top;\n",
       "    }\n",
       "\n",
       "    .dataframe thead th {\n",
       "        text-align: right;\n",
       "    }\n",
       "</style>\n",
       "<table border=\"1\" class=\"dataframe\">\n",
       "  <thead>\n",
       "    <tr style=\"text-align: right;\">\n",
       "      <th></th>\n",
       "      <th>job_count</th>\n",
       "      <th>max_salary</th>\n",
       "    </tr>\n",
       "    <tr>\n",
       "      <th>location</th>\n",
       "      <th></th>\n",
       "      <th></th>\n",
       "    </tr>\n",
       "  </thead>\n",
       "  <tbody>\n",
       "    <tr>\n",
       "      <th>Aberdeen Proving Ground, MD</th>\n",
       "      <td>2</td>\n",
       "      <td>125000.0</td>\n",
       "    </tr>\n",
       "    <tr>\n",
       "      <th>Aberdeen, MD</th>\n",
       "      <td>1</td>\n",
       "      <td>132550.0</td>\n",
       "    </tr>\n",
       "    <tr>\n",
       "      <th>Aberdeen, WA</th>\n",
       "      <td>3</td>\n",
       "      <td>108160.0</td>\n",
       "    </tr>\n",
       "    <tr>\n",
       "      <th>Abilene, TX</th>\n",
       "      <td>8</td>\n",
       "      <td>78821.6</td>\n",
       "    </tr>\n",
       "    <tr>\n",
       "      <th>Abingdon, MD</th>\n",
       "      <td>1</td>\n",
       "      <td>77562.5</td>\n",
       "    </tr>\n",
       "    <tr>\n",
       "      <th>...</th>\n",
       "      <td>...</td>\n",
       "      <td>...</td>\n",
       "    </tr>\n",
       "    <tr>\n",
       "      <th>Yuma, AZ</th>\n",
       "      <td>3</td>\n",
       "      <td>123950.0</td>\n",
       "    </tr>\n",
       "    <tr>\n",
       "      <th>Zanesville, OH</th>\n",
       "      <td>2</td>\n",
       "      <td>50835.2</td>\n",
       "    </tr>\n",
       "    <tr>\n",
       "      <th>Zebulon, NC</th>\n",
       "      <td>2</td>\n",
       "      <td>110364.8</td>\n",
       "    </tr>\n",
       "    <tr>\n",
       "      <th>Zelienople, PA</th>\n",
       "      <td>1</td>\n",
       "      <td>97500.0</td>\n",
       "    </tr>\n",
       "    <tr>\n",
       "      <th>Zionsville, IN</th>\n",
       "      <td>3</td>\n",
       "      <td>85000.0</td>\n",
       "    </tr>\n",
       "  </tbody>\n",
       "</table>\n",
       "<p>4470 rows × 2 columns</p>\n",
       "</div>"
      ],
      "text/plain": [
       "                             job_count  max_salary\n",
       "location                                          \n",
       "Aberdeen Proving Ground, MD          2    125000.0\n",
       "Aberdeen, MD                         1    132550.0\n",
       "Aberdeen, WA                         3    108160.0\n",
       "Abilene, TX                          8     78821.6\n",
       "Abingdon, MD                         1     77562.5\n",
       "...                                ...         ...\n",
       "Yuma, AZ                             3    123950.0\n",
       "Zanesville, OH                       2     50835.2\n",
       "Zebulon, NC                          2    110364.8\n",
       "Zelienople, PA                       1     97500.0\n",
       "Zionsville, IN                       3     85000.0\n",
       "\n",
       "[4470 rows x 2 columns]"
      ]
     },
     "execution_count": 10,
     "metadata": {},
     "output_type": "execute_result"
    }
   ],
   "source": [
    "salary_job_stats_by_location = postings.groupby('location').agg(\n",
    "    job_count=('job_id', 'count'),\n",
    "    max_salary=('normalized_salary', 'max')\n",
    ")\n",
    "salary_job_stats_by_location"
   ]
  },
  {
   "cell_type": "code",
   "execution_count": 21,
   "metadata": {},
   "outputs": [],
   "source": [
    "# Disable scientific notation in pandas for floats\n",
    "pd.set_option('display.float_format', '{:.2f}'.format)"
   ]
  },
  {
   "cell_type": "code",
   "execution_count": 19,
   "metadata": {},
   "outputs": [
    {
     "data": {
      "text/html": [
       "<div>\n",
       "<style scoped>\n",
       "    .dataframe tbody tr th:only-of-type {\n",
       "        vertical-align: middle;\n",
       "    }\n",
       "\n",
       "    .dataframe tbody tr th {\n",
       "        vertical-align: top;\n",
       "    }\n",
       "\n",
       "    .dataframe thead th {\n",
       "        text-align: right;\n",
       "    }\n",
       "</style>\n",
       "<table border=\"1\" class=\"dataframe\">\n",
       "  <thead>\n",
       "    <tr style=\"text-align: right;\">\n",
       "      <th></th>\n",
       "      <th>job_count</th>\n",
       "      <th>max_salary</th>\n",
       "    </tr>\n",
       "    <tr>\n",
       "      <th>location</th>\n",
       "      <th></th>\n",
       "      <th></th>\n",
       "    </tr>\n",
       "  </thead>\n",
       "  <tbody>\n",
       "    <tr>\n",
       "      <th>Aberdeen Proving Ground, MD</th>\n",
       "      <td>2</td>\n",
       "      <td>125000.00</td>\n",
       "    </tr>\n",
       "    <tr>\n",
       "      <th>Aberdeen, MD</th>\n",
       "      <td>1</td>\n",
       "      <td>132550.00</td>\n",
       "    </tr>\n",
       "    <tr>\n",
       "      <th>Aberdeen, WA</th>\n",
       "      <td>3</td>\n",
       "      <td>108160.00</td>\n",
       "    </tr>\n",
       "    <tr>\n",
       "      <th>Abilene, TX</th>\n",
       "      <td>8</td>\n",
       "      <td>78821.60</td>\n",
       "    </tr>\n",
       "    <tr>\n",
       "      <th>Abingdon, MD</th>\n",
       "      <td>1</td>\n",
       "      <td>77562.50</td>\n",
       "    </tr>\n",
       "    <tr>\n",
       "      <th>...</th>\n",
       "      <td>...</td>\n",
       "      <td>...</td>\n",
       "    </tr>\n",
       "    <tr>\n",
       "      <th>Yuma, AZ</th>\n",
       "      <td>3</td>\n",
       "      <td>123950.00</td>\n",
       "    </tr>\n",
       "    <tr>\n",
       "      <th>Zanesville, OH</th>\n",
       "      <td>2</td>\n",
       "      <td>50835.20</td>\n",
       "    </tr>\n",
       "    <tr>\n",
       "      <th>Zebulon, NC</th>\n",
       "      <td>2</td>\n",
       "      <td>110364.80</td>\n",
       "    </tr>\n",
       "    <tr>\n",
       "      <th>Zelienople, PA</th>\n",
       "      <td>1</td>\n",
       "      <td>97500.00</td>\n",
       "    </tr>\n",
       "    <tr>\n",
       "      <th>Zionsville, IN</th>\n",
       "      <td>3</td>\n",
       "      <td>85000.00</td>\n",
       "    </tr>\n",
       "  </tbody>\n",
       "</table>\n",
       "<p>4470 rows × 2 columns</p>\n",
       "</div>"
      ],
      "text/plain": [
       "                             job_count  max_salary\n",
       "location                                          \n",
       "Aberdeen Proving Ground, MD          2   125000.00\n",
       "Aberdeen, MD                         1   132550.00\n",
       "Aberdeen, WA                         3   108160.00\n",
       "Abilene, TX                          8    78821.60\n",
       "Abingdon, MD                         1    77562.50\n",
       "...                                ...         ...\n",
       "Yuma, AZ                             3   123950.00\n",
       "Zanesville, OH                       2    50835.20\n",
       "Zebulon, NC                          2   110364.80\n",
       "Zelienople, PA                       1    97500.00\n",
       "Zionsville, IN                       3    85000.00\n",
       "\n",
       "[4470 rows x 2 columns]"
      ]
     },
     "execution_count": 19,
     "metadata": {},
     "output_type": "execute_result"
    }
   ],
   "source": [
    "salary_job_stats_by_location['max_salary'] = salary_job_stats_by_location['max_salary'].round(2)\n",
    "salary_job_stats_by_location"
   ]
  },
  {
   "cell_type": "code",
   "execution_count": 22,
   "metadata": {},
   "outputs": [
    {
     "data": {
      "text/html": [
       "<div>\n",
       "<style scoped>\n",
       "    .dataframe tbody tr th:only-of-type {\n",
       "        vertical-align: middle;\n",
       "    }\n",
       "\n",
       "    .dataframe tbody tr th {\n",
       "        vertical-align: top;\n",
       "    }\n",
       "\n",
       "    .dataframe thead th {\n",
       "        text-align: right;\n",
       "    }\n",
       "</style>\n",
       "<table border=\"1\" class=\"dataframe\">\n",
       "  <thead>\n",
       "    <tr style=\"text-align: right;\">\n",
       "      <th></th>\n",
       "      <th>job_count</th>\n",
       "      <th>max_salary</th>\n",
       "    </tr>\n",
       "    <tr>\n",
       "      <th>location</th>\n",
       "      <th></th>\n",
       "      <th></th>\n",
       "    </tr>\n",
       "  </thead>\n",
       "  <tbody>\n",
       "    <tr>\n",
       "      <th>United States</th>\n",
       "      <td>2556</td>\n",
       "      <td>6900400.00</td>\n",
       "    </tr>\n",
       "    <tr>\n",
       "      <th>New York, NY</th>\n",
       "      <td>1499</td>\n",
       "      <td>925000.00</td>\n",
       "    </tr>\n",
       "    <tr>\n",
       "      <th>Los Angeles, CA</th>\n",
       "      <td>522</td>\n",
       "      <td>415000.00</td>\n",
       "    </tr>\n",
       "    <tr>\n",
       "      <th>Chicago, IL</th>\n",
       "      <td>459</td>\n",
       "      <td>750000.00</td>\n",
       "    </tr>\n",
       "    <tr>\n",
       "      <th>New York City Metropolitan Area</th>\n",
       "      <td>446</td>\n",
       "      <td>875000.00</td>\n",
       "    </tr>\n",
       "    <tr>\n",
       "      <th>...</th>\n",
       "      <td>...</td>\n",
       "      <td>...</td>\n",
       "    </tr>\n",
       "    <tr>\n",
       "      <th>Wytheville, VA</th>\n",
       "      <td>1</td>\n",
       "      <td>71468.80</td>\n",
       "    </tr>\n",
       "    <tr>\n",
       "      <th>Yadkinville, NC</th>\n",
       "      <td>1</td>\n",
       "      <td>115000.00</td>\n",
       "    </tr>\n",
       "    <tr>\n",
       "      <th>Yolo County, CA</th>\n",
       "      <td>1</td>\n",
       "      <td>57336.00</td>\n",
       "    </tr>\n",
       "    <tr>\n",
       "      <th>York County, PA</th>\n",
       "      <td>1</td>\n",
       "      <td>140000.00</td>\n",
       "    </tr>\n",
       "    <tr>\n",
       "      <th>York, IN</th>\n",
       "      <td>1</td>\n",
       "      <td>59325.00</td>\n",
       "    </tr>\n",
       "  </tbody>\n",
       "</table>\n",
       "<p>4470 rows × 2 columns</p>\n",
       "</div>"
      ],
      "text/plain": [
       "                                 job_count  max_salary\n",
       "location                                              \n",
       "United States                         2556  6900400.00\n",
       "New York, NY                          1499   925000.00\n",
       "Los Angeles, CA                        522   415000.00\n",
       "Chicago, IL                            459   750000.00\n",
       "New York City Metropolitan Area        446   875000.00\n",
       "...                                    ...         ...\n",
       "Wytheville, VA                           1    71468.80\n",
       "Yadkinville, NC                          1   115000.00\n",
       "Yolo County, CA                          1    57336.00\n",
       "York County, PA                          1   140000.00\n",
       "York, IN                                 1    59325.00\n",
       "\n",
       "[4470 rows x 2 columns]"
      ]
     },
     "execution_count": 22,
     "metadata": {},
     "output_type": "execute_result"
    }
   ],
   "source": [
    "salary_job_stats_by_location_sorted = salary_job_stats_by_location.sort_values(by='job_count', ascending=False)\n",
    "\n",
    "salary_job_stats_by_location_sorted\n"
   ]
  },
  {
   "cell_type": "code",
   "execution_count": 26,
   "metadata": {},
   "outputs": [
    {
     "data": {
      "application/vnd.plotly.v1+json": {
       "config": {
        "plotlyServerURL": "https://plot.ly"
       },
       "data": [
        {
         "alignmentgroup": "True",
         "hovertemplate": "Max Salary=%{x}<br>location=%{y}<extra></extra>",
         "legendgroup": "",
         "marker": {
          "color": "indianred",
          "line": {
           "color": "black",
           "width": 1.5
          },
          "pattern": {
           "shape": ""
          }
         },
         "name": "",
         "offsetgroup": "",
         "orientation": "h",
         "showlegend": false,
         "textposition": "auto",
         "type": "bar",
         "x": [
          535600000,
          362408800,
          286000000,
          260000000,
          230423440,
          228800000,
          187200000,
          156000000,
          135200000,
          124800000
         ],
         "xaxis": "x",
         "y": [
          "Dallas, TX",
          "Roseville, CA",
          "Houston, TX",
          "Westwood, CA",
          "Lakeland, FL",
          "Springfield, Illinois Metropolitan Area",
          "Los Angeles County, CA",
          "Charleston, SC",
          "Anaheim, CA",
          "Bloomington, MN"
         ],
         "yaxis": "y"
        }
       ],
       "layout": {
        "autosize": false,
        "barmode": "relative",
        "height": 700,
        "legend": {
         "tracegroupgap": 0
        },
        "template": {
         "data": {
          "bar": [
           {
            "error_x": {
             "color": "#2a3f5f"
            },
            "error_y": {
             "color": "#2a3f5f"
            },
            "marker": {
             "line": {
              "color": "#E5ECF6",
              "width": 0.5
             },
             "pattern": {
              "fillmode": "overlay",
              "size": 10,
              "solidity": 0.2
             }
            },
            "type": "bar"
           }
          ],
          "barpolar": [
           {
            "marker": {
             "line": {
              "color": "#E5ECF6",
              "width": 0.5
             },
             "pattern": {
              "fillmode": "overlay",
              "size": 10,
              "solidity": 0.2
             }
            },
            "type": "barpolar"
           }
          ],
          "carpet": [
           {
            "aaxis": {
             "endlinecolor": "#2a3f5f",
             "gridcolor": "white",
             "linecolor": "white",
             "minorgridcolor": "white",
             "startlinecolor": "#2a3f5f"
            },
            "baxis": {
             "endlinecolor": "#2a3f5f",
             "gridcolor": "white",
             "linecolor": "white",
             "minorgridcolor": "white",
             "startlinecolor": "#2a3f5f"
            },
            "type": "carpet"
           }
          ],
          "choropleth": [
           {
            "colorbar": {
             "outlinewidth": 0,
             "ticks": ""
            },
            "type": "choropleth"
           }
          ],
          "contour": [
           {
            "colorbar": {
             "outlinewidth": 0,
             "ticks": ""
            },
            "colorscale": [
             [
              0,
              "#0d0887"
             ],
             [
              0.1111111111111111,
              "#46039f"
             ],
             [
              0.2222222222222222,
              "#7201a8"
             ],
             [
              0.3333333333333333,
              "#9c179e"
             ],
             [
              0.4444444444444444,
              "#bd3786"
             ],
             [
              0.5555555555555556,
              "#d8576b"
             ],
             [
              0.6666666666666666,
              "#ed7953"
             ],
             [
              0.7777777777777778,
              "#fb9f3a"
             ],
             [
              0.8888888888888888,
              "#fdca26"
             ],
             [
              1,
              "#f0f921"
             ]
            ],
            "type": "contour"
           }
          ],
          "contourcarpet": [
           {
            "colorbar": {
             "outlinewidth": 0,
             "ticks": ""
            },
            "type": "contourcarpet"
           }
          ],
          "heatmap": [
           {
            "colorbar": {
             "outlinewidth": 0,
             "ticks": ""
            },
            "colorscale": [
             [
              0,
              "#0d0887"
             ],
             [
              0.1111111111111111,
              "#46039f"
             ],
             [
              0.2222222222222222,
              "#7201a8"
             ],
             [
              0.3333333333333333,
              "#9c179e"
             ],
             [
              0.4444444444444444,
              "#bd3786"
             ],
             [
              0.5555555555555556,
              "#d8576b"
             ],
             [
              0.6666666666666666,
              "#ed7953"
             ],
             [
              0.7777777777777778,
              "#fb9f3a"
             ],
             [
              0.8888888888888888,
              "#fdca26"
             ],
             [
              1,
              "#f0f921"
             ]
            ],
            "type": "heatmap"
           }
          ],
          "heatmapgl": [
           {
            "colorbar": {
             "outlinewidth": 0,
             "ticks": ""
            },
            "colorscale": [
             [
              0,
              "#0d0887"
             ],
             [
              0.1111111111111111,
              "#46039f"
             ],
             [
              0.2222222222222222,
              "#7201a8"
             ],
             [
              0.3333333333333333,
              "#9c179e"
             ],
             [
              0.4444444444444444,
              "#bd3786"
             ],
             [
              0.5555555555555556,
              "#d8576b"
             ],
             [
              0.6666666666666666,
              "#ed7953"
             ],
             [
              0.7777777777777778,
              "#fb9f3a"
             ],
             [
              0.8888888888888888,
              "#fdca26"
             ],
             [
              1,
              "#f0f921"
             ]
            ],
            "type": "heatmapgl"
           }
          ],
          "histogram": [
           {
            "marker": {
             "pattern": {
              "fillmode": "overlay",
              "size": 10,
              "solidity": 0.2
             }
            },
            "type": "histogram"
           }
          ],
          "histogram2d": [
           {
            "colorbar": {
             "outlinewidth": 0,
             "ticks": ""
            },
            "colorscale": [
             [
              0,
              "#0d0887"
             ],
             [
              0.1111111111111111,
              "#46039f"
             ],
             [
              0.2222222222222222,
              "#7201a8"
             ],
             [
              0.3333333333333333,
              "#9c179e"
             ],
             [
              0.4444444444444444,
              "#bd3786"
             ],
             [
              0.5555555555555556,
              "#d8576b"
             ],
             [
              0.6666666666666666,
              "#ed7953"
             ],
             [
              0.7777777777777778,
              "#fb9f3a"
             ],
             [
              0.8888888888888888,
              "#fdca26"
             ],
             [
              1,
              "#f0f921"
             ]
            ],
            "type": "histogram2d"
           }
          ],
          "histogram2dcontour": [
           {
            "colorbar": {
             "outlinewidth": 0,
             "ticks": ""
            },
            "colorscale": [
             [
              0,
              "#0d0887"
             ],
             [
              0.1111111111111111,
              "#46039f"
             ],
             [
              0.2222222222222222,
              "#7201a8"
             ],
             [
              0.3333333333333333,
              "#9c179e"
             ],
             [
              0.4444444444444444,
              "#bd3786"
             ],
             [
              0.5555555555555556,
              "#d8576b"
             ],
             [
              0.6666666666666666,
              "#ed7953"
             ],
             [
              0.7777777777777778,
              "#fb9f3a"
             ],
             [
              0.8888888888888888,
              "#fdca26"
             ],
             [
              1,
              "#f0f921"
             ]
            ],
            "type": "histogram2dcontour"
           }
          ],
          "mesh3d": [
           {
            "colorbar": {
             "outlinewidth": 0,
             "ticks": ""
            },
            "type": "mesh3d"
           }
          ],
          "parcoords": [
           {
            "line": {
             "colorbar": {
              "outlinewidth": 0,
              "ticks": ""
             }
            },
            "type": "parcoords"
           }
          ],
          "pie": [
           {
            "automargin": true,
            "type": "pie"
           }
          ],
          "scatter": [
           {
            "fillpattern": {
             "fillmode": "overlay",
             "size": 10,
             "solidity": 0.2
            },
            "type": "scatter"
           }
          ],
          "scatter3d": [
           {
            "line": {
             "colorbar": {
              "outlinewidth": 0,
              "ticks": ""
             }
            },
            "marker": {
             "colorbar": {
              "outlinewidth": 0,
              "ticks": ""
             }
            },
            "type": "scatter3d"
           }
          ],
          "scattercarpet": [
           {
            "marker": {
             "colorbar": {
              "outlinewidth": 0,
              "ticks": ""
             }
            },
            "type": "scattercarpet"
           }
          ],
          "scattergeo": [
           {
            "marker": {
             "colorbar": {
              "outlinewidth": 0,
              "ticks": ""
             }
            },
            "type": "scattergeo"
           }
          ],
          "scattergl": [
           {
            "marker": {
             "colorbar": {
              "outlinewidth": 0,
              "ticks": ""
             }
            },
            "type": "scattergl"
           }
          ],
          "scattermapbox": [
           {
            "marker": {
             "colorbar": {
              "outlinewidth": 0,
              "ticks": ""
             }
            },
            "type": "scattermapbox"
           }
          ],
          "scatterpolar": [
           {
            "marker": {
             "colorbar": {
              "outlinewidth": 0,
              "ticks": ""
             }
            },
            "type": "scatterpolar"
           }
          ],
          "scatterpolargl": [
           {
            "marker": {
             "colorbar": {
              "outlinewidth": 0,
              "ticks": ""
             }
            },
            "type": "scatterpolargl"
           }
          ],
          "scatterternary": [
           {
            "marker": {
             "colorbar": {
              "outlinewidth": 0,
              "ticks": ""
             }
            },
            "type": "scatterternary"
           }
          ],
          "surface": [
           {
            "colorbar": {
             "outlinewidth": 0,
             "ticks": ""
            },
            "colorscale": [
             [
              0,
              "#0d0887"
             ],
             [
              0.1111111111111111,
              "#46039f"
             ],
             [
              0.2222222222222222,
              "#7201a8"
             ],
             [
              0.3333333333333333,
              "#9c179e"
             ],
             [
              0.4444444444444444,
              "#bd3786"
             ],
             [
              0.5555555555555556,
              "#d8576b"
             ],
             [
              0.6666666666666666,
              "#ed7953"
             ],
             [
              0.7777777777777778,
              "#fb9f3a"
             ],
             [
              0.8888888888888888,
              "#fdca26"
             ],
             [
              1,
              "#f0f921"
             ]
            ],
            "type": "surface"
           }
          ],
          "table": [
           {
            "cells": {
             "fill": {
              "color": "#EBF0F8"
             },
             "line": {
              "color": "white"
             }
            },
            "header": {
             "fill": {
              "color": "#C8D4E3"
             },
             "line": {
              "color": "white"
             }
            },
            "type": "table"
           }
          ]
         },
         "layout": {
          "annotationdefaults": {
           "arrowcolor": "#2a3f5f",
           "arrowhead": 0,
           "arrowwidth": 1
          },
          "autotypenumbers": "strict",
          "coloraxis": {
           "colorbar": {
            "outlinewidth": 0,
            "ticks": ""
           }
          },
          "colorscale": {
           "diverging": [
            [
             0,
             "#8e0152"
            ],
            [
             0.1,
             "#c51b7d"
            ],
            [
             0.2,
             "#de77ae"
            ],
            [
             0.3,
             "#f1b6da"
            ],
            [
             0.4,
             "#fde0ef"
            ],
            [
             0.5,
             "#f7f7f7"
            ],
            [
             0.6,
             "#e6f5d0"
            ],
            [
             0.7,
             "#b8e186"
            ],
            [
             0.8,
             "#7fbc41"
            ],
            [
             0.9,
             "#4d9221"
            ],
            [
             1,
             "#276419"
            ]
           ],
           "sequential": [
            [
             0,
             "#0d0887"
            ],
            [
             0.1111111111111111,
             "#46039f"
            ],
            [
             0.2222222222222222,
             "#7201a8"
            ],
            [
             0.3333333333333333,
             "#9c179e"
            ],
            [
             0.4444444444444444,
             "#bd3786"
            ],
            [
             0.5555555555555556,
             "#d8576b"
            ],
            [
             0.6666666666666666,
             "#ed7953"
            ],
            [
             0.7777777777777778,
             "#fb9f3a"
            ],
            [
             0.8888888888888888,
             "#fdca26"
            ],
            [
             1,
             "#f0f921"
            ]
           ],
           "sequentialminus": [
            [
             0,
             "#0d0887"
            ],
            [
             0.1111111111111111,
             "#46039f"
            ],
            [
             0.2222222222222222,
             "#7201a8"
            ],
            [
             0.3333333333333333,
             "#9c179e"
            ],
            [
             0.4444444444444444,
             "#bd3786"
            ],
            [
             0.5555555555555556,
             "#d8576b"
            ],
            [
             0.6666666666666666,
             "#ed7953"
            ],
            [
             0.7777777777777778,
             "#fb9f3a"
            ],
            [
             0.8888888888888888,
             "#fdca26"
            ],
            [
             1,
             "#f0f921"
            ]
           ]
          },
          "colorway": [
           "#636efa",
           "#EF553B",
           "#00cc96",
           "#ab63fa",
           "#FFA15A",
           "#19d3f3",
           "#FF6692",
           "#B6E880",
           "#FF97FF",
           "#FECB52"
          ],
          "font": {
           "color": "#2a3f5f"
          },
          "geo": {
           "bgcolor": "white",
           "lakecolor": "white",
           "landcolor": "#E5ECF6",
           "showlakes": true,
           "showland": true,
           "subunitcolor": "white"
          },
          "hoverlabel": {
           "align": "left"
          },
          "hovermode": "closest",
          "mapbox": {
           "style": "light"
          },
          "paper_bgcolor": "white",
          "plot_bgcolor": "#E5ECF6",
          "polar": {
           "angularaxis": {
            "gridcolor": "white",
            "linecolor": "white",
            "ticks": ""
           },
           "bgcolor": "#E5ECF6",
           "radialaxis": {
            "gridcolor": "white",
            "linecolor": "white",
            "ticks": ""
           }
          },
          "scene": {
           "xaxis": {
            "backgroundcolor": "#E5ECF6",
            "gridcolor": "white",
            "gridwidth": 2,
            "linecolor": "white",
            "showbackground": true,
            "ticks": "",
            "zerolinecolor": "white"
           },
           "yaxis": {
            "backgroundcolor": "#E5ECF6",
            "gridcolor": "white",
            "gridwidth": 2,
            "linecolor": "white",
            "showbackground": true,
            "ticks": "",
            "zerolinecolor": "white"
           },
           "zaxis": {
            "backgroundcolor": "#E5ECF6",
            "gridcolor": "white",
            "gridwidth": 2,
            "linecolor": "white",
            "showbackground": true,
            "ticks": "",
            "zerolinecolor": "white"
           }
          },
          "shapedefaults": {
           "line": {
            "color": "#2a3f5f"
           }
          },
          "ternary": {
           "aaxis": {
            "gridcolor": "white",
            "linecolor": "white",
            "ticks": ""
           },
           "baxis": {
            "gridcolor": "white",
            "linecolor": "white",
            "ticks": ""
           },
           "bgcolor": "#E5ECF6",
           "caxis": {
            "gridcolor": "white",
            "linecolor": "white",
            "ticks": ""
           }
          },
          "title": {
           "x": 0.05
          },
          "xaxis": {
           "automargin": true,
           "gridcolor": "white",
           "linecolor": "white",
           "ticks": "",
           "title": {
            "standoff": 15
           },
           "zerolinecolor": "white",
           "zerolinewidth": 2
          },
          "yaxis": {
           "automargin": true,
           "gridcolor": "white",
           "linecolor": "white",
           "ticks": "",
           "title": {
            "standoff": 15
           },
           "zerolinecolor": "white",
           "zerolinewidth": 2
          }
         }
        },
        "title": {
         "text": "Top 10 Locations by Max Salary or Job Count"
        },
        "updatemenus": [
         {
          "buttons": [
           {
            "args": [
             {
              "hovertemplate": "<b>Location</b>: %{y}<br><b>Max Salary</b>: $%{x:.2f}<extra></extra>",
              "type": "bar",
              "x": [
               [
                535600000,
                362408800,
                286000000,
                260000000,
                230423440,
                228800000,
                187200000,
                156000000,
                135200000,
                124800000
               ]
              ],
              "y": [
               [
                "Dallas, TX",
                "Roseville, CA",
                "Houston, TX",
                "Westwood, CA",
                "Lakeland, FL",
                "Springfield, Illinois Metropolitan Area",
                "Los Angeles County, CA",
                "Charleston, SC",
                "Anaheim, CA",
                "Bloomington, MN"
               ]
              ]
             }
            ],
            "label": "Max Salary",
            "method": "update"
           },
           {
            "args": [
             {
              "hovertemplate": "<b>Location</b>: %{y}<br><b>Job Count</b>: %{x}<extra></extra>",
              "type": "bar",
              "x": [
               [
                2556,
                1499,
                522,
                459,
                446,
                427,
                405,
                396,
                386,
                348
               ]
              ],
              "y": [
               [
                "United States",
                "New York, NY",
                "Los Angeles, CA",
                "Chicago, IL",
                "New York City Metropolitan Area",
                "Seattle, WA",
                "Denver, CO",
                "San Francisco, CA",
                "San Diego, CA",
                "Houston, TX"
               ]
              ]
             }
            ],
            "label": "Job Count",
            "method": "update"
           }
          ],
          "direction": "down",
          "pad": {
           "b": 40,
           "r": 10,
           "t": 20
          },
          "showactive": true,
          "x": 0.17,
          "xanchor": "left",
          "y": 1.1,
          "yanchor": "top"
         }
        ],
        "width": 900,
        "xaxis": {
         "anchor": "y",
         "domain": [
          0,
          1
         ],
         "title": {
          "text": "Values"
         }
        },
        "yaxis": {
         "anchor": "x",
         "categoryorder": "total ascending",
         "domain": [
          0,
          1
         ],
         "title": {
          "text": "Location"
         }
        }
       }
      }
     },
     "metadata": {},
     "output_type": "display_data"
    }
   ],
   "source": [
    "import plotly.express as px\n",
    "import plotly.graph_objects as go\n",
    "\n",
    "# Assuming 'salary_job_stats_by_location_sorted' is your sorted DataFrame\n",
    "# Select top 10 states based on salary and job count\n",
    "top_10_salary = salary_job_stats_by_location_sorted.nlargest(10, 'max_salary')\n",
    "top_10_job_count = salary_job_stats_by_location_sorted.nlargest(10, 'job_count')\n",
    "\n",
    "# Create the initial bar graph for salary\n",
    "fig = px.bar(\n",
    "    top_10_salary,\n",
    "    x='max_salary',\n",
    "    y=top_10_salary.index,\n",
    "    orientation='h',\n",
    "    labels={'max_salary': 'Max Salary', 'index': 'Location'},\n",
    "    title=\"Top 10 Locations by Max Salary\"\n",
    ")\n",
    "\n",
    "# Customize the hover template for salary\n",
    "hover_template_salary = '<b>Location</b>: %{y}<br><b>Max Salary</b>: $%{x:.2f}<extra></extra>'\n",
    "\n",
    "# Customize the hover template for job count\n",
    "hover_template_job_count = '<b>Location</b>: %{y}<br><b>Job Count</b>: %{x}<extra></extra>'\n",
    "\n",
    "# Add a dropdown filter to switch between 'salary' and 'job_count'\n",
    "fig.update_layout(\n",
    "    updatemenus=[\n",
    "        dict(\n",
    "            buttons=[\n",
    "                dict(\n",
    "                    args=[{\n",
    "                        'x': [top_10_salary['max_salary']],\n",
    "                        'y': [top_10_salary.index],\n",
    "                        'type': 'bar',\n",
    "                        'hovertemplate': hover_template_salary\n",
    "                    }],\n",
    "                    label=\"Max Salary\",\n",
    "                    method=\"update\"\n",
    "                ),\n",
    "                dict(\n",
    "                    args=[{\n",
    "                        'x': [top_10_job_count['job_count']],\n",
    "                        'y': [top_10_job_count.index],\n",
    "                        'type': 'bar',\n",
    "                        'hovertemplate': hover_template_job_count\n",
    "                    }],\n",
    "                    label=\"Job Count\",\n",
    "                    method=\"update\"\n",
    "                )\n",
    "            ],\n",
    "            direction=\"down\",\n",
    "            pad={\"r\": 10, \"t\": 20, \"b\": 40},  # Increased padding below the dropdown\n",
    "            showactive=True,\n",
    "            x=0.17,\n",
    "            xanchor=\"left\",\n",
    "            y=1.1,  # Adjust 'y' to move the dropdown lower\n",
    "            yanchor=\"top\"\n",
    "        ),\n",
    "    ]\n",
    ")\n",
    "\n",
    "# Update the layout to make the bar graph horizontal\n",
    "fig.update_traces(marker_color='indianred', marker_line_color='black', marker_line_width=1.5)\n",
    "fig.update_layout(\n",
    "    xaxis_title=\"Values\",\n",
    "    yaxis_title=\"Location\",\n",
    "    title=\"Top 10 Locations by Max Salary or Job Count\",\n",
    "    yaxis=dict(categoryorder='total ascending'),\n",
    "    autosize=False,\n",
    "    width=900,\n",
    "    height=700,  # Further increased height for more space below the dropdown\n",
    ")\n",
    "\n",
    "# Show the figure\n",
    "fig.show()\n"
   ]
  },
  {
   "cell_type": "markdown",
   "metadata": {},
   "source": [
    "#### **Remote Work Opportunities:** Analyze the growth of remote job postings. How has the percentage of remote jobs changed over time?"
   ]
  },
  {
   "cell_type": "code",
   "execution_count": 28,
   "metadata": {},
   "outputs": [
    {
     "data": {
      "text/html": [
       "<div>\n",
       "<style scoped>\n",
       "    .dataframe tbody tr th:only-of-type {\n",
       "        vertical-align: middle;\n",
       "    }\n",
       "\n",
       "    .dataframe tbody tr th {\n",
       "        vertical-align: top;\n",
       "    }\n",
       "\n",
       "    .dataframe thead th {\n",
       "        text-align: right;\n",
       "    }\n",
       "</style>\n",
       "<table border=\"1\" class=\"dataframe\">\n",
       "  <thead>\n",
       "    <tr style=\"text-align: right;\">\n",
       "      <th></th>\n",
       "      <th>job_id</th>\n",
       "      <th>company_name</th>\n",
       "      <th>title</th>\n",
       "      <th>description</th>\n",
       "      <th>pay_period</th>\n",
       "      <th>location</th>\n",
       "      <th>company_id</th>\n",
       "      <th>views</th>\n",
       "      <th>formatted_work_type</th>\n",
       "      <th>applies</th>\n",
       "      <th>original_listed_time</th>\n",
       "      <th>remote_allowed</th>\n",
       "      <th>job_posting_url</th>\n",
       "      <th>expiry</th>\n",
       "      <th>listed_time</th>\n",
       "      <th>work_type</th>\n",
       "      <th>normalized_salary</th>\n",
       "      <th>zip_code</th>\n",
       "      <th>fips</th>\n",
       "    </tr>\n",
       "  </thead>\n",
       "  <tbody>\n",
       "    <tr>\n",
       "      <th>0</th>\n",
       "      <td>921716</td>\n",
       "      <td>Corcoran Sawyer Smith</td>\n",
       "      <td>Marketing Coordinator</td>\n",
       "      <td>Job descriptionA leading real estate firm in N...</td>\n",
       "      <td>HOURLY</td>\n",
       "      <td>Princeton, NJ</td>\n",
       "      <td>2774458</td>\n",
       "      <td>20</td>\n",
       "      <td>Full-time</td>\n",
       "      <td>2</td>\n",
       "      <td>2024-04-17 23:45:08</td>\n",
       "      <td>False</td>\n",
       "      <td>https://www.linkedin.com/jobs/view/921716/?trk...</td>\n",
       "      <td>2024-05-17 23:45:08</td>\n",
       "      <td>2024-04-17 23:45:08</td>\n",
       "      <td>FULL_TIME</td>\n",
       "      <td>38480.00</td>\n",
       "      <td>8540.0</td>\n",
       "      <td>34021</td>\n",
       "    </tr>\n",
       "    <tr>\n",
       "      <th>1</th>\n",
       "      <td>10998357</td>\n",
       "      <td>The National Exemplar</td>\n",
       "      <td>Assitant Restaurant Manager</td>\n",
       "      <td>The National Exemplar is accepting application...</td>\n",
       "      <td>YEARLY</td>\n",
       "      <td>Cincinnati, OH</td>\n",
       "      <td>64896719</td>\n",
       "      <td>8</td>\n",
       "      <td>Full-time</td>\n",
       "      <td>0</td>\n",
       "      <td>2024-04-16 14:26:54</td>\n",
       "      <td>False</td>\n",
       "      <td>https://www.linkedin.com/jobs/view/10998357/?t...</td>\n",
       "      <td>2024-05-16 14:26:54</td>\n",
       "      <td>2024-04-16 14:26:54</td>\n",
       "      <td>FULL_TIME</td>\n",
       "      <td>55000.00</td>\n",
       "      <td>45202.0</td>\n",
       "      <td>39061</td>\n",
       "    </tr>\n",
       "    <tr>\n",
       "      <th>2</th>\n",
       "      <td>23221523</td>\n",
       "      <td>Abrams Fensterman, LLP</td>\n",
       "      <td>Senior Elder Law / Trusts and Estates Associat...</td>\n",
       "      <td>Senior Associate Attorney - Elder Law / Trusts...</td>\n",
       "      <td>YEARLY</td>\n",
       "      <td>New Hyde Park, NY</td>\n",
       "      <td>766262</td>\n",
       "      <td>16</td>\n",
       "      <td>Full-time</td>\n",
       "      <td>0</td>\n",
       "      <td>2024-04-12 04:23:32</td>\n",
       "      <td>False</td>\n",
       "      <td>https://www.linkedin.com/jobs/view/23221523/?t...</td>\n",
       "      <td>2024-05-12 04:23:32</td>\n",
       "      <td>2024-04-12 04:23:32</td>\n",
       "      <td>FULL_TIME</td>\n",
       "      <td>157500.00</td>\n",
       "      <td>11040.0</td>\n",
       "      <td>36059</td>\n",
       "    </tr>\n",
       "    <tr>\n",
       "      <th>3</th>\n",
       "      <td>91700727</td>\n",
       "      <td>Downtown Raleigh Alliance</td>\n",
       "      <td>Economic Development and Planning Intern</td>\n",
       "      <td>Job summary:The Economic Development &amp; Plannin...</td>\n",
       "      <td>HOURLY</td>\n",
       "      <td>Raleigh, NC</td>\n",
       "      <td>1481176</td>\n",
       "      <td>9</td>\n",
       "      <td>Internship</td>\n",
       "      <td>4</td>\n",
       "      <td>2024-04-18 16:01:39</td>\n",
       "      <td>False</td>\n",
       "      <td>https://www.linkedin.com/jobs/view/91700727/?t...</td>\n",
       "      <td>2024-05-18 16:01:39</td>\n",
       "      <td>2024-04-18 16:01:39</td>\n",
       "      <td>INTERNSHIP</td>\n",
       "      <td>35360.00</td>\n",
       "      <td>27601.0</td>\n",
       "      <td>37183</td>\n",
       "    </tr>\n",
       "    <tr>\n",
       "      <th>4</th>\n",
       "      <td>103254301</td>\n",
       "      <td>Raw Cereal</td>\n",
       "      <td>Producer</td>\n",
       "      <td>Company DescriptionRaw Cereal is a creative de...</td>\n",
       "      <td>YEARLY</td>\n",
       "      <td>United States</td>\n",
       "      <td>81942316</td>\n",
       "      <td>7</td>\n",
       "      <td>Contract</td>\n",
       "      <td>1</td>\n",
       "      <td>2024-04-11 18:43:39</td>\n",
       "      <td>True</td>\n",
       "      <td>https://www.linkedin.com/jobs/view/103254301/?...</td>\n",
       "      <td>2024-05-11 18:43:39</td>\n",
       "      <td>2024-04-11 18:43:39</td>\n",
       "      <td>CONTRACT</td>\n",
       "      <td>180000.00</td>\n",
       "      <td>Unknown</td>\n",
       "      <td>0</td>\n",
       "    </tr>\n",
       "  </tbody>\n",
       "</table>\n",
       "</div>"
      ],
      "text/plain": [
       "      job_id               company_name  \\\n",
       "0     921716      Corcoran Sawyer Smith   \n",
       "1   10998357     The National Exemplar    \n",
       "2   23221523     Abrams Fensterman, LLP   \n",
       "3   91700727  Downtown Raleigh Alliance   \n",
       "4  103254301                 Raw Cereal   \n",
       "\n",
       "                                               title  \\\n",
       "0                              Marketing Coordinator   \n",
       "1                        Assitant Restaurant Manager   \n",
       "2  Senior Elder Law / Trusts and Estates Associat...   \n",
       "3           Economic Development and Planning Intern   \n",
       "4                                           Producer   \n",
       "\n",
       "                                         description pay_period  \\\n",
       "0  Job descriptionA leading real estate firm in N...     HOURLY   \n",
       "1  The National Exemplar is accepting application...     YEARLY   \n",
       "2  Senior Associate Attorney - Elder Law / Trusts...     YEARLY   \n",
       "3  Job summary:The Economic Development & Plannin...     HOURLY   \n",
       "4  Company DescriptionRaw Cereal is a creative de...     YEARLY   \n",
       "\n",
       "            location  company_id  views formatted_work_type  applies  \\\n",
       "0      Princeton, NJ     2774458     20           Full-time        2   \n",
       "1     Cincinnati, OH    64896719      8           Full-time        0   \n",
       "2  New Hyde Park, NY      766262     16           Full-time        0   \n",
       "3        Raleigh, NC     1481176      9          Internship        4   \n",
       "4      United States    81942316      7            Contract        1   \n",
       "\n",
       "  original_listed_time  remote_allowed  \\\n",
       "0  2024-04-17 23:45:08           False   \n",
       "1  2024-04-16 14:26:54           False   \n",
       "2  2024-04-12 04:23:32           False   \n",
       "3  2024-04-18 16:01:39           False   \n",
       "4  2024-04-11 18:43:39            True   \n",
       "\n",
       "                                     job_posting_url               expiry  \\\n",
       "0  https://www.linkedin.com/jobs/view/921716/?trk...  2024-05-17 23:45:08   \n",
       "1  https://www.linkedin.com/jobs/view/10998357/?t...  2024-05-16 14:26:54   \n",
       "2  https://www.linkedin.com/jobs/view/23221523/?t...  2024-05-12 04:23:32   \n",
       "3  https://www.linkedin.com/jobs/view/91700727/?t...  2024-05-18 16:01:39   \n",
       "4  https://www.linkedin.com/jobs/view/103254301/?...  2024-05-11 18:43:39   \n",
       "\n",
       "           listed_time   work_type  normalized_salary zip_code   fips  \n",
       "0  2024-04-17 23:45:08   FULL_TIME           38480.00   8540.0  34021  \n",
       "1  2024-04-16 14:26:54   FULL_TIME           55000.00  45202.0  39061  \n",
       "2  2024-04-12 04:23:32   FULL_TIME          157500.00  11040.0  36059  \n",
       "3  2024-04-18 16:01:39  INTERNSHIP           35360.00  27601.0  37183  \n",
       "4  2024-04-11 18:43:39    CONTRACT          180000.00  Unknown      0  "
      ]
     },
     "execution_count": 28,
     "metadata": {},
     "output_type": "execute_result"
    }
   ],
   "source": [
    "postings.head(5)"
   ]
  },
  {
   "cell_type": "code",
   "execution_count": 30,
   "metadata": {},
   "outputs": [
    {
     "data": {
      "text/plain": [
       "remote_allowed\n",
       "False    30809\n",
       "True      4755\n",
       "Name: count, dtype: int64"
      ]
     },
     "execution_count": 30,
     "metadata": {},
     "output_type": "execute_result"
    }
   ],
   "source": [
    "remote_allowed_counts = postings['remote_allowed'].value_counts()\n",
    "remote_allowed_counts"
   ]
  },
  {
   "cell_type": "code",
   "execution_count": 54,
   "metadata": {},
   "outputs": [
    {
     "data": {
      "application/vnd.plotly.v1+json": {
       "config": {
        "plotlyServerURL": "https://plot.ly"
       },
       "data": [
        {
         "alignmentgroup": "True",
         "hovertemplate": "Max Salary=%{x}<br>location=%{y}<extra></extra>",
         "legendgroup": "",
         "marker": {
          "color": "indianred",
          "line": {
           "color": "black",
           "width": 1.5
          },
          "pattern": {
           "shape": ""
          }
         },
         "name": "",
         "offsetgroup": "",
         "orientation": "h",
         "showlegend": false,
         "textposition": "auto",
         "type": "bar",
         "x": [
          535600000,
          362408800,
          286000000,
          260000000,
          230423440,
          228800000,
          187200000,
          156000000,
          135200000,
          124800000
         ],
         "xaxis": "x",
         "y": [
          "Dallas, TX",
          "Roseville, CA",
          "Houston, TX",
          "Westwood, CA",
          "Lakeland, FL",
          "Springfield, Illinois Metropolitan Area",
          "Los Angeles County, CA",
          "Charleston, SC",
          "Anaheim, CA",
          "Bloomington, MN"
         ],
         "yaxis": "y"
        }
       ],
       "layout": {
        "annotations": [
         {
          "align": "center",
          "bgcolor": "green",
          "bordercolor": "black",
          "borderpad": 10,
          "borderwidth": 2,
          "font": {
           "color": "black",
           "family": "Arial",
           "size": 14
          },
          "height": 40,
          "showarrow": false,
          "text": "<b>Onsite</b>: 30809",
          "width": 100,
          "x": 0.7,
          "xref": "paper",
          "y": 1.2,
          "yref": "paper"
         },
         {
          "align": "center",
          "bgcolor": "blue",
          "bordercolor": "black",
          "borderpad": 10,
          "borderwidth": 2,
          "font": {
           "color": "black",
           "family": "Arial",
           "size": 14
          },
          "height": 40,
          "showarrow": false,
          "text": "<b>Remote</b>: 4755",
          "width": 100,
          "x": 0.95,
          "xref": "paper",
          "y": 1.2,
          "yref": "paper"
         }
        ],
        "autosize": false,
        "barmode": "relative",
        "height": 700,
        "legend": {
         "tracegroupgap": 0
        },
        "margin": {
         "b": 50,
         "l": 50,
         "r": 50,
         "t": 120
        },
        "template": {
         "data": {
          "bar": [
           {
            "error_x": {
             "color": "#2a3f5f"
            },
            "error_y": {
             "color": "#2a3f5f"
            },
            "marker": {
             "line": {
              "color": "#E5ECF6",
              "width": 0.5
             },
             "pattern": {
              "fillmode": "overlay",
              "size": 10,
              "solidity": 0.2
             }
            },
            "type": "bar"
           }
          ],
          "barpolar": [
           {
            "marker": {
             "line": {
              "color": "#E5ECF6",
              "width": 0.5
             },
             "pattern": {
              "fillmode": "overlay",
              "size": 10,
              "solidity": 0.2
             }
            },
            "type": "barpolar"
           }
          ],
          "carpet": [
           {
            "aaxis": {
             "endlinecolor": "#2a3f5f",
             "gridcolor": "white",
             "linecolor": "white",
             "minorgridcolor": "white",
             "startlinecolor": "#2a3f5f"
            },
            "baxis": {
             "endlinecolor": "#2a3f5f",
             "gridcolor": "white",
             "linecolor": "white",
             "minorgridcolor": "white",
             "startlinecolor": "#2a3f5f"
            },
            "type": "carpet"
           }
          ],
          "choropleth": [
           {
            "colorbar": {
             "outlinewidth": 0,
             "ticks": ""
            },
            "type": "choropleth"
           }
          ],
          "contour": [
           {
            "colorbar": {
             "outlinewidth": 0,
             "ticks": ""
            },
            "colorscale": [
             [
              0,
              "#0d0887"
             ],
             [
              0.1111111111111111,
              "#46039f"
             ],
             [
              0.2222222222222222,
              "#7201a8"
             ],
             [
              0.3333333333333333,
              "#9c179e"
             ],
             [
              0.4444444444444444,
              "#bd3786"
             ],
             [
              0.5555555555555556,
              "#d8576b"
             ],
             [
              0.6666666666666666,
              "#ed7953"
             ],
             [
              0.7777777777777778,
              "#fb9f3a"
             ],
             [
              0.8888888888888888,
              "#fdca26"
             ],
             [
              1,
              "#f0f921"
             ]
            ],
            "type": "contour"
           }
          ],
          "contourcarpet": [
           {
            "colorbar": {
             "outlinewidth": 0,
             "ticks": ""
            },
            "type": "contourcarpet"
           }
          ],
          "heatmap": [
           {
            "colorbar": {
             "outlinewidth": 0,
             "ticks": ""
            },
            "colorscale": [
             [
              0,
              "#0d0887"
             ],
             [
              0.1111111111111111,
              "#46039f"
             ],
             [
              0.2222222222222222,
              "#7201a8"
             ],
             [
              0.3333333333333333,
              "#9c179e"
             ],
             [
              0.4444444444444444,
              "#bd3786"
             ],
             [
              0.5555555555555556,
              "#d8576b"
             ],
             [
              0.6666666666666666,
              "#ed7953"
             ],
             [
              0.7777777777777778,
              "#fb9f3a"
             ],
             [
              0.8888888888888888,
              "#fdca26"
             ],
             [
              1,
              "#f0f921"
             ]
            ],
            "type": "heatmap"
           }
          ],
          "heatmapgl": [
           {
            "colorbar": {
             "outlinewidth": 0,
             "ticks": ""
            },
            "colorscale": [
             [
              0,
              "#0d0887"
             ],
             [
              0.1111111111111111,
              "#46039f"
             ],
             [
              0.2222222222222222,
              "#7201a8"
             ],
             [
              0.3333333333333333,
              "#9c179e"
             ],
             [
              0.4444444444444444,
              "#bd3786"
             ],
             [
              0.5555555555555556,
              "#d8576b"
             ],
             [
              0.6666666666666666,
              "#ed7953"
             ],
             [
              0.7777777777777778,
              "#fb9f3a"
             ],
             [
              0.8888888888888888,
              "#fdca26"
             ],
             [
              1,
              "#f0f921"
             ]
            ],
            "type": "heatmapgl"
           }
          ],
          "histogram": [
           {
            "marker": {
             "pattern": {
              "fillmode": "overlay",
              "size": 10,
              "solidity": 0.2
             }
            },
            "type": "histogram"
           }
          ],
          "histogram2d": [
           {
            "colorbar": {
             "outlinewidth": 0,
             "ticks": ""
            },
            "colorscale": [
             [
              0,
              "#0d0887"
             ],
             [
              0.1111111111111111,
              "#46039f"
             ],
             [
              0.2222222222222222,
              "#7201a8"
             ],
             [
              0.3333333333333333,
              "#9c179e"
             ],
             [
              0.4444444444444444,
              "#bd3786"
             ],
             [
              0.5555555555555556,
              "#d8576b"
             ],
             [
              0.6666666666666666,
              "#ed7953"
             ],
             [
              0.7777777777777778,
              "#fb9f3a"
             ],
             [
              0.8888888888888888,
              "#fdca26"
             ],
             [
              1,
              "#f0f921"
             ]
            ],
            "type": "histogram2d"
           }
          ],
          "histogram2dcontour": [
           {
            "colorbar": {
             "outlinewidth": 0,
             "ticks": ""
            },
            "colorscale": [
             [
              0,
              "#0d0887"
             ],
             [
              0.1111111111111111,
              "#46039f"
             ],
             [
              0.2222222222222222,
              "#7201a8"
             ],
             [
              0.3333333333333333,
              "#9c179e"
             ],
             [
              0.4444444444444444,
              "#bd3786"
             ],
             [
              0.5555555555555556,
              "#d8576b"
             ],
             [
              0.6666666666666666,
              "#ed7953"
             ],
             [
              0.7777777777777778,
              "#fb9f3a"
             ],
             [
              0.8888888888888888,
              "#fdca26"
             ],
             [
              1,
              "#f0f921"
             ]
            ],
            "type": "histogram2dcontour"
           }
          ],
          "mesh3d": [
           {
            "colorbar": {
             "outlinewidth": 0,
             "ticks": ""
            },
            "type": "mesh3d"
           }
          ],
          "parcoords": [
           {
            "line": {
             "colorbar": {
              "outlinewidth": 0,
              "ticks": ""
             }
            },
            "type": "parcoords"
           }
          ],
          "pie": [
           {
            "automargin": true,
            "type": "pie"
           }
          ],
          "scatter": [
           {
            "fillpattern": {
             "fillmode": "overlay",
             "size": 10,
             "solidity": 0.2
            },
            "type": "scatter"
           }
          ],
          "scatter3d": [
           {
            "line": {
             "colorbar": {
              "outlinewidth": 0,
              "ticks": ""
             }
            },
            "marker": {
             "colorbar": {
              "outlinewidth": 0,
              "ticks": ""
             }
            },
            "type": "scatter3d"
           }
          ],
          "scattercarpet": [
           {
            "marker": {
             "colorbar": {
              "outlinewidth": 0,
              "ticks": ""
             }
            },
            "type": "scattercarpet"
           }
          ],
          "scattergeo": [
           {
            "marker": {
             "colorbar": {
              "outlinewidth": 0,
              "ticks": ""
             }
            },
            "type": "scattergeo"
           }
          ],
          "scattergl": [
           {
            "marker": {
             "colorbar": {
              "outlinewidth": 0,
              "ticks": ""
             }
            },
            "type": "scattergl"
           }
          ],
          "scattermapbox": [
           {
            "marker": {
             "colorbar": {
              "outlinewidth": 0,
              "ticks": ""
             }
            },
            "type": "scattermapbox"
           }
          ],
          "scatterpolar": [
           {
            "marker": {
             "colorbar": {
              "outlinewidth": 0,
              "ticks": ""
             }
            },
            "type": "scatterpolar"
           }
          ],
          "scatterpolargl": [
           {
            "marker": {
             "colorbar": {
              "outlinewidth": 0,
              "ticks": ""
             }
            },
            "type": "scatterpolargl"
           }
          ],
          "scatterternary": [
           {
            "marker": {
             "colorbar": {
              "outlinewidth": 0,
              "ticks": ""
             }
            },
            "type": "scatterternary"
           }
          ],
          "surface": [
           {
            "colorbar": {
             "outlinewidth": 0,
             "ticks": ""
            },
            "colorscale": [
             [
              0,
              "#0d0887"
             ],
             [
              0.1111111111111111,
              "#46039f"
             ],
             [
              0.2222222222222222,
              "#7201a8"
             ],
             [
              0.3333333333333333,
              "#9c179e"
             ],
             [
              0.4444444444444444,
              "#bd3786"
             ],
             [
              0.5555555555555556,
              "#d8576b"
             ],
             [
              0.6666666666666666,
              "#ed7953"
             ],
             [
              0.7777777777777778,
              "#fb9f3a"
             ],
             [
              0.8888888888888888,
              "#fdca26"
             ],
             [
              1,
              "#f0f921"
             ]
            ],
            "type": "surface"
           }
          ],
          "table": [
           {
            "cells": {
             "fill": {
              "color": "#EBF0F8"
             },
             "line": {
              "color": "white"
             }
            },
            "header": {
             "fill": {
              "color": "#C8D4E3"
             },
             "line": {
              "color": "white"
             }
            },
            "type": "table"
           }
          ]
         },
         "layout": {
          "annotationdefaults": {
           "arrowcolor": "#2a3f5f",
           "arrowhead": 0,
           "arrowwidth": 1
          },
          "autotypenumbers": "strict",
          "coloraxis": {
           "colorbar": {
            "outlinewidth": 0,
            "ticks": ""
           }
          },
          "colorscale": {
           "diverging": [
            [
             0,
             "#8e0152"
            ],
            [
             0.1,
             "#c51b7d"
            ],
            [
             0.2,
             "#de77ae"
            ],
            [
             0.3,
             "#f1b6da"
            ],
            [
             0.4,
             "#fde0ef"
            ],
            [
             0.5,
             "#f7f7f7"
            ],
            [
             0.6,
             "#e6f5d0"
            ],
            [
             0.7,
             "#b8e186"
            ],
            [
             0.8,
             "#7fbc41"
            ],
            [
             0.9,
             "#4d9221"
            ],
            [
             1,
             "#276419"
            ]
           ],
           "sequential": [
            [
             0,
             "#0d0887"
            ],
            [
             0.1111111111111111,
             "#46039f"
            ],
            [
             0.2222222222222222,
             "#7201a8"
            ],
            [
             0.3333333333333333,
             "#9c179e"
            ],
            [
             0.4444444444444444,
             "#bd3786"
            ],
            [
             0.5555555555555556,
             "#d8576b"
            ],
            [
             0.6666666666666666,
             "#ed7953"
            ],
            [
             0.7777777777777778,
             "#fb9f3a"
            ],
            [
             0.8888888888888888,
             "#fdca26"
            ],
            [
             1,
             "#f0f921"
            ]
           ],
           "sequentialminus": [
            [
             0,
             "#0d0887"
            ],
            [
             0.1111111111111111,
             "#46039f"
            ],
            [
             0.2222222222222222,
             "#7201a8"
            ],
            [
             0.3333333333333333,
             "#9c179e"
            ],
            [
             0.4444444444444444,
             "#bd3786"
            ],
            [
             0.5555555555555556,
             "#d8576b"
            ],
            [
             0.6666666666666666,
             "#ed7953"
            ],
            [
             0.7777777777777778,
             "#fb9f3a"
            ],
            [
             0.8888888888888888,
             "#fdca26"
            ],
            [
             1,
             "#f0f921"
            ]
           ]
          },
          "colorway": [
           "#636efa",
           "#EF553B",
           "#00cc96",
           "#ab63fa",
           "#FFA15A",
           "#19d3f3",
           "#FF6692",
           "#B6E880",
           "#FF97FF",
           "#FECB52"
          ],
          "font": {
           "color": "#2a3f5f"
          },
          "geo": {
           "bgcolor": "white",
           "lakecolor": "white",
           "landcolor": "#E5ECF6",
           "showlakes": true,
           "showland": true,
           "subunitcolor": "white"
          },
          "hoverlabel": {
           "align": "left"
          },
          "hovermode": "closest",
          "mapbox": {
           "style": "light"
          },
          "paper_bgcolor": "white",
          "plot_bgcolor": "#E5ECF6",
          "polar": {
           "angularaxis": {
            "gridcolor": "white",
            "linecolor": "white",
            "ticks": ""
           },
           "bgcolor": "#E5ECF6",
           "radialaxis": {
            "gridcolor": "white",
            "linecolor": "white",
            "ticks": ""
           }
          },
          "scene": {
           "xaxis": {
            "backgroundcolor": "#E5ECF6",
            "gridcolor": "white",
            "gridwidth": 2,
            "linecolor": "white",
            "showbackground": true,
            "ticks": "",
            "zerolinecolor": "white"
           },
           "yaxis": {
            "backgroundcolor": "#E5ECF6",
            "gridcolor": "white",
            "gridwidth": 2,
            "linecolor": "white",
            "showbackground": true,
            "ticks": "",
            "zerolinecolor": "white"
           },
           "zaxis": {
            "backgroundcolor": "#E5ECF6",
            "gridcolor": "white",
            "gridwidth": 2,
            "linecolor": "white",
            "showbackground": true,
            "ticks": "",
            "zerolinecolor": "white"
           }
          },
          "shapedefaults": {
           "line": {
            "color": "#2a3f5f"
           }
          },
          "ternary": {
           "aaxis": {
            "gridcolor": "white",
            "linecolor": "white",
            "ticks": ""
           },
           "baxis": {
            "gridcolor": "white",
            "linecolor": "white",
            "ticks": ""
           },
           "bgcolor": "#E5ECF6",
           "caxis": {
            "gridcolor": "white",
            "linecolor": "white",
            "ticks": ""
           }
          },
          "title": {
           "x": 0.05
          },
          "xaxis": {
           "automargin": true,
           "gridcolor": "white",
           "linecolor": "white",
           "ticks": "",
           "title": {
            "standoff": 15
           },
           "zerolinecolor": "white",
           "zerolinewidth": 2
          },
          "yaxis": {
           "automargin": true,
           "gridcolor": "white",
           "linecolor": "white",
           "ticks": "",
           "title": {
            "standoff": 15
           },
           "zerolinecolor": "white",
           "zerolinewidth": 2
          }
         }
        },
        "title": {
         "text": "Top 10 Locations by Max Salary or Job Count"
        },
        "updatemenus": [
         {
          "buttons": [
           {
            "args": [
             {
              "hovertemplate": "<b>Location</b>: %{y}<br><b>Max Salary</b>: $%{x:.2f}<extra></extra>",
              "type": "bar",
              "x": [
               [
                535600000,
                362408800,
                286000000,
                260000000,
                230423440,
                228800000,
                187200000,
                156000000,
                135200000,
                124800000
               ]
              ],
              "y": [
               [
                "Dallas, TX",
                "Roseville, CA",
                "Houston, TX",
                "Westwood, CA",
                "Lakeland, FL",
                "Springfield, Illinois Metropolitan Area",
                "Los Angeles County, CA",
                "Charleston, SC",
                "Anaheim, CA",
                "Bloomington, MN"
               ]
              ]
             }
            ],
            "label": "Max Salary",
            "method": "update"
           },
           {
            "args": [
             {
              "hovertemplate": "<b>Location</b>: %{y}<br><b>Job Count</b>: %{x}<extra></extra>",
              "type": "bar",
              "x": [
               [
                2556,
                1499,
                522,
                459,
                446,
                427,
                405,
                396,
                386,
                348
               ]
              ],
              "y": [
               [
                "United States",
                "New York, NY",
                "Los Angeles, CA",
                "Chicago, IL",
                "New York City Metropolitan Area",
                "Seattle, WA",
                "Denver, CO",
                "San Francisco, CA",
                "San Diego, CA",
                "Houston, TX"
               ]
              ]
             }
            ],
            "label": "Job Count",
            "method": "update"
           }
          ],
          "direction": "down",
          "pad": {
           "b": 100,
           "r": 70,
           "t": 80
          },
          "showactive": true,
          "x": 0.17,
          "xanchor": "left",
          "y": 1.3,
          "yanchor": "top"
         }
        ],
        "width": 900,
        "xaxis": {
         "anchor": "y",
         "domain": [
          0,
          1
         ],
         "title": {
          "text": "Values"
         }
        },
        "yaxis": {
         "anchor": "x",
         "categoryorder": "total ascending",
         "domain": [
          0,
          1
         ],
         "title": {
          "text": "Location"
         }
        }
       }
      }
     },
     "metadata": {},
     "output_type": "display_data"
    }
   ],
   "source": [
    "import plotly.express as px\n",
    "import plotly.graph_objects as go\n",
    "\n",
    "# Assuming 'salary_job_stats_by_location_sorted' is your sorted DataFrame\n",
    "# Select top 10 states based on salary and job count\n",
    "top_10_salary = salary_job_stats_by_location_sorted.nlargest(10, 'max_salary')\n",
    "top_10_job_count = salary_job_stats_by_location_sorted.nlargest(10, 'job_count')\n",
    "\n",
    "# Remote allowed counts\n",
    "remote_counts = {'remote_allowed': [False, True], 'count': [30809, 4755]}  # Your count values\n",
    "remote_labels = ['Onsite', 'Remote']\n",
    "remote_values = [remote_counts['count'][0], remote_counts['count'][1]]\n",
    "\n",
    "# Create the initial bar graph for salary\n",
    "fig = px.bar(\n",
    "    top_10_salary,\n",
    "    x='max_salary',\n",
    "    y=top_10_salary.index,\n",
    "    orientation='h',\n",
    "    labels={'max_salary': 'Max Salary', 'index': 'Location'},\n",
    "    title=\"Top 10 Locations by Max Salary\"\n",
    ")\n",
    "\n",
    "# Customize the hover template for salary\n",
    "hover_template_salary = '<b>Location</b>: %{y}<br><b>Max Salary</b>: $%{x:.2f}<extra></extra>'\n",
    "\n",
    "# Customize the hover template for job count\n",
    "hover_template_job_count = '<b>Location</b>: %{y}<br><b>Job Count</b>: %{x}<extra></extra>'\n",
    "\n",
    "# Add a dropdown filter to switch between 'salary' and 'job_count'\n",
    "fig.update_layout(\n",
    "    updatemenus=[dict(\n",
    "        buttons=[\n",
    "            dict(\n",
    "                args=[{\n",
    "                    'x': [top_10_salary['max_salary']],\n",
    "                    'y': [top_10_salary.index],\n",
    "                    'type': 'bar',\n",
    "                    'hovertemplate': hover_template_salary\n",
    "                }],\n",
    "                label=\"Max Salary\",\n",
    "                method=\"update\"\n",
    "            ),\n",
    "            dict(\n",
    "                args=[{\n",
    "                    'x': [top_10_job_count['job_count']],\n",
    "                    'y': [top_10_job_count.index],\n",
    "                    'type': 'bar',\n",
    "                    'hovertemplate': hover_template_job_count\n",
    "                }],\n",
    "                label=\"Job Count\",\n",
    "                method=\"update\"\n",
    "            )\n",
    "        ],\n",
    "        direction=\"down\",\n",
    "        pad={\"r\": 70, \"t\": 80, \"b\": 100},  # Increased padding below the dropdown\n",
    "        showactive=True,\n",
    "        x=0.17,\n",
    "        xanchor=\"left\",\n",
    "        y=1.3,  # Adjusted 'y' to move the dropdown higher\n",
    "        yanchor=\"top\"\n",
    "    )]\n",
    ")\n",
    "\n",
    "# Update the layout to make the bar graph horizontal\n",
    "fig.update_traces(marker_color='indianred', marker_line_color='black', marker_line_width=1.5)\n",
    "fig.update_layout(\n",
    "    xaxis_title=\"Values\",\n",
    "    yaxis_title=\"Location\",\n",
    "    title=\"Top 10 Locations by Max Salary or Job Count\",\n",
    "    yaxis=dict(categoryorder='total ascending'),\n",
    "    autosize=False,\n",
    "    width=900,\n",
    "    height=700,  # Further increased height for more space below the dropdown\n",
    ")\n",
    "\n",
    "# Add annotations for Remote and Onsite counts (styled)\n",
    "spacing = 0.1  # Adjust spacing between boxes\n",
    "for i, (label, value) in enumerate(zip(remote_labels, remote_values)):\n",
    "    color = 'green' if label == 'Onsite' else 'blue'  # Set color for each box\n",
    "    x_position = 0.85 + (i * spacing)  # Place boxes with spacing\n",
    "    # Adjust the x_position for \"Onsite\" to be more to the left\n",
    "    if label == 'Onsite':\n",
    "        x_position -= 0.15  # Move \"Onsite\" box slightly left to avoid overlap\n",
    "\n",
    "    fig.add_annotation(\n",
    "        xref='paper',\n",
    "        yref='paper',\n",
    "        x=x_position,  # Updated x position\n",
    "        y=1.2,  # Adjusted y position for better spacing\n",
    "        text=f\"<b>{label}</b>: {value}\",\n",
    "        showarrow=False,  # No arrow for the box\n",
    "        bgcolor=color,  # Background color for the box\n",
    "        bordercolor='black',\n",
    "        borderwidth=2,\n",
    "        borderpad=10,\n",
    "        font=dict(color='black', size=14, family='Arial'),\n",
    "        align='center',\n",
    "        width=100,  # Width of the box\n",
    "        height=40  # Height of the box\n",
    "    )\n",
    "\n",
    "# Add margins to create space below the boxes and dropdown\n",
    "fig.update_layout(margin=dict(t=120, l=50, b=50, r=50))  # Increased top margin for more space\n",
    "\n",
    "# Show the figure\n",
    "fig.show()\n"
   ]
  }
 ],
 "metadata": {
  "kernelspec": {
   "display_name": "Python 3",
   "language": "python",
   "name": "python3"
  },
  "language_info": {
   "codemirror_mode": {
    "name": "ipython",
    "version": 3
   },
   "file_extension": ".py",
   "mimetype": "text/x-python",
   "name": "python",
   "nbconvert_exporter": "python",
   "pygments_lexer": "ipython3",
   "version": "3.11.5"
  }
 },
 "nbformat": 4,
 "nbformat_minor": 2
}
