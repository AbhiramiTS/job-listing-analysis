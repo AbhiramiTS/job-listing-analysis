{
 "cells": [
  {
   "cell_type": "markdown",
   "metadata": {},
   "source": [
    "### Trends Over Time: "
   ]
  },
  {
   "cell_type": "markdown",
   "metadata": {},
   "source": [
    "#### Analyze job postings over time to identify trends in hiring. Are there particular months or seasons with increased job postings?"
   ]
  },
  {
   "cell_type": "markdown",
   "metadata": {},
   "source": [
    "### Importing Necessary Libraries and Loading Datasets\n",
    "\n",
    "In this section, we import the **pandas** library for data manipulation and analysis in Python. \n",
    "\n",
    "We then load several datasets related to LinkedIn job postings using `pd.read_csv()`. Each dataset contains different aspects of job postings, such as:\n",
    "\n",
    "- **postings**: Contains the job postings details.\n",
    "- **companies**: Lists information about the companies offering the jobs.\n",
    "- **company_industries**: Provides information about the industries these companies operate in.\n",
    "- **company_specialities**: Details the specialties of each company.\n",
    "- **employee_counts**: Contains the number of employees in each company.\n",
    "- **salaries**: Provides salary information associated with the job postings.\n",
    "- **job_skills**: Lists the skills required for each job.\n",
    "- **job_industries**: Details the industries related to the job postings.\n",
    "\n"
   ]
  },
  {
   "cell_type": "code",
   "execution_count": 1,
   "metadata": {},
   "outputs": [],
   "source": [
    "import pandas as pd\n",
    "\n",
    "# Load the datasets\n",
    "postings = pd.read_csv('updated_data\\postings.csv')\n",
    "companies = pd.read_csv('updated_data\\company.csv')\n",
    "company_industries = pd.read_csv('updated_data\\company_industries.csv')\n",
    "company_specialities = pd.read_csv('updated_data\\company_specialities.csv')\n",
    "employee_counts = pd.read_csv('updated_data\\employee_counts.csv')\n",
    "salaries = pd.read_csv('updated_data\\salaries.csv')\n",
    "job_skills = pd.read_csv('updated_data\\Job_skills.csv')\n",
    "job_industries = pd.read_csv('updated_data\\job_industries.csv')\n"
   ]
  },
  {
   "cell_type": "code",
   "execution_count": 2,
   "metadata": {},
   "outputs": [
    {
     "name": "stdout",
     "output_type": "stream",
     "text": [
      "<class 'pandas.core.frame.DataFrame'>\n",
      "RangeIndex: 35564 entries, 0 to 35563\n",
      "Data columns (total 19 columns):\n",
      " #   Column                Non-Null Count  Dtype  \n",
      "---  ------                --------------  -----  \n",
      " 0   job_id                35564 non-null  int64  \n",
      " 1   company_name          35564 non-null  object \n",
      " 2   title                 35564 non-null  object \n",
      " 3   description           35564 non-null  object \n",
      " 4   pay_period            35564 non-null  object \n",
      " 5   location              35564 non-null  object \n",
      " 6   company_id            35564 non-null  int64  \n",
      " 7   views                 35564 non-null  int64  \n",
      " 8   formatted_work_type   35564 non-null  object \n",
      " 9   applies               35564 non-null  int64  \n",
      " 10  original_listed_time  35564 non-null  object \n",
      " 11  remote_allowed        35564 non-null  bool   \n",
      " 12  job_posting_url       35564 non-null  object \n",
      " 13  expiry                35564 non-null  object \n",
      " 14  listed_time           35564 non-null  object \n",
      " 15  work_type             35564 non-null  object \n",
      " 16  normalized_salary     35564 non-null  float64\n",
      " 17  zip_code              35564 non-null  object \n",
      " 18  fips                  35564 non-null  int64  \n",
      "dtypes: bool(1), float64(1), int64(5), object(12)\n",
      "memory usage: 4.9+ MB\n"
     ]
    }
   ],
   "source": [
    "postings.info()"
   ]
  },
  {
   "cell_type": "markdown",
   "metadata": {},
   "source": [
    "### Data Type Conversion for Postings Dataset\n",
    "\n",
    "In this step, we convert the data types in the **postings** DataFrame to optimize memory usage and improve performance:\n",
    "\n",
    "- **job_id** and **company_id**: Converted to `int32` for efficient storage.\n",
    "- **company_name**, **title**, **description**, **pay_period**, **location**, **formatted_work_type**, **job_posting_url**, **work_type**, and **zip_code**: Changed to `string` for better text handling.\n",
    "- **views**, **applies**, and **fips**: Also set to `int32`.\n",
    "- **normalized_salary**: Converted to `float` to accommodate decimal values.\n",
    "\n",
    "This ensures our data is in the right format for analysis.\n"
   ]
  },
  {
   "cell_type": "code",
   "execution_count": 3,
   "metadata": {},
   "outputs": [],
   "source": [
    "postings = postings.astype({\n",
    "    'job_id': 'int32',\n",
    "    'company_name': 'string',    # Use 'string' for modern text processing (like VARCHAR)\n",
    "    'title': 'string',\n",
    "    'description': 'string',\n",
    "    'pay_period': 'string',\n",
    "    'location': 'string',\n",
    "    'company_id': 'int32',\n",
    "    'views': 'int32',\n",
    "    'formatted_work_type': 'string',\n",
    "    'applies': 'int32',\n",
    "    'job_posting_url': 'string',\n",
    "    'work_type': 'string',\n",
    "    'normalized_salary': 'float',\n",
    "    'zip_code': 'string',\n",
    "    'fips': 'int32'\n",
    "})"
   ]
  },
  {
   "cell_type": "markdown",
   "metadata": {},
   "source": [
    "#### **Extract Monthly Data:** Create a new column for the month and year of each job posting.\n"
   ]
  },
  {
   "cell_type": "code",
   "execution_count": 4,
   "metadata": {},
   "outputs": [
    {
     "data": {
      "text/html": [
       "<div>\n",
       "<style scoped>\n",
       "    .dataframe tbody tr th:only-of-type {\n",
       "        vertical-align: middle;\n",
       "    }\n",
       "\n",
       "    .dataframe tbody tr th {\n",
       "        vertical-align: top;\n",
       "    }\n",
       "\n",
       "    .dataframe thead th {\n",
       "        text-align: right;\n",
       "    }\n",
       "</style>\n",
       "<table border=\"1\" class=\"dataframe\">\n",
       "  <thead>\n",
       "    <tr style=\"text-align: right;\">\n",
       "      <th></th>\n",
       "      <th>job_id</th>\n",
       "      <th>company_name</th>\n",
       "      <th>title</th>\n",
       "      <th>description</th>\n",
       "      <th>pay_period</th>\n",
       "      <th>location</th>\n",
       "      <th>company_id</th>\n",
       "      <th>views</th>\n",
       "      <th>formatted_work_type</th>\n",
       "      <th>applies</th>\n",
       "      <th>original_listed_time</th>\n",
       "      <th>remote_allowed</th>\n",
       "      <th>job_posting_url</th>\n",
       "      <th>expiry</th>\n",
       "      <th>listed_time</th>\n",
       "      <th>work_type</th>\n",
       "      <th>normalized_salary</th>\n",
       "      <th>zip_code</th>\n",
       "      <th>fips</th>\n",
       "    </tr>\n",
       "  </thead>\n",
       "  <tbody>\n",
       "    <tr>\n",
       "      <th>0</th>\n",
       "      <td>921716</td>\n",
       "      <td>Corcoran Sawyer Smith</td>\n",
       "      <td>Marketing Coordinator</td>\n",
       "      <td>Job descriptionA leading real estate firm in N...</td>\n",
       "      <td>HOURLY</td>\n",
       "      <td>Princeton, NJ</td>\n",
       "      <td>2774458</td>\n",
       "      <td>20</td>\n",
       "      <td>Full-time</td>\n",
       "      <td>2</td>\n",
       "      <td>2024-04-17 23:45:08</td>\n",
       "      <td>False</td>\n",
       "      <td>https://www.linkedin.com/jobs/view/921716/?trk...</td>\n",
       "      <td>2024-05-17 23:45:08</td>\n",
       "      <td>2024-04-17 23:45:08</td>\n",
       "      <td>FULL_TIME</td>\n",
       "      <td>38480.0</td>\n",
       "      <td>8540.0</td>\n",
       "      <td>34021</td>\n",
       "    </tr>\n",
       "    <tr>\n",
       "      <th>1</th>\n",
       "      <td>10998357</td>\n",
       "      <td>The National Exemplar</td>\n",
       "      <td>Assitant Restaurant Manager</td>\n",
       "      <td>The National Exemplar is accepting application...</td>\n",
       "      <td>YEARLY</td>\n",
       "      <td>Cincinnati, OH</td>\n",
       "      <td>64896719</td>\n",
       "      <td>8</td>\n",
       "      <td>Full-time</td>\n",
       "      <td>0</td>\n",
       "      <td>2024-04-16 14:26:54</td>\n",
       "      <td>False</td>\n",
       "      <td>https://www.linkedin.com/jobs/view/10998357/?t...</td>\n",
       "      <td>2024-05-16 14:26:54</td>\n",
       "      <td>2024-04-16 14:26:54</td>\n",
       "      <td>FULL_TIME</td>\n",
       "      <td>55000.0</td>\n",
       "      <td>45202.0</td>\n",
       "      <td>39061</td>\n",
       "    </tr>\n",
       "    <tr>\n",
       "      <th>2</th>\n",
       "      <td>23221523</td>\n",
       "      <td>Abrams Fensterman, LLP</td>\n",
       "      <td>Senior Elder Law / Trusts and Estates Associat...</td>\n",
       "      <td>Senior Associate Attorney - Elder Law / Trusts...</td>\n",
       "      <td>YEARLY</td>\n",
       "      <td>New Hyde Park, NY</td>\n",
       "      <td>766262</td>\n",
       "      <td>16</td>\n",
       "      <td>Full-time</td>\n",
       "      <td>0</td>\n",
       "      <td>2024-04-12 04:23:32</td>\n",
       "      <td>False</td>\n",
       "      <td>https://www.linkedin.com/jobs/view/23221523/?t...</td>\n",
       "      <td>2024-05-12 04:23:32</td>\n",
       "      <td>2024-04-12 04:23:32</td>\n",
       "      <td>FULL_TIME</td>\n",
       "      <td>157500.0</td>\n",
       "      <td>11040.0</td>\n",
       "      <td>36059</td>\n",
       "    </tr>\n",
       "  </tbody>\n",
       "</table>\n",
       "</div>"
      ],
      "text/plain": [
       "     job_id            company_name  \\\n",
       "0    921716   Corcoran Sawyer Smith   \n",
       "1  10998357  The National Exemplar    \n",
       "2  23221523  Abrams Fensterman, LLP   \n",
       "\n",
       "                                               title  \\\n",
       "0                              Marketing Coordinator   \n",
       "1                        Assitant Restaurant Manager   \n",
       "2  Senior Elder Law / Trusts and Estates Associat...   \n",
       "\n",
       "                                         description pay_period  \\\n",
       "0  Job descriptionA leading real estate firm in N...     HOURLY   \n",
       "1  The National Exemplar is accepting application...     YEARLY   \n",
       "2  Senior Associate Attorney - Elder Law / Trusts...     YEARLY   \n",
       "\n",
       "            location  company_id  views formatted_work_type  applies  \\\n",
       "0      Princeton, NJ     2774458     20           Full-time        2   \n",
       "1     Cincinnati, OH    64896719      8           Full-time        0   \n",
       "2  New Hyde Park, NY      766262     16           Full-time        0   \n",
       "\n",
       "  original_listed_time  remote_allowed  \\\n",
       "0  2024-04-17 23:45:08           False   \n",
       "1  2024-04-16 14:26:54           False   \n",
       "2  2024-04-12 04:23:32           False   \n",
       "\n",
       "                                     job_posting_url               expiry  \\\n",
       "0  https://www.linkedin.com/jobs/view/921716/?trk...  2024-05-17 23:45:08   \n",
       "1  https://www.linkedin.com/jobs/view/10998357/?t...  2024-05-16 14:26:54   \n",
       "2  https://www.linkedin.com/jobs/view/23221523/?t...  2024-05-12 04:23:32   \n",
       "\n",
       "           listed_time  work_type  normalized_salary zip_code   fips  \n",
       "0  2024-04-17 23:45:08  FULL_TIME            38480.0   8540.0  34021  \n",
       "1  2024-04-16 14:26:54  FULL_TIME            55000.0  45202.0  39061  \n",
       "2  2024-04-12 04:23:32  FULL_TIME           157500.0  11040.0  36059  "
      ]
     },
     "execution_count": 4,
     "metadata": {},
     "output_type": "execute_result"
    }
   ],
   "source": [
    "postings.head(3)"
   ]
  },
  {
   "cell_type": "code",
   "execution_count": 5,
   "metadata": {},
   "outputs": [
    {
     "name": "stdout",
     "output_type": "stream",
     "text": [
      "['2024-04-17 23:45:08' '2024-04-16 14:26:54' '2024-04-12 04:23:32' ...\n",
      " '2024-04-20 00:20:31' '2024-04-20 00:00:23' '2024-04-20 00:23:36']\n"
     ]
    }
   ],
   "source": [
    "print(postings['original_listed_time'].unique())"
   ]
  },
  {
   "cell_type": "code",
   "execution_count": 6,
   "metadata": {},
   "outputs": [],
   "source": [
    "postings['original_listed_time'] = pd.to_datetime(postings['original_listed_time'], errors='coerce')\n",
    "postings['expiry'] = pd.to_datetime(postings['expiry'], errors='coerce')"
   ]
  },
  {
   "cell_type": "code",
   "execution_count": 7,
   "metadata": {},
   "outputs": [
    {
     "data": {
      "text/html": [
       "<div>\n",
       "<style scoped>\n",
       "    .dataframe tbody tr th:only-of-type {\n",
       "        vertical-align: middle;\n",
       "    }\n",
       "\n",
       "    .dataframe tbody tr th {\n",
       "        vertical-align: top;\n",
       "    }\n",
       "\n",
       "    .dataframe thead th {\n",
       "        text-align: right;\n",
       "    }\n",
       "</style>\n",
       "<table border=\"1\" class=\"dataframe\">\n",
       "  <thead>\n",
       "    <tr style=\"text-align: right;\">\n",
       "      <th></th>\n",
       "      <th>job_id</th>\n",
       "      <th>company_name</th>\n",
       "      <th>title</th>\n",
       "      <th>description</th>\n",
       "      <th>pay_period</th>\n",
       "      <th>location</th>\n",
       "      <th>company_id</th>\n",
       "      <th>views</th>\n",
       "      <th>formatted_work_type</th>\n",
       "      <th>applies</th>\n",
       "      <th>original_listed_time</th>\n",
       "      <th>remote_allowed</th>\n",
       "      <th>job_posting_url</th>\n",
       "      <th>expiry</th>\n",
       "      <th>listed_time</th>\n",
       "      <th>work_type</th>\n",
       "      <th>normalized_salary</th>\n",
       "      <th>zip_code</th>\n",
       "      <th>fips</th>\n",
       "    </tr>\n",
       "  </thead>\n",
       "  <tbody>\n",
       "    <tr>\n",
       "      <th>0</th>\n",
       "      <td>921716</td>\n",
       "      <td>Corcoran Sawyer Smith</td>\n",
       "      <td>Marketing Coordinator</td>\n",
       "      <td>Job descriptionA leading real estate firm in N...</td>\n",
       "      <td>HOURLY</td>\n",
       "      <td>Princeton, NJ</td>\n",
       "      <td>2774458</td>\n",
       "      <td>20</td>\n",
       "      <td>Full-time</td>\n",
       "      <td>2</td>\n",
       "      <td>2024-04-17 23:45:08</td>\n",
       "      <td>False</td>\n",
       "      <td>https://www.linkedin.com/jobs/view/921716/?trk...</td>\n",
       "      <td>2024-05-17 23:45:08</td>\n",
       "      <td>2024-04-17 23:45:08</td>\n",
       "      <td>FULL_TIME</td>\n",
       "      <td>38480.0</td>\n",
       "      <td>8540.0</td>\n",
       "      <td>34021</td>\n",
       "    </tr>\n",
       "    <tr>\n",
       "      <th>1</th>\n",
       "      <td>10998357</td>\n",
       "      <td>The National Exemplar</td>\n",
       "      <td>Assitant Restaurant Manager</td>\n",
       "      <td>The National Exemplar is accepting application...</td>\n",
       "      <td>YEARLY</td>\n",
       "      <td>Cincinnati, OH</td>\n",
       "      <td>64896719</td>\n",
       "      <td>8</td>\n",
       "      <td>Full-time</td>\n",
       "      <td>0</td>\n",
       "      <td>2024-04-16 14:26:54</td>\n",
       "      <td>False</td>\n",
       "      <td>https://www.linkedin.com/jobs/view/10998357/?t...</td>\n",
       "      <td>2024-05-16 14:26:54</td>\n",
       "      <td>2024-04-16 14:26:54</td>\n",
       "      <td>FULL_TIME</td>\n",
       "      <td>55000.0</td>\n",
       "      <td>45202.0</td>\n",
       "      <td>39061</td>\n",
       "    </tr>\n",
       "    <tr>\n",
       "      <th>2</th>\n",
       "      <td>23221523</td>\n",
       "      <td>Abrams Fensterman, LLP</td>\n",
       "      <td>Senior Elder Law / Trusts and Estates Associat...</td>\n",
       "      <td>Senior Associate Attorney - Elder Law / Trusts...</td>\n",
       "      <td>YEARLY</td>\n",
       "      <td>New Hyde Park, NY</td>\n",
       "      <td>766262</td>\n",
       "      <td>16</td>\n",
       "      <td>Full-time</td>\n",
       "      <td>0</td>\n",
       "      <td>2024-04-12 04:23:32</td>\n",
       "      <td>False</td>\n",
       "      <td>https://www.linkedin.com/jobs/view/23221523/?t...</td>\n",
       "      <td>2024-05-12 04:23:32</td>\n",
       "      <td>2024-04-12 04:23:32</td>\n",
       "      <td>FULL_TIME</td>\n",
       "      <td>157500.0</td>\n",
       "      <td>11040.0</td>\n",
       "      <td>36059</td>\n",
       "    </tr>\n",
       "  </tbody>\n",
       "</table>\n",
       "</div>"
      ],
      "text/plain": [
       "     job_id            company_name  \\\n",
       "0    921716   Corcoran Sawyer Smith   \n",
       "1  10998357  The National Exemplar    \n",
       "2  23221523  Abrams Fensterman, LLP   \n",
       "\n",
       "                                               title  \\\n",
       "0                              Marketing Coordinator   \n",
       "1                        Assitant Restaurant Manager   \n",
       "2  Senior Elder Law / Trusts and Estates Associat...   \n",
       "\n",
       "                                         description pay_period  \\\n",
       "0  Job descriptionA leading real estate firm in N...     HOURLY   \n",
       "1  The National Exemplar is accepting application...     YEARLY   \n",
       "2  Senior Associate Attorney - Elder Law / Trusts...     YEARLY   \n",
       "\n",
       "            location  company_id  views formatted_work_type  applies  \\\n",
       "0      Princeton, NJ     2774458     20           Full-time        2   \n",
       "1     Cincinnati, OH    64896719      8           Full-time        0   \n",
       "2  New Hyde Park, NY      766262     16           Full-time        0   \n",
       "\n",
       "  original_listed_time  remote_allowed  \\\n",
       "0  2024-04-17 23:45:08           False   \n",
       "1  2024-04-16 14:26:54           False   \n",
       "2  2024-04-12 04:23:32           False   \n",
       "\n",
       "                                     job_posting_url              expiry  \\\n",
       "0  https://www.linkedin.com/jobs/view/921716/?trk... 2024-05-17 23:45:08   \n",
       "1  https://www.linkedin.com/jobs/view/10998357/?t... 2024-05-16 14:26:54   \n",
       "2  https://www.linkedin.com/jobs/view/23221523/?t... 2024-05-12 04:23:32   \n",
       "\n",
       "           listed_time  work_type  normalized_salary zip_code   fips  \n",
       "0  2024-04-17 23:45:08  FULL_TIME            38480.0   8540.0  34021  \n",
       "1  2024-04-16 14:26:54  FULL_TIME            55000.0  45202.0  39061  \n",
       "2  2024-04-12 04:23:32  FULL_TIME           157500.0  11040.0  36059  "
      ]
     },
     "execution_count": 7,
     "metadata": {},
     "output_type": "execute_result"
    }
   ],
   "source": [
    "postings.head(3)"
   ]
  },
  {
   "cell_type": "markdown",
   "metadata": {},
   "source": [
    "### Extracting Month and Year from Listed Time\n",
    "\n",
    "We create a new column called **month_year** in the **postings** DataFrame. This captures the month and year from the **original_listed_time** column by converting it to a monthly period format, which helps in analyzing job postings over time.\n"
   ]
  },
  {
   "cell_type": "code",
   "execution_count": 8,
   "metadata": {},
   "outputs": [],
   "source": [
    "postings['month_year'] = postings['original_listed_time'].dt.to_period('M')"
   ]
  },
  {
   "cell_type": "markdown",
   "metadata": {},
   "source": [
    "### Counting Monthly Job Postings\n",
    "\n",
    "We group the **postings** DataFrame by the **month_year** column and count the number of job postings for each month. The result is stored in a new DataFrame called **monthly_postings**, which contains the total job postings per month in a column named **job_posting_count**.\n"
   ]
  },
  {
   "cell_type": "code",
   "execution_count": 9,
   "metadata": {},
   "outputs": [
    {
     "data": {
      "text/html": [
       "<div>\n",
       "<style scoped>\n",
       "    .dataframe tbody tr th:only-of-type {\n",
       "        vertical-align: middle;\n",
       "    }\n",
       "\n",
       "    .dataframe tbody tr th {\n",
       "        vertical-align: top;\n",
       "    }\n",
       "\n",
       "    .dataframe thead th {\n",
       "        text-align: right;\n",
       "    }\n",
       "</style>\n",
       "<table border=\"1\" class=\"dataframe\">\n",
       "  <thead>\n",
       "    <tr style=\"text-align: right;\">\n",
       "      <th></th>\n",
       "      <th>month_year</th>\n",
       "      <th>job_posting_count</th>\n",
       "    </tr>\n",
       "  </thead>\n",
       "  <tbody>\n",
       "    <tr>\n",
       "      <th>0</th>\n",
       "      <td>2024-01</td>\n",
       "      <td>1</td>\n",
       "    </tr>\n",
       "    <tr>\n",
       "      <th>1</th>\n",
       "      <td>2024-02</td>\n",
       "      <td>4</td>\n",
       "    </tr>\n",
       "    <tr>\n",
       "      <th>2</th>\n",
       "      <td>2024-03</td>\n",
       "      <td>512</td>\n",
       "    </tr>\n",
       "    <tr>\n",
       "      <th>3</th>\n",
       "      <td>2024-04</td>\n",
       "      <td>35047</td>\n",
       "    </tr>\n",
       "  </tbody>\n",
       "</table>\n",
       "</div>"
      ],
      "text/plain": [
       "  month_year  job_posting_count\n",
       "0    2024-01                  1\n",
       "1    2024-02                  4\n",
       "2    2024-03                512\n",
       "3    2024-04              35047"
      ]
     },
     "execution_count": 9,
     "metadata": {},
     "output_type": "execute_result"
    }
   ],
   "source": [
    "monthly_postings = postings.groupby('month_year').size().reset_index(name='job_posting_count')\n",
    "monthly_postings"
   ]
  },
  {
   "cell_type": "markdown",
   "metadata": {},
   "source": [
    "#### **Visualize Job Postings Over Time:** Plot the data to visualize trends."
   ]
  },
  {
   "cell_type": "markdown",
   "metadata": {},
   "source": [
    "### Visualizing Job Postings Over Time\n",
    "\n",
    "We import **matplotlib.pyplot** for data visualization and create a line plot to show job postings over time. The x-axis represents the **month_year**, while the y-axis displays the **job_posting_count**. The plot includes markers for clarity, a title, and labeled axes, with x-ticks rotated for better readability. A grid is added for easier interpretation of the data.\n"
   ]
  },
  {
   "cell_type": "code",
   "execution_count": 10,
   "metadata": {},
   "outputs": [
    {
     "data": {
      "image/png": "[encoded data removed]",
      "text/plain": [
       "<Figure size 1200x600 with 1 Axes>"
      ]
     },
     "metadata": {},
     "output_type": "display_data"
    }
   ],
   "source": [
    "import matplotlib.pyplot as plt\n",
    "\n",
    "plt.figure(figsize=(12, 6))\n",
    "plt.plot(monthly_postings['month_year'].astype(str), monthly_postings['job_posting_count'], marker='o')\n",
    "plt.title('Job Postings Over Time')\n",
    "plt.xlabel('Month-Year')\n",
    "plt.ylabel('Number of Job Postings')\n",
    "plt.xticks(rotation=45)\n",
    "plt.grid()\n",
    "plt.show()\n"
   ]
  },
  {
   "cell_type": "markdown",
   "metadata": {},
   "source": [
    "## Company Growth Analysis\n",
    "#### **Aggregate Job Postings by Company:** Identify companies with the most job postings."
   ]
  },
  {
   "cell_type": "markdown",
   "metadata": {},
   "source": [
    "\n",
    "The **postings** DataFrame is grouped by **company_id** and **company_name** to count the number of job postings for each company, resulting in the **company_postings** DataFrame. This data is then sorted in descending order based on **job_posting_count**, and the top 50 companies with the most job postings are selected and stored in **top_companies**.\n"
   ]
  },
  {
   "cell_type": "code",
   "execution_count": 11,
   "metadata": {},
   "outputs": [],
   "source": [
    "company_postings = postings.groupby(['company_id', 'company_name']).size().reset_index(name='job_posting_count')\n",
    "top_companies = company_postings.sort_values(by='job_posting_count', ascending=False).head(50)"
   ]
  },
  {
   "cell_type": "code",
   "execution_count": 10,
   "metadata": {},
   "outputs": [
    {
     "data": {
      "text/html": [
       "<div>\n",
       "<style scoped>\n",
       "    .dataframe tbody tr th:only-of-type {\n",
       "        vertical-align: middle;\n",
       "    }\n",
       "\n",
       "    .dataframe tbody tr th {\n",
       "        vertical-align: top;\n",
       "    }\n",
       "\n",
       "    .dataframe thead th {\n",
       "        text-align: right;\n",
       "    }\n",
       "</style>\n",
       "<table border=\"1\" class=\"dataframe\">\n",
       "  <thead>\n",
       "    <tr style=\"text-align: right;\">\n",
       "      <th></th>\n",
       "      <th>company_id</th>\n",
       "      <th>company_name</th>\n",
       "      <th>job_posting_count</th>\n",
       "    </tr>\n",
       "  </thead>\n",
       "  <tbody>\n",
       "    <tr>\n",
       "      <th>3041</th>\n",
       "      <td>167757</td>\n",
       "      <td>The Job Network</td>\n",
       "      <td>350</td>\n",
       "    </tr>\n",
       "    <tr>\n",
       "      <th>886</th>\n",
       "      <td>11056</td>\n",
       "      <td>Insight Global</td>\n",
       "      <td>342</td>\n",
       "    </tr>\n",
       "    <tr>\n",
       "      <th>7771</th>\n",
       "      <td>18860134</td>\n",
       "      <td>Jobot</td>\n",
       "      <td>202</td>\n",
       "    </tr>\n",
       "    <tr>\n",
       "      <th>89</th>\n",
       "      <td>1681</td>\n",
       "      <td>Robert Half</td>\n",
       "      <td>171</td>\n",
       "    </tr>\n",
       "    <tr>\n",
       "      <th>3189</th>\n",
       "      <td>248184</td>\n",
       "      <td>Creative Financial Staffing (CFS)</td>\n",
       "      <td>152</td>\n",
       "    </tr>\n",
       "    <tr>\n",
       "      <th>901</th>\n",
       "      <td>11229</td>\n",
       "      <td>Vaco</td>\n",
       "      <td>134</td>\n",
       "    </tr>\n",
       "    <tr>\n",
       "      <th>73</th>\n",
       "      <td>1586</td>\n",
       "      <td>Amazon</td>\n",
       "      <td>124</td>\n",
       "    </tr>\n",
       "    <tr>\n",
       "      <th>429</th>\n",
       "      <td>4787</td>\n",
       "      <td>Apex Systems</td>\n",
       "      <td>117</td>\n",
       "    </tr>\n",
       "    <tr>\n",
       "      <th>480</th>\n",
       "      <td>5235</td>\n",
       "      <td>LHH</td>\n",
       "      <td>117</td>\n",
       "    </tr>\n",
       "    <tr>\n",
       "      <th>5227</th>\n",
       "      <td>2396310</td>\n",
       "      <td>Randstad USA</td>\n",
       "      <td>106</td>\n",
       "    </tr>\n",
       "    <tr>\n",
       "      <th>4684</th>\n",
       "      <td>1506196</td>\n",
       "      <td>Health Carousel Nursing &amp; Allied Health</td>\n",
       "      <td>104</td>\n",
       "    </tr>\n",
       "    <tr>\n",
       "      <th>5086</th>\n",
       "      <td>2204084</td>\n",
       "      <td>Talentify.io</td>\n",
       "      <td>100</td>\n",
       "    </tr>\n",
       "    <tr>\n",
       "      <th>9378</th>\n",
       "      <td>79383535</td>\n",
       "      <td>Akkodis</td>\n",
       "      <td>98</td>\n",
       "    </tr>\n",
       "    <tr>\n",
       "      <th>2880</th>\n",
       "      <td>164414</td>\n",
       "      <td>Intermountain Health</td>\n",
       "      <td>97</td>\n",
       "    </tr>\n",
       "    <tr>\n",
       "      <th>1331</th>\n",
       "      <td>21836</td>\n",
       "      <td>CyberCoders</td>\n",
       "      <td>95</td>\n",
       "    </tr>\n",
       "    <tr>\n",
       "      <th>5588</th>\n",
       "      <td>2908367</td>\n",
       "      <td>gpac</td>\n",
       "      <td>94</td>\n",
       "    </tr>\n",
       "    <tr>\n",
       "      <th>5394</th>\n",
       "      <td>2615835</td>\n",
       "      <td>Piper Companies</td>\n",
       "      <td>94</td>\n",
       "    </tr>\n",
       "    <tr>\n",
       "      <th>258</th>\n",
       "      <td>3175</td>\n",
       "      <td>Ingersoll Rand</td>\n",
       "      <td>92</td>\n",
       "    </tr>\n",
       "    <tr>\n",
       "      <th>50</th>\n",
       "      <td>1431</td>\n",
       "      <td>PepsiCo</td>\n",
       "      <td>88</td>\n",
       "    </tr>\n",
       "    <tr>\n",
       "      <th>924</th>\n",
       "      <td>11655</td>\n",
       "      <td>Open Systems Technologies</td>\n",
       "      <td>87</td>\n",
       "    </tr>\n",
       "    <tr>\n",
       "      <th>2987</th>\n",
       "      <td>166209</td>\n",
       "      <td>Sutter Health</td>\n",
       "      <td>87</td>\n",
       "    </tr>\n",
       "    <tr>\n",
       "      <th>4037</th>\n",
       "      <td>827183</td>\n",
       "      <td>Russell Tobin</td>\n",
       "      <td>86</td>\n",
       "    </tr>\n",
       "    <tr>\n",
       "      <th>2908</th>\n",
       "      <td>164880</td>\n",
       "      <td>Maxim Healthcare Staffing</td>\n",
       "      <td>86</td>\n",
       "    </tr>\n",
       "    <tr>\n",
       "      <th>614</th>\n",
       "      <td>6849</td>\n",
       "      <td>Dice</td>\n",
       "      <td>85</td>\n",
       "    </tr>\n",
       "    <tr>\n",
       "      <th>181</th>\n",
       "      <td>2532</td>\n",
       "      <td>U.S. Bank</td>\n",
       "      <td>83</td>\n",
       "    </tr>\n",
       "    <tr>\n",
       "      <th>7540</th>\n",
       "      <td>17980749</td>\n",
       "      <td>Lakefield Veterinary Group</td>\n",
       "      <td>82</td>\n",
       "    </tr>\n",
       "    <tr>\n",
       "      <th>5209</th>\n",
       "      <td>2379156</td>\n",
       "      <td>Energy Jobline</td>\n",
       "      <td>81</td>\n",
       "    </tr>\n",
       "    <tr>\n",
       "      <th>1282</th>\n",
       "      <td>20573</td>\n",
       "      <td>Life Care Centers of America</td>\n",
       "      <td>79</td>\n",
       "    </tr>\n",
       "    <tr>\n",
       "      <th>2973</th>\n",
       "      <td>165944</td>\n",
       "      <td>Sherwin-Williams</td>\n",
       "      <td>79</td>\n",
       "    </tr>\n",
       "    <tr>\n",
       "      <th>291</th>\n",
       "      <td>3476</td>\n",
       "      <td>Michael Page</td>\n",
       "      <td>79</td>\n",
       "    </tr>\n",
       "    <tr>\n",
       "      <th>86</th>\n",
       "      <td>1668</td>\n",
       "      <td>FedEx Ground</td>\n",
       "      <td>76</td>\n",
       "    </tr>\n",
       "    <tr>\n",
       "      <th>1546</th>\n",
       "      <td>28923</td>\n",
       "      <td>Harbor Freight Tools</td>\n",
       "      <td>74</td>\n",
       "    </tr>\n",
       "    <tr>\n",
       "      <th>2182</th>\n",
       "      <td>72483</td>\n",
       "      <td>Aimbridge Hospitality</td>\n",
       "      <td>73</td>\n",
       "    </tr>\n",
       "    <tr>\n",
       "      <th>860</th>\n",
       "      <td>10667</td>\n",
       "      <td>Meta</td>\n",
       "      <td>73</td>\n",
       "    </tr>\n",
       "    <tr>\n",
       "      <th>5084</th>\n",
       "      <td>2203697</td>\n",
       "      <td>Experis</td>\n",
       "      <td>73</td>\n",
       "    </tr>\n",
       "    <tr>\n",
       "      <th>7023</th>\n",
       "      <td>11009726</td>\n",
       "      <td>RightWorks</td>\n",
       "      <td>72</td>\n",
       "    </tr>\n",
       "    <tr>\n",
       "      <th>51</th>\n",
       "      <td>1441</td>\n",
       "      <td>Google</td>\n",
       "      <td>72</td>\n",
       "    </tr>\n",
       "    <tr>\n",
       "      <th>731</th>\n",
       "      <td>8403</td>\n",
       "      <td>BJ's Wholesale Club</td>\n",
       "      <td>72</td>\n",
       "    </tr>\n",
       "    <tr>\n",
       "      <th>208</th>\n",
       "      <td>2775</td>\n",
       "      <td>TD</td>\n",
       "      <td>72</td>\n",
       "    </tr>\n",
       "    <tr>\n",
       "      <th>2254</th>\n",
       "      <td>79098</td>\n",
       "      <td>Allied OneSource</td>\n",
       "      <td>68</td>\n",
       "    </tr>\n",
       "    <tr>\n",
       "      <th>5290</th>\n",
       "      <td>2474662</td>\n",
       "      <td>Planet Pharma</td>\n",
       "      <td>67</td>\n",
       "    </tr>\n",
       "    <tr>\n",
       "      <th>646</th>\n",
       "      <td>7260</td>\n",
       "      <td>Ultimate Staffing</td>\n",
       "      <td>67</td>\n",
       "    </tr>\n",
       "    <tr>\n",
       "      <th>8211</th>\n",
       "      <td>33246798</td>\n",
       "      <td>TikTok</td>\n",
       "      <td>66</td>\n",
       "    </tr>\n",
       "    <tr>\n",
       "      <th>1250</th>\n",
       "      <td>19472</td>\n",
       "      <td>BAYADA Home Health Care</td>\n",
       "      <td>64</td>\n",
       "    </tr>\n",
       "    <tr>\n",
       "      <th>1193</th>\n",
       "      <td>18043</td>\n",
       "      <td>Addison Group</td>\n",
       "      <td>64</td>\n",
       "    </tr>\n",
       "    <tr>\n",
       "      <th>2046</th>\n",
       "      <td>61400</td>\n",
       "      <td>The Reserves Network</td>\n",
       "      <td>63</td>\n",
       "    </tr>\n",
       "    <tr>\n",
       "      <th>141</th>\n",
       "      <td>2190</td>\n",
       "      <td>Visa</td>\n",
       "      <td>62</td>\n",
       "    </tr>\n",
       "    <tr>\n",
       "      <th>24</th>\n",
       "      <td>1235</td>\n",
       "      <td>Wells Fargo</td>\n",
       "      <td>62</td>\n",
       "    </tr>\n",
       "    <tr>\n",
       "      <th>948</th>\n",
       "      <td>12192</td>\n",
       "      <td>Safelite</td>\n",
       "      <td>62</td>\n",
       "    </tr>\n",
       "    <tr>\n",
       "      <th>2050</th>\n",
       "      <td>61677</td>\n",
       "      <td>eTeam</td>\n",
       "      <td>62</td>\n",
       "    </tr>\n",
       "  </tbody>\n",
       "</table>\n",
       "</div>"
      ],
      "text/plain": [
       "      company_id                             company_name  job_posting_count\n",
       "3041      167757                          The Job Network                350\n",
       "886        11056                           Insight Global                342\n",
       "7771    18860134                                    Jobot                202\n",
       "89          1681                              Robert Half                171\n",
       "3189      248184        Creative Financial Staffing (CFS)                152\n",
       "901        11229                                     Vaco                134\n",
       "73          1586                                   Amazon                124\n",
       "429         4787                             Apex Systems                117\n",
       "480         5235                                      LHH                117\n",
       "5227     2396310                             Randstad USA                106\n",
       "4684     1506196  Health Carousel Nursing & Allied Health                104\n",
       "5086     2204084                             Talentify.io                100\n",
       "9378    79383535                                  Akkodis                 98\n",
       "2880      164414                     Intermountain Health                 97\n",
       "1331       21836                              CyberCoders                 95\n",
       "5588     2908367                                     gpac                 94\n",
       "5394     2615835                          Piper Companies                 94\n",
       "258         3175                           Ingersoll Rand                 92\n",
       "50          1431                                  PepsiCo                 88\n",
       "924        11655                Open Systems Technologies                 87\n",
       "2987      166209                            Sutter Health                 87\n",
       "4037      827183                            Russell Tobin                 86\n",
       "2908      164880                Maxim Healthcare Staffing                 86\n",
       "614         6849                                     Dice                 85\n",
       "181         2532                                U.S. Bank                 83\n",
       "7540    17980749               Lakefield Veterinary Group                 82\n",
       "5209     2379156                           Energy Jobline                 81\n",
       "1282       20573             Life Care Centers of America                 79\n",
       "2973      165944                         Sherwin-Williams                 79\n",
       "291         3476                             Michael Page                 79\n",
       "86          1668                             FedEx Ground                 76\n",
       "1546       28923                     Harbor Freight Tools                 74\n",
       "2182       72483                    Aimbridge Hospitality                 73\n",
       "860        10667                                     Meta                 73\n",
       "5084     2203697                                  Experis                 73\n",
       "7023    11009726                               RightWorks                 72\n",
       "51          1441                                   Google                 72\n",
       "731         8403                      BJ's Wholesale Club                 72\n",
       "208         2775                                       TD                 72\n",
       "2254       79098                         Allied OneSource                 68\n",
       "5290     2474662                            Planet Pharma                 67\n",
       "646         7260                        Ultimate Staffing                 67\n",
       "8211    33246798                                   TikTok                 66\n",
       "1250       19472                  BAYADA Home Health Care                 64\n",
       "1193       18043                            Addison Group                 64\n",
       "2046       61400                     The Reserves Network                 63\n",
       "141         2190                                     Visa                 62\n",
       "24          1235                              Wells Fargo                 62\n",
       "948        12192                                 Safelite                 62\n",
       "2050       61677                                    eTeam                 62"
      ]
     },
     "execution_count": 10,
     "metadata": {},
     "output_type": "execute_result"
    }
   ],
   "source": [
    "top_companies"
   ]
  },
  {
   "cell_type": "code",
   "execution_count": 12,
   "metadata": {},
   "outputs": [
    {
     "name": "stdout",
     "output_type": "stream",
     "text": [
      "<class 'pandas.core.frame.DataFrame'>\n",
      "RangeIndex: 35787 entries, 0 to 35786\n",
      "Data columns (total 4 columns):\n",
      " #   Column          Non-Null Count  Dtype\n",
      "---  ------          --------------  -----\n",
      " 0   company_id      35787 non-null  int64\n",
      " 1   employee_count  35787 non-null  int64\n",
      " 2   follower_count  35787 non-null  int64\n",
      " 3   time_recorded   35787 non-null  int64\n",
      "dtypes: int64(4)\n",
      "memory usage: 1.1 MB\n"
     ]
    }
   ],
   "source": [
    "employee_counts.info()"
   ]
  },
  {
   "cell_type": "markdown",
   "metadata": {},
   "source": [
    "### Merging Employee Counts with Top Companies\n",
    "\n",
    "The **top_companies** DataFrame is merged with the **employee_counts** DataFrame using a left join on the **company_id** column. \n"
   ]
  },
  {
   "cell_type": "code",
   "execution_count": 16,
   "metadata": {},
   "outputs": [],
   "source": [
    "top_companies = top_companies.merge(employee_counts[['company_id', 'employee_count']], on='company_id', how='left')"
   ]
  },
  {
   "cell_type": "code",
   "execution_count": 27,
   "metadata": {},
   "outputs": [
    {
     "data": {
      "text/html": [
       "<div>\n",
       "<style scoped>\n",
       "    .dataframe tbody tr th:only-of-type {\n",
       "        vertical-align: middle;\n",
       "    }\n",
       "\n",
       "    .dataframe tbody tr th {\n",
       "        vertical-align: top;\n",
       "    }\n",
       "\n",
       "    .dataframe thead th {\n",
       "        text-align: right;\n",
       "    }\n",
       "</style>\n",
       "<table border=\"1\" class=\"dataframe\">\n",
       "  <thead>\n",
       "    <tr style=\"text-align: right;\">\n",
       "      <th></th>\n",
       "      <th>company_id</th>\n",
       "      <th>company_name</th>\n",
       "      <th>job_posting_count</th>\n",
       "      <th>employee_count_x</th>\n",
       "      <th>employee_count_y</th>\n",
       "    </tr>\n",
       "  </thead>\n",
       "  <tbody>\n",
       "    <tr>\n",
       "      <th>0</th>\n",
       "      <td>167757</td>\n",
       "      <td>The Job Network</td>\n",
       "      <td>350</td>\n",
       "      <td>73</td>\n",
       "      <td>73</td>\n",
       "    </tr>\n",
       "    <tr>\n",
       "      <th>1</th>\n",
       "      <td>11056</td>\n",
       "      <td>Insight Global</td>\n",
       "      <td>342</td>\n",
       "      <td>14122</td>\n",
       "      <td>14122</td>\n",
       "    </tr>\n",
       "    <tr>\n",
       "      <th>2</th>\n",
       "      <td>11056</td>\n",
       "      <td>Insight Global</td>\n",
       "      <td>342</td>\n",
       "      <td>14122</td>\n",
       "      <td>14127</td>\n",
       "    </tr>\n",
       "    <tr>\n",
       "      <th>3</th>\n",
       "      <td>11056</td>\n",
       "      <td>Insight Global</td>\n",
       "      <td>342</td>\n",
       "      <td>14122</td>\n",
       "      <td>14144</td>\n",
       "    </tr>\n",
       "    <tr>\n",
       "      <th>4</th>\n",
       "      <td>11056</td>\n",
       "      <td>Insight Global</td>\n",
       "      <td>342</td>\n",
       "      <td>14122</td>\n",
       "      <td>14152</td>\n",
       "    </tr>\n",
       "    <tr>\n",
       "      <th>...</th>\n",
       "      <td>...</td>\n",
       "      <td>...</td>\n",
       "      <td>...</td>\n",
       "      <td>...</td>\n",
       "      <td>...</td>\n",
       "    </tr>\n",
       "    <tr>\n",
       "      <th>2177</th>\n",
       "      <td>61677</td>\n",
       "      <td>eTeam</td>\n",
       "      <td>62</td>\n",
       "      <td>3296</td>\n",
       "      <td>3295</td>\n",
       "    </tr>\n",
       "    <tr>\n",
       "      <th>2178</th>\n",
       "      <td>61677</td>\n",
       "      <td>eTeam</td>\n",
       "      <td>62</td>\n",
       "      <td>3296</td>\n",
       "      <td>3309</td>\n",
       "    </tr>\n",
       "    <tr>\n",
       "      <th>2179</th>\n",
       "      <td>61677</td>\n",
       "      <td>eTeam</td>\n",
       "      <td>62</td>\n",
       "      <td>3296</td>\n",
       "      <td>3304</td>\n",
       "    </tr>\n",
       "    <tr>\n",
       "      <th>2180</th>\n",
       "      <td>61677</td>\n",
       "      <td>eTeam</td>\n",
       "      <td>62</td>\n",
       "      <td>3296</td>\n",
       "      <td>3302</td>\n",
       "    </tr>\n",
       "    <tr>\n",
       "      <th>2181</th>\n",
       "      <td>61677</td>\n",
       "      <td>eTeam</td>\n",
       "      <td>62</td>\n",
       "      <td>3296</td>\n",
       "      <td>3296</td>\n",
       "    </tr>\n",
       "  </tbody>\n",
       "</table>\n",
       "<p>2182 rows × 5 columns</p>\n",
       "</div>"
      ],
      "text/plain": [
       "      company_id     company_name  job_posting_count  employee_count_x  \\\n",
       "0         167757  The Job Network                350                73   \n",
       "1          11056   Insight Global                342             14122   \n",
       "2          11056   Insight Global                342             14122   \n",
       "3          11056   Insight Global                342             14122   \n",
       "4          11056   Insight Global                342             14122   \n",
       "...          ...              ...                ...               ...   \n",
       "2177       61677            eTeam                 62              3296   \n",
       "2178       61677            eTeam                 62              3296   \n",
       "2179       61677            eTeam                 62              3296   \n",
       "2180       61677            eTeam                 62              3296   \n",
       "2181       61677            eTeam                 62              3296   \n",
       "\n",
       "      employee_count_y  \n",
       "0                   73  \n",
       "1                14122  \n",
       "2                14127  \n",
       "3                14144  \n",
       "4                14152  \n",
       "...                ...  \n",
       "2177              3295  \n",
       "2178              3309  \n",
       "2179              3304  \n",
       "2180              3302  \n",
       "2181              3296  \n",
       "\n",
       "[2182 rows x 5 columns]"
      ]
     },
     "execution_count": 27,
     "metadata": {},
     "output_type": "execute_result"
    }
   ],
   "source": [
    "top_companies"
   ]
  },
  {
   "cell_type": "code",
   "execution_count": 23,
   "metadata": {},
   "outputs": [
    {
     "name": "stdout",
     "output_type": "stream",
     "text": [
      "<class 'pandas.core.frame.DataFrame'>\n",
      "RangeIndex: 2182 entries, 0 to 2181\n",
      "Data columns (total 5 columns):\n",
      " #   Column             Non-Null Count  Dtype \n",
      "---  ------             --------------  ----- \n",
      " 0   company_id         2182 non-null   int32 \n",
      " 1   company_name       2182 non-null   string\n",
      " 2   job_posting_count  2182 non-null   int64 \n",
      " 3   employee_count_x   2182 non-null   int64 \n",
      " 4   employee_count_y   2182 non-null   int64 \n",
      "dtypes: int32(1), int64(3), string(1)\n",
      "memory usage: 76.8 KB\n"
     ]
    }
   ],
   "source": [
    "top_companies.info()"
   ]
  },
  {
   "cell_type": "markdown",
   "metadata": {},
   "source": [
    "### Cleaning the Top Companies DataFrame\n",
    "\n",
    "The **employee_count_y** column is dropped from the **top_companies** DataFrame to eliminate redundancy. Then, duplicate entries are removed based on the combination of **company_id**, **company_name**, and **job_posting_count**. The cleaned DataFrame is stored in **top_companies_cleaned**, ensuring unique records for further analysis.\n"
   ]
  },
  {
   "cell_type": "code",
   "execution_count": 36,
   "metadata": {},
   "outputs": [
    {
     "data": {
      "text/html": [
       "<div>\n",
       "<style scoped>\n",
       "    .dataframe tbody tr th:only-of-type {\n",
       "        vertical-align: middle;\n",
       "    }\n",
       "\n",
       "    .dataframe tbody tr th {\n",
       "        vertical-align: top;\n",
       "    }\n",
       "\n",
       "    .dataframe thead th {\n",
       "        text-align: right;\n",
       "    }\n",
       "</style>\n",
       "<table border=\"1\" class=\"dataframe\">\n",
       "  <thead>\n",
       "    <tr style=\"text-align: right;\">\n",
       "      <th></th>\n",
       "      <th>company_id</th>\n",
       "      <th>company_name</th>\n",
       "      <th>job_posting_count</th>\n",
       "      <th>employee_count_x</th>\n",
       "    </tr>\n",
       "  </thead>\n",
       "  <tbody>\n",
       "    <tr>\n",
       "      <th>0</th>\n",
       "      <td>167757</td>\n",
       "      <td>The Job Network</td>\n",
       "      <td>350</td>\n",
       "      <td>73</td>\n",
       "    </tr>\n",
       "    <tr>\n",
       "      <th>1</th>\n",
       "      <td>11056</td>\n",
       "      <td>Insight Global</td>\n",
       "      <td>342</td>\n",
       "      <td>14122</td>\n",
       "    </tr>\n",
       "    <tr>\n",
       "      <th>122</th>\n",
       "      <td>18860134</td>\n",
       "      <td>Jobot</td>\n",
       "      <td>202</td>\n",
       "      <td>3643</td>\n",
       "    </tr>\n",
       "    <tr>\n",
       "      <th>186</th>\n",
       "      <td>1681</td>\n",
       "      <td>Robert Half</td>\n",
       "      <td>171</td>\n",
       "      <td>29268</td>\n",
       "    </tr>\n",
       "    <tr>\n",
       "      <th>330</th>\n",
       "      <td>248184</td>\n",
       "      <td>Creative Financial Staffing (CFS)</td>\n",
       "      <td>152</td>\n",
       "      <td>795</td>\n",
       "    </tr>\n",
       "    <tr>\n",
       "      <th>334</th>\n",
       "      <td>11229</td>\n",
       "      <td>Vaco</td>\n",
       "      <td>134</td>\n",
       "      <td>4883</td>\n",
       "    </tr>\n",
       "    <tr>\n",
       "      <th>434</th>\n",
       "      <td>1586</td>\n",
       "      <td>Amazon</td>\n",
       "      <td>124</td>\n",
       "      <td>743191</td>\n",
       "    </tr>\n",
       "    <tr>\n",
       "      <th>534</th>\n",
       "      <td>4787</td>\n",
       "      <td>Apex Systems</td>\n",
       "      <td>117</td>\n",
       "      <td>13125</td>\n",
       "    </tr>\n",
       "    <tr>\n",
       "      <th>583</th>\n",
       "      <td>5235</td>\n",
       "      <td>LHH</td>\n",
       "      <td>117</td>\n",
       "      <td>13428</td>\n",
       "    </tr>\n",
       "    <tr>\n",
       "      <th>752</th>\n",
       "      <td>2396310</td>\n",
       "      <td>Randstad USA</td>\n",
       "      <td>106</td>\n",
       "      <td>8971</td>\n",
       "    </tr>\n",
       "    <tr>\n",
       "      <th>816</th>\n",
       "      <td>1506196</td>\n",
       "      <td>Health Carousel Nursing &amp; Allied Health</td>\n",
       "      <td>104</td>\n",
       "      <td>245</td>\n",
       "    </tr>\n",
       "    <tr>\n",
       "      <th>825</th>\n",
       "      <td>2204084</td>\n",
       "      <td>Talentify.io</td>\n",
       "      <td>100</td>\n",
       "      <td>151</td>\n",
       "    </tr>\n",
       "    <tr>\n",
       "      <th>834</th>\n",
       "      <td>79383535</td>\n",
       "      <td>Akkodis</td>\n",
       "      <td>98</td>\n",
       "      <td>22902</td>\n",
       "    </tr>\n",
       "    <tr>\n",
       "      <th>978</th>\n",
       "      <td>164414</td>\n",
       "      <td>Intermountain Health</td>\n",
       "      <td>97</td>\n",
       "      <td>30779</td>\n",
       "    </tr>\n",
       "    <tr>\n",
       "      <th>1027</th>\n",
       "      <td>21836</td>\n",
       "      <td>CyberCoders</td>\n",
       "      <td>95</td>\n",
       "      <td>637</td>\n",
       "    </tr>\n",
       "    <tr>\n",
       "      <th>1052</th>\n",
       "      <td>2908367</td>\n",
       "      <td>gpac</td>\n",
       "      <td>94</td>\n",
       "      <td>1747</td>\n",
       "    </tr>\n",
       "    <tr>\n",
       "      <th>1056</th>\n",
       "      <td>2615835</td>\n",
       "      <td>Piper Companies</td>\n",
       "      <td>94</td>\n",
       "      <td>185</td>\n",
       "    </tr>\n",
       "    <tr>\n",
       "      <th>1060</th>\n",
       "      <td>3175</td>\n",
       "      <td>Ingersoll Rand</td>\n",
       "      <td>92</td>\n",
       "      <td>14038</td>\n",
       "    </tr>\n",
       "    <tr>\n",
       "      <th>1096</th>\n",
       "      <td>1431</td>\n",
       "      <td>PepsiCo</td>\n",
       "      <td>88</td>\n",
       "      <td>120127</td>\n",
       "    </tr>\n",
       "    <tr>\n",
       "      <th>1177</th>\n",
       "      <td>11655</td>\n",
       "      <td>Open Systems Technologies</td>\n",
       "      <td>87</td>\n",
       "      <td>367</td>\n",
       "    </tr>\n",
       "    <tr>\n",
       "      <th>1181</th>\n",
       "      <td>166209</td>\n",
       "      <td>Sutter Health</td>\n",
       "      <td>87</td>\n",
       "      <td>19910</td>\n",
       "    </tr>\n",
       "    <tr>\n",
       "      <th>1217</th>\n",
       "      <td>827183</td>\n",
       "      <td>Russell Tobin</td>\n",
       "      <td>86</td>\n",
       "      <td>597</td>\n",
       "    </tr>\n",
       "    <tr>\n",
       "      <th>1242</th>\n",
       "      <td>164880</td>\n",
       "      <td>Maxim Healthcare Staffing</td>\n",
       "      <td>86</td>\n",
       "      <td>19834</td>\n",
       "    </tr>\n",
       "    <tr>\n",
       "      <th>1291</th>\n",
       "      <td>6849</td>\n",
       "      <td>Dice</td>\n",
       "      <td>85</td>\n",
       "      <td>684</td>\n",
       "    </tr>\n",
       "    <tr>\n",
       "      <th>1316</th>\n",
       "      <td>2532</td>\n",
       "      <td>U.S. Bank</td>\n",
       "      <td>83</td>\n",
       "      <td>77350</td>\n",
       "    </tr>\n",
       "    <tr>\n",
       "      <th>1352</th>\n",
       "      <td>17980749</td>\n",
       "      <td>Lakefield Veterinary Group</td>\n",
       "      <td>82</td>\n",
       "      <td>147</td>\n",
       "    </tr>\n",
       "    <tr>\n",
       "      <th>1356</th>\n",
       "      <td>2379156</td>\n",
       "      <td>Energy Jobline</td>\n",
       "      <td>81</td>\n",
       "      <td>61</td>\n",
       "    </tr>\n",
       "    <tr>\n",
       "      <th>1381</th>\n",
       "      <td>20573</td>\n",
       "      <td>Life Care Centers of America</td>\n",
       "      <td>79</td>\n",
       "      <td>6423</td>\n",
       "    </tr>\n",
       "    <tr>\n",
       "      <th>1406</th>\n",
       "      <td>165944</td>\n",
       "      <td>Sherwin-Williams</td>\n",
       "      <td>79</td>\n",
       "      <td>43925</td>\n",
       "    </tr>\n",
       "    <tr>\n",
       "      <th>1422</th>\n",
       "      <td>3476</td>\n",
       "      <td>Michael Page</td>\n",
       "      <td>79</td>\n",
       "      <td>10385</td>\n",
       "    </tr>\n",
       "    <tr>\n",
       "      <th>1522</th>\n",
       "      <td>1668</td>\n",
       "      <td>FedEx Ground</td>\n",
       "      <td>76</td>\n",
       "      <td>57687</td>\n",
       "    </tr>\n",
       "    <tr>\n",
       "      <th>1586</th>\n",
       "      <td>28923</td>\n",
       "      <td>Harbor Freight Tools</td>\n",
       "      <td>74</td>\n",
       "      <td>13379</td>\n",
       "    </tr>\n",
       "    <tr>\n",
       "      <th>1622</th>\n",
       "      <td>72483</td>\n",
       "      <td>Aimbridge Hospitality</td>\n",
       "      <td>73</td>\n",
       "      <td>7825</td>\n",
       "    </tr>\n",
       "    <tr>\n",
       "      <th>1658</th>\n",
       "      <td>10667</td>\n",
       "      <td>Meta</td>\n",
       "      <td>73</td>\n",
       "      <td>116029</td>\n",
       "    </tr>\n",
       "    <tr>\n",
       "      <th>1674</th>\n",
       "      <td>2203697</td>\n",
       "      <td>Experis</td>\n",
       "      <td>73</td>\n",
       "      <td>9300</td>\n",
       "    </tr>\n",
       "    <tr>\n",
       "      <th>1710</th>\n",
       "      <td>11009726</td>\n",
       "      <td>RightWorks</td>\n",
       "      <td>72</td>\n",
       "      <td>109</td>\n",
       "    </tr>\n",
       "    <tr>\n",
       "      <th>1726</th>\n",
       "      <td>1441</td>\n",
       "      <td>Google</td>\n",
       "      <td>72</td>\n",
       "      <td>283347</td>\n",
       "    </tr>\n",
       "    <tr>\n",
       "      <th>1751</th>\n",
       "      <td>8403</td>\n",
       "      <td>BJ's Wholesale Club</td>\n",
       "      <td>72</td>\n",
       "      <td>12819</td>\n",
       "    </tr>\n",
       "    <tr>\n",
       "      <th>1776</th>\n",
       "      <td>2775</td>\n",
       "      <td>TD</td>\n",
       "      <td>72</td>\n",
       "      <td>101563</td>\n",
       "    </tr>\n",
       "    <tr>\n",
       "      <th>1812</th>\n",
       "      <td>79098</td>\n",
       "      <td>Allied OneSource</td>\n",
       "      <td>68</td>\n",
       "      <td>191</td>\n",
       "    </tr>\n",
       "    <tr>\n",
       "      <th>1816</th>\n",
       "      <td>2474662</td>\n",
       "      <td>Planet Pharma</td>\n",
       "      <td>67</td>\n",
       "      <td>1193</td>\n",
       "    </tr>\n",
       "    <tr>\n",
       "      <th>1865</th>\n",
       "      <td>7260</td>\n",
       "      <td>Ultimate Staffing</td>\n",
       "      <td>67</td>\n",
       "      <td>1228</td>\n",
       "    </tr>\n",
       "    <tr>\n",
       "      <th>1914</th>\n",
       "      <td>33246798</td>\n",
       "      <td>TikTok</td>\n",
       "      <td>66</td>\n",
       "      <td>63669</td>\n",
       "    </tr>\n",
       "    <tr>\n",
       "      <th>1963</th>\n",
       "      <td>19472</td>\n",
       "      <td>BAYADA Home Health Care</td>\n",
       "      <td>64</td>\n",
       "      <td>13841</td>\n",
       "    </tr>\n",
       "    <tr>\n",
       "      <th>1979</th>\n",
       "      <td>18043</td>\n",
       "      <td>Addison Group</td>\n",
       "      <td>64</td>\n",
       "      <td>1909</td>\n",
       "    </tr>\n",
       "    <tr>\n",
       "      <th>2004</th>\n",
       "      <td>61400</td>\n",
       "      <td>The Reserves Network</td>\n",
       "      <td>63</td>\n",
       "      <td>617</td>\n",
       "    </tr>\n",
       "    <tr>\n",
       "      <th>2013</th>\n",
       "      <td>2190</td>\n",
       "      <td>Visa</td>\n",
       "      <td>62</td>\n",
       "      <td>25478</td>\n",
       "    </tr>\n",
       "    <tr>\n",
       "      <th>2029</th>\n",
       "      <td>1235</td>\n",
       "      <td>Wells Fargo</td>\n",
       "      <td>62</td>\n",
       "      <td>193991</td>\n",
       "    </tr>\n",
       "    <tr>\n",
       "      <th>2093</th>\n",
       "      <td>12192</td>\n",
       "      <td>Safelite</td>\n",
       "      <td>62</td>\n",
       "      <td>5955</td>\n",
       "    </tr>\n",
       "    <tr>\n",
       "      <th>2118</th>\n",
       "      <td>61677</td>\n",
       "      <td>eTeam</td>\n",
       "      <td>62</td>\n",
       "      <td>3303</td>\n",
       "    </tr>\n",
       "  </tbody>\n",
       "</table>\n",
       "</div>"
      ],
      "text/plain": [
       "      company_id                             company_name  job_posting_count  \\\n",
       "0         167757                          The Job Network                350   \n",
       "1          11056                           Insight Global                342   \n",
       "122     18860134                                    Jobot                202   \n",
       "186         1681                              Robert Half                171   \n",
       "330       248184        Creative Financial Staffing (CFS)                152   \n",
       "334        11229                                     Vaco                134   \n",
       "434         1586                                   Amazon                124   \n",
       "534         4787                             Apex Systems                117   \n",
       "583         5235                                      LHH                117   \n",
       "752      2396310                             Randstad USA                106   \n",
       "816      1506196  Health Carousel Nursing & Allied Health                104   \n",
       "825      2204084                             Talentify.io                100   \n",
       "834     79383535                                  Akkodis                 98   \n",
       "978       164414                     Intermountain Health                 97   \n",
       "1027       21836                              CyberCoders                 95   \n",
       "1052     2908367                                     gpac                 94   \n",
       "1056     2615835                          Piper Companies                 94   \n",
       "1060        3175                           Ingersoll Rand                 92   \n",
       "1096        1431                                  PepsiCo                 88   \n",
       "1177       11655                Open Systems Technologies                 87   \n",
       "1181      166209                            Sutter Health                 87   \n",
       "1217      827183                            Russell Tobin                 86   \n",
       "1242      164880                Maxim Healthcare Staffing                 86   \n",
       "1291        6849                                     Dice                 85   \n",
       "1316        2532                                U.S. Bank                 83   \n",
       "1352    17980749               Lakefield Veterinary Group                 82   \n",
       "1356     2379156                           Energy Jobline                 81   \n",
       "1381       20573             Life Care Centers of America                 79   \n",
       "1406      165944                         Sherwin-Williams                 79   \n",
       "1422        3476                             Michael Page                 79   \n",
       "1522        1668                             FedEx Ground                 76   \n",
       "1586       28923                     Harbor Freight Tools                 74   \n",
       "1622       72483                    Aimbridge Hospitality                 73   \n",
       "1658       10667                                     Meta                 73   \n",
       "1674     2203697                                  Experis                 73   \n",
       "1710    11009726                               RightWorks                 72   \n",
       "1726        1441                                   Google                 72   \n",
       "1751        8403                      BJ's Wholesale Club                 72   \n",
       "1776        2775                                       TD                 72   \n",
       "1812       79098                         Allied OneSource                 68   \n",
       "1816     2474662                            Planet Pharma                 67   \n",
       "1865        7260                        Ultimate Staffing                 67   \n",
       "1914    33246798                                   TikTok                 66   \n",
       "1963       19472                  BAYADA Home Health Care                 64   \n",
       "1979       18043                            Addison Group                 64   \n",
       "2004       61400                     The Reserves Network                 63   \n",
       "2013        2190                                     Visa                 62   \n",
       "2029        1235                              Wells Fargo                 62   \n",
       "2093       12192                                 Safelite                 62   \n",
       "2118       61677                                    eTeam                 62   \n",
       "\n",
       "      employee_count_x  \n",
       "0                   73  \n",
       "1                14122  \n",
       "122               3643  \n",
       "186              29268  \n",
       "330                795  \n",
       "334               4883  \n",
       "434             743191  \n",
       "534              13125  \n",
       "583              13428  \n",
       "752               8971  \n",
       "816                245  \n",
       "825                151  \n",
       "834              22902  \n",
       "978              30779  \n",
       "1027               637  \n",
       "1052              1747  \n",
       "1056               185  \n",
       "1060             14038  \n",
       "1096            120127  \n",
       "1177               367  \n",
       "1181             19910  \n",
       "1217               597  \n",
       "1242             19834  \n",
       "1291               684  \n",
       "1316             77350  \n",
       "1352               147  \n",
       "1356                61  \n",
       "1381              6423  \n",
       "1406             43925  \n",
       "1422             10385  \n",
       "1522             57687  \n",
       "1586             13379  \n",
       "1622              7825  \n",
       "1658            116029  \n",
       "1674              9300  \n",
       "1710               109  \n",
       "1726            283347  \n",
       "1751             12819  \n",
       "1776            101563  \n",
       "1812               191  \n",
       "1816              1193  \n",
       "1865              1228  \n",
       "1914             63669  \n",
       "1963             13841  \n",
       "1979              1909  \n",
       "2004               617  \n",
       "2013             25478  \n",
       "2029            193991  \n",
       "2093              5955  \n",
       "2118              3303  "
      ]
     },
     "execution_count": 36,
     "metadata": {},
     "output_type": "execute_result"
    }
   ],
   "source": [
    "\n",
    "df = top_companies.drop(columns=['employee_count_y'])\n",
    "top_companies_cleaned = df.drop_duplicates(subset=['company_id', 'company_name', 'job_posting_count'], keep='first')\n",
    "top_companies_cleaned"
   ]
  },
  {
   "cell_type": "markdown",
   "metadata": {},
   "source": [
    "<span style=\"color: red;\"> DO NOT RUN THE BELOW CODE </span>"
   ]
  },
  {
   "cell_type": "code",
   "execution_count": 32,
   "metadata": {},
   "outputs": [
    {
     "name": "stdout",
     "output_type": "stream",
     "text": [
      "      company_id                             company_name  job_posting_count  \\\n",
      "0         167757                          The Job Network                350   \n",
      "1          11056                           Insight Global                342   \n",
      "122     18860134                                    Jobot                202   \n",
      "186         1681                              Robert Half                171   \n",
      "330       248184        Creative Financial Staffing (CFS)                152   \n",
      "334        11229                                     Vaco                134   \n",
      "434         1586                                   Amazon                124   \n",
      "534         4787                             Apex Systems                117   \n",
      "583         5235                                      LHH                117   \n",
      "752      2396310                             Randstad USA                106   \n",
      "816      1506196  Health Carousel Nursing & Allied Health                104   \n",
      "825      2204084                             Talentify.io                100   \n",
      "834     79383535                                  Akkodis                 98   \n",
      "978       164414                     Intermountain Health                 97   \n",
      "1027       21836                              CyberCoders                 95   \n",
      "1052     2908367                                     gpac                 94   \n",
      "1056     2615835                          Piper Companies                 94   \n",
      "1060        3175                           Ingersoll Rand                 92   \n",
      "1096        1431                                  PepsiCo                 88   \n",
      "1177       11655                Open Systems Technologies                 87   \n",
      "1181      166209                            Sutter Health                 87   \n",
      "1217      827183                            Russell Tobin                 86   \n",
      "1242      164880                Maxim Healthcare Staffing                 86   \n",
      "1291        6849                                     Dice                 85   \n",
      "1316        2532                                U.S. Bank                 83   \n",
      "1352    17980749               Lakefield Veterinary Group                 82   \n",
      "1356     2379156                           Energy Jobline                 81   \n",
      "1381       20573             Life Care Centers of America                 79   \n",
      "1406      165944                         Sherwin-Williams                 79   \n",
      "1422        3476                             Michael Page                 79   \n",
      "1522        1668                             FedEx Ground                 76   \n",
      "1586       28923                     Harbor Freight Tools                 74   \n",
      "1622       72483                    Aimbridge Hospitality                 73   \n",
      "1658       10667                                     Meta                 73   \n",
      "1674     2203697                                  Experis                 73   \n",
      "1710    11009726                               RightWorks                 72   \n",
      "1726        1441                                   Google                 72   \n",
      "1751        8403                      BJ's Wholesale Club                 72   \n",
      "1776        2775                                       TD                 72   \n",
      "1812       79098                         Allied OneSource                 68   \n",
      "1816     2474662                            Planet Pharma                 67   \n",
      "1865        7260                        Ultimate Staffing                 67   \n",
      "1914    33246798                                   TikTok                 66   \n",
      "1963       19472                  BAYADA Home Health Care                 64   \n",
      "1979       18043                            Addison Group                 64   \n",
      "2004       61400                     The Reserves Network                 63   \n",
      "2013        2190                                     Visa                 62   \n",
      "2029        1235                              Wells Fargo                 62   \n",
      "2093       12192                                 Safelite                 62   \n",
      "2118       61677                                    eTeam                 62   \n",
      "\n",
      "      employee_count_x  \n",
      "0                   73  \n",
      "1                14122  \n",
      "122               3643  \n",
      "186              29268  \n",
      "330                795  \n",
      "334               4883  \n",
      "434             743191  \n",
      "534              13125  \n",
      "583              13428  \n",
      "752               8971  \n",
      "816                245  \n",
      "825                151  \n",
      "834              22902  \n",
      "978              30779  \n",
      "1027               637  \n",
      "1052              1747  \n",
      "1056               185  \n",
      "1060             14038  \n",
      "1096            120127  \n",
      "1177               367  \n",
      "1181             19910  \n",
      "1217               597  \n",
      "1242             19834  \n",
      "1291               684  \n",
      "1316             77350  \n",
      "1352               147  \n",
      "1356                61  \n",
      "1381              6423  \n",
      "1406             43925  \n",
      "1422             10385  \n",
      "1522             57687  \n",
      "1586             13379  \n",
      "1622              7825  \n",
      "1658            116029  \n",
      "1674              9300  \n",
      "1710               109  \n",
      "1726            283347  \n",
      "1751             12819  \n",
      "1776            101563  \n",
      "1812               191  \n",
      "1816              1193  \n",
      "1865              1228  \n",
      "1914             63669  \n",
      "1963             13841  \n",
      "1979              1909  \n",
      "2004               617  \n",
      "2013             25478  \n",
      "2029            193991  \n",
      "2093              5955  \n",
      "2118              3303  \n"
     ]
    }
   ],
   "source": [
    "# Take the first occurrence of employee_count for each company\n",
    "top_companies_cleaned = df.drop_duplicates(subset=['company_id', 'company_name'], keep='first')\n",
    "\n",
    "# Or for the last occurrence, you can use:\n",
    "# top_companies_cleaned = top_companies.drop_duplicates(subset=['company_id', 'company_name'], keep='last')\n",
    "\n",
    "print(top_companies_cleaned)\n"
   ]
  },
  {
   "cell_type": "markdown",
   "metadata": {},
   "source": [
    "### Visualizing Job Posting Count vs. Employee Count\n",
    "\n",
    "**Seaborn** and **matplotlib** are imported for data visualization, and the plot style is set to \"whitegrid.\" A scatter plot is created to show the relationship between **employee_count** and **job_posting_count** from the **top_companies_cleaned** DataFrame. The plot is customized with a title and labeled axes for clarity. Finally, the plot is displayed to visualize the data.\n"
   ]
  },
  {
   "cell_type": "code",
   "execution_count": 37,
   "metadata": {},
   "outputs": [
    {
     "data": {
      "image/png": "[encoded data removed]",
      "text/plain": [
       "<Figure size 1000x600 with 1 Axes>"
      ]
     },
     "metadata": {},
     "output_type": "display_data"
    }
   ],
   "source": [
    "import seaborn as sns\n",
    "import matplotlib.pyplot as plt\n",
    "\n",
    "# Set the style of seaborn plot\n",
    "sns.set(style=\"whitegrid\")\n",
    "\n",
    "# Create the scatter plot using seaborn\n",
    "plt.figure(figsize=(10, 6))  # Set figure size\n",
    "sns.scatterplot(x='employee_count_x', y='job_posting_count', data=top_companies_cleaned, color='blue')\n",
    "\n",
    "# Adding labels and title\n",
    "plt.title('Job Posting Count vs. Employee Count', fontsize=16)\n",
    "plt.xlabel('Employee Count', fontsize=12)\n",
    "plt.ylabel('Job Posting Count', fontsize=12)\n",
    "\n",
    "# Show the plot\n",
    "plt.show()\n"
   ]
  },
  {
   "cell_type": "code",
   "execution_count": 38,
   "metadata": {},
   "outputs": [
    {
     "data": {
      "image/png": "[encoded data removed]",
      "text/plain": [
       "<Figure size 1000x600 with 1 Axes>"
      ]
     },
     "metadata": {},
     "output_type": "display_data"
    }
   ],
   "source": [
    "plt.figure(figsize=(10, 6))\n",
    "sns.regplot(x='employee_count_x', y='job_posting_count', data=top_companies_cleaned, scatter_kws={'s':50}, line_kws={'color':'red'})\n",
    "\n",
    "# Adding labels and title\n",
    "plt.title('Job Posting Count vs. Employee Count with Regression Line', fontsize=16)\n",
    "plt.xlabel('Employee Count', fontsize=12)\n",
    "plt.ylabel('Job Posting Count', fontsize=12)\n",
    "\n",
    "plt.show()"
   ]
  },
  {
   "cell_type": "markdown",
   "metadata": {},
   "source": [
    "### Analyzing Average Job Postings by Employee Size Category\n",
    "\n",
    "Employee size bins are created using **pd.cut()**, categorizing companies based on the **employee_count_x** column into six groups: **Very Small**, **Small**, **Medium**, **Large**, **Very Large**, and **Extra Large**. \n",
    "\n",
    "The **top_companies_cleaned** DataFrame is then grouped by these bins to calculate the mean **job_posting_count** for each category, resulting in the **line_data** DataFrame.\n",
    "\n",
    "A line plot is created to visualize the average job postings for each employee size category. The plot includes markers for clarity, along with labeled axes and a title for better understanding of the relationship between employee size and job postings.\n"
   ]
  },
  {
   "cell_type": "code",
   "execution_count": 40,
   "metadata": {},
   "outputs": [
    {
     "name": "stderr",
     "output_type": "stream",
     "text": [
      "C:\\Users\\My Account\\AppData\\Local\\Temp\\ipykernel_13808\\1382270459.py:4: SettingWithCopyWarning: \n",
      "A value is trying to be set on a copy of a slice from a DataFrame.\n",
      "Try using .loc[row_indexer,col_indexer] = value instead\n",
      "\n",
      "See the caveats in the documentation: https://pandas.pydata.org/pandas-docs/stable/user_guide/indexing.html#returning-a-view-versus-a-copy\n",
      "  top_companies_cleaned['employee_size_bin'] = pd.cut(top_companies_cleaned['employee_count_x'],\n",
      "C:\\Users\\My Account\\AppData\\Local\\Temp\\ipykernel_13808\\1382270459.py:9: FutureWarning: The default of observed=False is deprecated and will be changed to True in a future version of pandas. Pass observed=False to retain current behavior or observed=True to adopt the future default and silence this warning.\n",
      "  line_data = top_companies_cleaned.groupby('employee_size_bin').agg({'job_posting_count': 'mean'}).reset_index()\n"
     ]
    },
    {
     "data": {
      "image/png": "[encoded data removed]",
      "text/plain": [
       "<Figure size 1000x600 with 1 Axes>"
      ]
     },
     "metadata": {},
     "output_type": "display_data"
    }
   ],
   "source": [
    "import pandas as pd\n",
    "\n",
    "# Create employee size bins\n",
    "top_companies_cleaned['employee_size_bin'] = pd.cut(top_companies_cleaned['employee_count_x'], \n",
    "                                                     bins=[0, 50, 200, 500, 1000, 5000, float('inf')],\n",
    "                                                     labels=['Very Small', 'Small', 'Medium', 'Large', 'Very Large', 'Extra Large'])\n",
    "\n",
    "# Group by the new bins and calculate the mean job postings\n",
    "line_data = top_companies_cleaned.groupby('employee_size_bin').agg({'job_posting_count': 'mean'}).reset_index()\n",
    "\n",
    "# Create a line plot\n",
    "plt.figure(figsize=(10, 6))\n",
    "sns.lineplot(x='employee_size_bin', y='job_posting_count', data=line_data, marker='o')\n",
    "\n",
    "# Adding labels and title\n",
    "plt.title('Average Job Posting Count by Employee Size Category', fontsize=16)\n",
    "plt.xlabel('Employee Size Category', fontsize=12)\n",
    "plt.ylabel('Average Job Posting Count', fontsize=12)\n",
    "\n",
    "plt.show()\n"
   ]
  },
  {
   "cell_type": "code",
   "execution_count": 43,
   "metadata": {},
   "outputs": [
    {
     "data": {
      "application/vnd.plotly.v1+json": {
       "config": {
        "plotlyServerURL": "https://plot.ly"
       },
       "data": [
        {
         "hovertemplate": "employee_size_bin=%{x}<br>job_posting_count=%{y}<extra></extra>",
         "legendgroup": "",
         "line": {
          "color": "#636efa",
          "dash": "solid"
         },
         "marker": {
          "symbol": "circle"
         },
         "mode": "lines+markers",
         "name": "",
         "orientation": "v",
         "showlegend": false,
         "type": "scatter",
         "x": [
          "Very Small",
          "Small",
          "Medium",
          "Large",
          "Very Large",
          "Extra Large"
         ],
         "xaxis": "x",
         "y": [
          null,
          121,
          95.5,
          96.2,
          98.57142857142857,
          94.6896551724138
         ],
         "yaxis": "y"
        }
       ],
       "layout": {
        "legend": {
         "tracegroupgap": 0
        },
        "template": {
         "data": {
          "bar": [
           {
            "error_x": {
             "color": "#2a3f5f"
            },
            "error_y": {
             "color": "#2a3f5f"
            },
            "marker": {
             "line": {
              "color": "#E5ECF6",
              "width": 0.5
             },
             "pattern": {
              "fillmode": "overlay",
              "size": 10,
              "solidity": 0.2
             }
            },
            "type": "bar"
           }
          ],
          "barpolar": [
           {
            "marker": {
             "line": {
              "color": "#E5ECF6",
              "width": 0.5
             },
             "pattern": {
              "fillmode": "overlay",
              "size": 10,
              "solidity": 0.2
             }
            },
            "type": "barpolar"
           }
          ],
          "carpet": [
           {
            "aaxis": {
             "endlinecolor": "#2a3f5f",
             "gridcolor": "white",
             "linecolor": "white",
             "minorgridcolor": "white",
             "startlinecolor": "#2a3f5f"
            },
            "baxis": {
             "endlinecolor": "#2a3f5f",
             "gridcolor": "white",
             "linecolor": "white",
             "minorgridcolor": "white",
             "startlinecolor": "#2a3f5f"
            },
            "type": "carpet"
           }
          ],
          "choropleth": [
           {
            "colorbar": {
             "outlinewidth": 0,
             "ticks": ""
            },
            "type": "choropleth"
           }
          ],
          "contour": [
           {
            "colorbar": {
             "outlinewidth": 0,
             "ticks": ""
            },
            "colorscale": [
             [
              0,
              "#0d0887"
             ],
             [
              0.1111111111111111,
              "#46039f"
             ],
             [
              0.2222222222222222,
              "#7201a8"
             ],
             [
              0.3333333333333333,
              "#9c179e"
             ],
             [
              0.4444444444444444,
              "#bd3786"
             ],
             [
              0.5555555555555556,
              "#d8576b"
             ],
             [
              0.6666666666666666,
              "#ed7953"
             ],
             [
              0.7777777777777778,
              "#fb9f3a"
             ],
             [
              0.8888888888888888,
              "#fdca26"
             ],
             [
              1,
              "#f0f921"
             ]
            ],
            "type": "contour"
           }
          ],
          "contourcarpet": [
           {
            "colorbar": {
             "outlinewidth": 0,
             "ticks": ""
            },
            "type": "contourcarpet"
           }
          ],
          "heatmap": [
           {
            "colorbar": {
             "outlinewidth": 0,
             "ticks": ""
            },
            "colorscale": [
             [
              0,
              "#0d0887"
             ],
             [
              0.1111111111111111,
              "#46039f"
             ],
             [
              0.2222222222222222,
              "#7201a8"
             ],
             [
              0.3333333333333333,
              "#9c179e"
             ],
             [
              0.4444444444444444,
              "#bd3786"
             ],
             [
              0.5555555555555556,
              "#d8576b"
             ],
             [
              0.6666666666666666,
              "#ed7953"
             ],
             [
              0.7777777777777778,
              "#fb9f3a"
             ],
             [
              0.8888888888888888,
              "#fdca26"
             ],
             [
              1,
              "#f0f921"
             ]
            ],
            "type": "heatmap"
           }
          ],
          "heatmapgl": [
           {
            "colorbar": {
             "outlinewidth": 0,
             "ticks": ""
            },
            "colorscale": [
             [
              0,
              "#0d0887"
             ],
             [
              0.1111111111111111,
              "#46039f"
             ],
             [
              0.2222222222222222,
              "#7201a8"
             ],
             [
              0.3333333333333333,
              "#9c179e"
             ],
             [
              0.4444444444444444,
              "#bd3786"
             ],
             [
              0.5555555555555556,
              "#d8576b"
             ],
             [
              0.6666666666666666,
              "#ed7953"
             ],
             [
              0.7777777777777778,
              "#fb9f3a"
             ],
             [
              0.8888888888888888,
              "#fdca26"
             ],
             [
              1,
              "#f0f921"
             ]
            ],
            "type": "heatmapgl"
           }
          ],
          "histogram": [
           {
            "marker": {
             "pattern": {
              "fillmode": "overlay",
              "size": 10,
              "solidity": 0.2
             }
            },
            "type": "histogram"
           }
          ],
          "histogram2d": [
           {
            "colorbar": {
             "outlinewidth": 0,
             "ticks": ""
            },
            "colorscale": [
             [
              0,
              "#0d0887"
             ],
             [
              0.1111111111111111,
              "#46039f"
             ],
             [
              0.2222222222222222,
              "#7201a8"
             ],
             [
              0.3333333333333333,
              "#9c179e"
             ],
             [
              0.4444444444444444,
              "#bd3786"
             ],
             [
              0.5555555555555556,
              "#d8576b"
             ],
             [
              0.6666666666666666,
              "#ed7953"
             ],
             [
              0.7777777777777778,
              "#fb9f3a"
             ],
             [
              0.8888888888888888,
              "#fdca26"
             ],
             [
              1,
              "#f0f921"
             ]
            ],
            "type": "histogram2d"
           }
          ],
          "histogram2dcontour": [
           {
            "colorbar": {
             "outlinewidth": 0,
             "ticks": ""
            },
            "colorscale": [
             [
              0,
              "#0d0887"
             ],
             [
              0.1111111111111111,
              "#46039f"
             ],
             [
              0.2222222222222222,
              "#7201a8"
             ],
             [
              0.3333333333333333,
              "#9c179e"
             ],
             [
              0.4444444444444444,
              "#bd3786"
             ],
             [
              0.5555555555555556,
              "#d8576b"
             ],
             [
              0.6666666666666666,
              "#ed7953"
             ],
             [
              0.7777777777777778,
              "#fb9f3a"
             ],
             [
              0.8888888888888888,
              "#fdca26"
             ],
             [
              1,
              "#f0f921"
             ]
            ],
            "type": "histogram2dcontour"
           }
          ],
          "mesh3d": [
           {
            "colorbar": {
             "outlinewidth": 0,
             "ticks": ""
            },
            "type": "mesh3d"
           }
          ],
          "parcoords": [
           {
            "line": {
             "colorbar": {
              "outlinewidth": 0,
              "ticks": ""
             }
            },
            "type": "parcoords"
           }
          ],
          "pie": [
           {
            "automargin": true,
            "type": "pie"
           }
          ],
          "scatter": [
           {
            "fillpattern": {
             "fillmode": "overlay",
             "size": 10,
             "solidity": 0.2
            },
            "type": "scatter"
           }
          ],
          "scatter3d": [
           {
            "line": {
             "colorbar": {
              "outlinewidth": 0,
              "ticks": ""
             }
            },
            "marker": {
             "colorbar": {
              "outlinewidth": 0,
              "ticks": ""
             }
            },
            "type": "scatter3d"
           }
          ],
          "scattercarpet": [
           {
            "marker": {
             "colorbar": {
              "outlinewidth": 0,
              "ticks": ""
             }
            },
            "type": "scattercarpet"
           }
          ],
          "scattergeo": [
           {
            "marker": {
             "colorbar": {
              "outlinewidth": 0,
              "ticks": ""
             }
            },
            "type": "scattergeo"
           }
          ],
          "scattergl": [
           {
            "marker": {
             "colorbar": {
              "outlinewidth": 0,
              "ticks": ""
             }
            },
            "type": "scattergl"
           }
          ],
          "scattermapbox": [
           {
            "marker": {
             "colorbar": {
              "outlinewidth": 0,
              "ticks": ""
             }
            },
            "type": "scattermapbox"
           }
          ],
          "scatterpolar": [
           {
            "marker": {
             "colorbar": {
              "outlinewidth": 0,
              "ticks": ""
             }
            },
            "type": "scatterpolar"
           }
          ],
          "scatterpolargl": [
           {
            "marker": {
             "colorbar": {
              "outlinewidth": 0,
              "ticks": ""
             }
            },
            "type": "scatterpolargl"
           }
          ],
          "scatterternary": [
           {
            "marker": {
             "colorbar": {
              "outlinewidth": 0,
              "ticks": ""
             }
            },
            "type": "scatterternary"
           }
          ],
          "surface": [
           {
            "colorbar": {
             "outlinewidth": 0,
             "ticks": ""
            },
            "colorscale": [
             [
              0,
              "#0d0887"
             ],
             [
              0.1111111111111111,
              "#46039f"
             ],
             [
              0.2222222222222222,
              "#7201a8"
             ],
             [
              0.3333333333333333,
              "#9c179e"
             ],
             [
              0.4444444444444444,
              "#bd3786"
             ],
             [
              0.5555555555555556,
              "#d8576b"
             ],
             [
              0.6666666666666666,
              "#ed7953"
             ],
             [
              0.7777777777777778,
              "#fb9f3a"
             ],
             [
              0.8888888888888888,
              "#fdca26"
             ],
             [
              1,
              "#f0f921"
             ]
            ],
            "type": "surface"
           }
          ],
          "table": [
           {
            "cells": {
             "fill": {
              "color": "#EBF0F8"
             },
             "line": {
              "color": "white"
             }
            },
            "header": {
             "fill": {
              "color": "#C8D4E3"
             },
             "line": {
              "color": "white"
             }
            },
            "type": "table"
           }
          ]
         },
         "layout": {
          "annotationdefaults": {
           "arrowcolor": "#2a3f5f",
           "arrowhead": 0,
           "arrowwidth": 1
          },
          "autotypenumbers": "strict",
          "coloraxis": {
           "colorbar": {
            "outlinewidth": 0,
            "ticks": ""
           }
          },
          "colorscale": {
           "diverging": [
            [
             0,
             "#8e0152"
            ],
            [
             0.1,
             "#c51b7d"
            ],
            [
             0.2,
             "#de77ae"
            ],
            [
             0.3,
             "#f1b6da"
            ],
            [
             0.4,
             "#fde0ef"
            ],
            [
             0.5,
             "#f7f7f7"
            ],
            [
             0.6,
             "#e6f5d0"
            ],
            [
             0.7,
             "#b8e186"
            ],
            [
             0.8,
             "#7fbc41"
            ],
            [
             0.9,
             "#4d9221"
            ],
            [
             1,
             "#276419"
            ]
           ],
           "sequential": [
            [
             0,
             "#0d0887"
            ],
            [
             0.1111111111111111,
             "#46039f"
            ],
            [
             0.2222222222222222,
             "#7201a8"
            ],
            [
             0.3333333333333333,
             "#9c179e"
            ],
            [
             0.4444444444444444,
             "#bd3786"
            ],
            [
             0.5555555555555556,
             "#d8576b"
            ],
            [
             0.6666666666666666,
             "#ed7953"
            ],
            [
             0.7777777777777778,
             "#fb9f3a"
            ],
            [
             0.8888888888888888,
             "#fdca26"
            ],
            [
             1,
             "#f0f921"
            ]
           ],
           "sequentialminus": [
            [
             0,
             "#0d0887"
            ],
            [
             0.1111111111111111,
             "#46039f"
            ],
            [
             0.2222222222222222,
             "#7201a8"
            ],
            [
             0.3333333333333333,
             "#9c179e"
            ],
            [
             0.4444444444444444,
             "#bd3786"
            ],
            [
             0.5555555555555556,
             "#d8576b"
            ],
            [
             0.6666666666666666,
             "#ed7953"
            ],
            [
             0.7777777777777778,
             "#fb9f3a"
            ],
            [
             0.8888888888888888,
             "#fdca26"
            ],
            [
             1,
             "#f0f921"
            ]
           ]
          },
          "colorway": [
           "#636efa",
           "#EF553B",
           "#00cc96",
           "#ab63fa",
           "#FFA15A",
           "#19d3f3",
           "#FF6692",
           "#B6E880",
           "#FF97FF",
           "#FECB52"
          ],
          "font": {
           "color": "#2a3f5f"
          },
          "geo": {
           "bgcolor": "white",
           "lakecolor": "white",
           "landcolor": "#E5ECF6",
           "showlakes": true,
           "showland": true,
           "subunitcolor": "white"
          },
          "hoverlabel": {
           "align": "left"
          },
          "hovermode": "closest",
          "mapbox": {
           "style": "light"
          },
          "paper_bgcolor": "white",
          "plot_bgcolor": "#E5ECF6",
          "polar": {
           "angularaxis": {
            "gridcolor": "white",
            "linecolor": "white",
            "ticks": ""
           },
           "bgcolor": "#E5ECF6",
           "radialaxis": {
            "gridcolor": "white",
            "linecolor": "white",
            "ticks": ""
           }
          },
          "scene": {
           "xaxis": {
            "backgroundcolor": "#E5ECF6",
            "gridcolor": "white",
            "gridwidth": 2,
            "linecolor": "white",
            "showbackground": true,
            "ticks": "",
            "zerolinecolor": "white"
           },
           "yaxis": {
            "backgroundcolor": "#E5ECF6",
            "gridcolor": "white",
            "gridwidth": 2,
            "linecolor": "white",
            "showbackground": true,
            "ticks": "",
            "zerolinecolor": "white"
           },
           "zaxis": {
            "backgroundcolor": "#E5ECF6",
            "gridcolor": "white",
            "gridwidth": 2,
            "linecolor": "white",
            "showbackground": true,
            "ticks": "",
            "zerolinecolor": "white"
           }
          },
          "shapedefaults": {
           "line": {
            "color": "#2a3f5f"
           }
          },
          "ternary": {
           "aaxis": {
            "gridcolor": "white",
            "linecolor": "white",
            "ticks": ""
           },
           "baxis": {
            "gridcolor": "white",
            "linecolor": "white",
            "ticks": ""
           },
           "bgcolor": "#E5ECF6",
           "caxis": {
            "gridcolor": "white",
            "linecolor": "white",
            "ticks": ""
           }
          },
          "title": {
           "x": 0.05
          },
          "xaxis": {
           "automargin": true,
           "gridcolor": "white",
           "linecolor": "white",
           "ticks": "",
           "title": {
            "standoff": 15
           },
           "zerolinecolor": "white",
           "zerolinewidth": 2
          },
          "yaxis": {
           "automargin": true,
           "gridcolor": "white",
           "linecolor": "white",
           "ticks": "",
           "title": {
            "standoff": 15
           },
           "zerolinecolor": "white",
           "zerolinewidth": 2
          }
         }
        },
        "title": {
         "text": "Average Job Posting Count by Employee Size Category"
        },
        "xaxis": {
         "anchor": "y",
         "domain": [
          0,
          1
         ],
         "title": {
          "text": "Employee Size Category"
         }
        },
        "yaxis": {
         "anchor": "x",
         "domain": [
          0,
          1
         ],
         "title": {
          "text": "Average Job Posting Count"
         }
        }
       }
      }
     },
     "metadata": {},
     "output_type": "display_data"
    }
   ],
   "source": [
    "import plotly.express as px\n",
    "\n",
    "# Create the line graph with Plotly\n",
    "fig = px.line(line_data, x='employee_size_bin', y='job_posting_count', \n",
    "              title='Average Job Posting Count by Employee Size Category',\n",
    "              markers=True)\n",
    "\n",
    "# Show the plot\n",
    "fig.update_layout(xaxis_title='Employee Size Category', yaxis_title='Average Job Posting Count')\n",
    "fig.show()\n"
   ]
  },
  {
   "cell_type": "code",
   "execution_count": 42,
   "metadata": {},
   "outputs": [
    {
     "name": "stdout",
     "output_type": "stream",
     "text": [
      "5.10.4\n"
     ]
    }
   ],
   "source": [
    "import nbformat\n",
    "print(nbformat.__version__)"
   ]
  },
  {
   "cell_type": "markdown",
   "metadata": {},
   "source": [
    "### Creating an Interactive Line Graph with Plotly\n",
    "\n",
    "A line graph is created to visualize the number of job postings for the top 50 companies using Plotly Express.\n",
    "\n",
    "1. **Figure Creation**:\n",
    "   - The `px.line()` function is used to generate the line graph, with the following parameters:\n",
    "     - **Data Source**: The **top_companies_cleaned** DataFrame serves as the data source, containing the company names and their corresponding job posting counts.\n",
    "     - **X-Axis**: Set to **company_name**, which represents the names of the companies.\n",
    "     - **Y-Axis**: Set to **job_posting_count**, showing the number of job postings for each company.\n",
    "     - **Title**: The graph is titled **\"Top 50 Companies with Highest Job Openings\"**, providing context for the viewer.\n",
    "     - **Markers**: Enabled with **markers=True**, allowing for easy identification of individual data points.\n",
    "     - **Hover Data**: Additional information is included with **hover_data={'employee_count': True, 'job_posting_count': True}**, displaying the employee count and job posting count when hovering over data points.\n",
    "\n",
    "2. **Updating Layout**:\n",
    "   - The layout of the plot is customized using `fig.update_layout()`:\n",
    "     - **X-Axis Title**: Set to **\"Company Name\"**, clarifying what is represented on the x-axis.\n",
    "     - **Y-Axis Title**: Set to **\"Job Posting Count\"**, indicating the values represented on the y-axis.\n",
    "\n",
    "3. **Displaying the Plot**:\n",
    "   - Finally, the plot is rendered using `fig.show()`, allowing for interaction and exploration of the visualized data.\n",
    "\n",
    "This interactive line graph provides a clear comparison of job posting activity across the top 50 companies, making it a valuable tool for analyzing hiring trends in the job market.\n"
   ]
  },
  {
   "cell_type": "code",
   "execution_count": 44,
   "metadata": {},
   "outputs": [
    {
     "data": {
      "application/vnd.plotly.v1+json": {
       "config": {
        "plotlyServerURL": "https://plot.ly"
       },
       "data": [
        {
         "customdata": [
          [
           73
          ],
          [
           14122
          ],
          [
           3643
          ],
          [
           29268
          ],
          [
           795
          ],
          [
           4883
          ],
          [
           743191
          ],
          [
           13125
          ],
          [
           13428
          ],
          [
           8971
          ],
          [
           245
          ],
          [
           151
          ],
          [
           22902
          ],
          [
           30779
          ],
          [
           637
          ],
          [
           1747
          ],
          [
           185
          ],
          [
           14038
          ],
          [
           120127
          ],
          [
           367
          ],
          [
           19910
          ],
          [
           597
          ],
          [
           19834
          ],
          [
           684
          ],
          [
           77350
          ],
          [
           147
          ],
          [
           61
          ],
          [
           6423
          ],
          [
           43925
          ],
          [
           10385
          ],
          [
           57687
          ],
          [
           13379
          ],
          [
           7825
          ],
          [
           116029
          ],
          [
           9300
          ],
          [
           109
          ],
          [
           283347
          ],
          [
           12819
          ],
          [
           101563
          ],
          [
           191
          ],
          [
           1193
          ],
          [
           1228
          ],
          [
           63669
          ],
          [
           13841
          ],
          [
           1909
          ],
          [
           617
          ],
          [
           25478
          ],
          [
           193991
          ],
          [
           5955
          ],
          [
           3303
          ]
         ],
         "hovertemplate": "company_name=%{x}<br>job_posting_count=%{y}<br>employee_count_x=%{customdata[0]}<extra></extra>",
         "legendgroup": "",
         "line": {
          "color": "#636efa",
          "dash": "solid"
         },
         "marker": {
          "symbol": "circle"
         },
         "mode": "lines+markers",
         "name": "",
         "orientation": "v",
         "showlegend": false,
         "type": "scatter",
         "x": [
          "The Job Network",
          "Insight Global",
          "Jobot",
          "Robert Half",
          "Creative Financial Staffing (CFS)",
          "Vaco",
          "Amazon",
          "Apex Systems",
          "LHH",
          "Randstad USA",
          "Health Carousel Nursing & Allied Health",
          "Talentify.io",
          "Akkodis",
          "Intermountain Health",
          "CyberCoders",
          "gpac",
          "Piper Companies",
          "Ingersoll Rand",
          "PepsiCo",
          "Open Systems Technologies",
          "Sutter Health",
          "Russell Tobin",
          "Maxim Healthcare Staffing",
          "Dice",
          "U.S. Bank",
          "Lakefield Veterinary Group",
          "Energy Jobline",
          "Life Care Centers of America",
          "Sherwin-Williams",
          "Michael Page",
          "FedEx Ground",
          "Harbor Freight Tools",
          "Aimbridge Hospitality",
          "Meta",
          "Experis",
          "RightWorks",
          "Google",
          "BJ's Wholesale Club",
          "TD",
          "Allied OneSource",
          "Planet Pharma",
          "Ultimate Staffing",
          "TikTok",
          "BAYADA Home Health Care",
          "Addison Group",
          "The Reserves Network",
          "Visa",
          "Wells Fargo",
          "Safelite",
          "eTeam"
         ],
         "xaxis": "x",
         "y": [
          350,
          342,
          202,
          171,
          152,
          134,
          124,
          117,
          117,
          106,
          104,
          100,
          98,
          97,
          95,
          94,
          94,
          92,
          88,
          87,
          87,
          86,
          86,
          85,
          83,
          82,
          81,
          79,
          79,
          79,
          76,
          74,
          73,
          73,
          73,
          72,
          72,
          72,
          72,
          68,
          67,
          67,
          66,
          64,
          64,
          63,
          62,
          62,
          62,
          62
         ],
         "yaxis": "y"
        }
       ],
       "layout": {
        "legend": {
         "tracegroupgap": 0
        },
        "template": {
         "data": {
          "bar": [
           {
            "error_x": {
             "color": "#2a3f5f"
            },
            "error_y": {
             "color": "#2a3f5f"
            },
            "marker": {
             "line": {
              "color": "#E5ECF6",
              "width": 0.5
             },
             "pattern": {
              "fillmode": "overlay",
              "size": 10,
              "solidity": 0.2
             }
            },
            "type": "bar"
           }
          ],
          "barpolar": [
           {
            "marker": {
             "line": {
              "color": "#E5ECF6",
              "width": 0.5
             },
             "pattern": {
              "fillmode": "overlay",
              "size": 10,
              "solidity": 0.2
             }
            },
            "type": "barpolar"
           }
          ],
          "carpet": [
           {
            "aaxis": {
             "endlinecolor": "#2a3f5f",
             "gridcolor": "white",
             "linecolor": "white",
             "minorgridcolor": "white",
             "startlinecolor": "#2a3f5f"
            },
            "baxis": {
             "endlinecolor": "#2a3f5f",
             "gridcolor": "white",
             "linecolor": "white",
             "minorgridcolor": "white",
             "startlinecolor": "#2a3f5f"
            },
            "type": "carpet"
           }
          ],
          "choropleth": [
           {
            "colorbar": {
             "outlinewidth": 0,
             "ticks": ""
            },
            "type": "choropleth"
           }
          ],
          "contour": [
           {
            "colorbar": {
             "outlinewidth": 0,
             "ticks": ""
            },
            "colorscale": [
             [
              0,
              "#0d0887"
             ],
             [
              0.1111111111111111,
              "#46039f"
             ],
             [
              0.2222222222222222,
              "#7201a8"
             ],
             [
              0.3333333333333333,
              "#9c179e"
             ],
             [
              0.4444444444444444,
              "#bd3786"
             ],
             [
              0.5555555555555556,
              "#d8576b"
             ],
             [
              0.6666666666666666,
              "#ed7953"
             ],
             [
              0.7777777777777778,
              "#fb9f3a"
             ],
             [
              0.8888888888888888,
              "#fdca26"
             ],
             [
              1,
              "#f0f921"
             ]
            ],
            "type": "contour"
           }
          ],
          "contourcarpet": [
           {
            "colorbar": {
             "outlinewidth": 0,
             "ticks": ""
            },
            "type": "contourcarpet"
           }
          ],
          "heatmap": [
           {
            "colorbar": {
             "outlinewidth": 0,
             "ticks": ""
            },
            "colorscale": [
             [
              0,
              "#0d0887"
             ],
             [
              0.1111111111111111,
              "#46039f"
             ],
             [
              0.2222222222222222,
              "#7201a8"
             ],
             [
              0.3333333333333333,
              "#9c179e"
             ],
             [
              0.4444444444444444,
              "#bd3786"
             ],
             [
              0.5555555555555556,
              "#d8576b"
             ],
             [
              0.6666666666666666,
              "#ed7953"
             ],
             [
              0.7777777777777778,
              "#fb9f3a"
             ],
             [
              0.8888888888888888,
              "#fdca26"
             ],
             [
              1,
              "#f0f921"
             ]
            ],
            "type": "heatmap"
           }
          ],
          "heatmapgl": [
           {
            "colorbar": {
             "outlinewidth": 0,
             "ticks": ""
            },
            "colorscale": [
             [
              0,
              "#0d0887"
             ],
             [
              0.1111111111111111,
              "#46039f"
             ],
             [
              0.2222222222222222,
              "#7201a8"
             ],
             [
              0.3333333333333333,
              "#9c179e"
             ],
             [
              0.4444444444444444,
              "#bd3786"
             ],
             [
              0.5555555555555556,
              "#d8576b"
             ],
             [
              0.6666666666666666,
              "#ed7953"
             ],
             [
              0.7777777777777778,
              "#fb9f3a"
             ],
             [
              0.8888888888888888,
              "#fdca26"
             ],
             [
              1,
              "#f0f921"
             ]
            ],
            "type": "heatmapgl"
           }
          ],
          "histogram": [
           {
            "marker": {
             "pattern": {
              "fillmode": "overlay",
              "size": 10,
              "solidity": 0.2
             }
            },
            "type": "histogram"
           }
          ],
          "histogram2d": [
           {
            "colorbar": {
             "outlinewidth": 0,
             "ticks": ""
            },
            "colorscale": [
             [
              0,
              "#0d0887"
             ],
             [
              0.1111111111111111,
              "#46039f"
             ],
             [
              0.2222222222222222,
              "#7201a8"
             ],
             [
              0.3333333333333333,
              "#9c179e"
             ],
             [
              0.4444444444444444,
              "#bd3786"
             ],
             [
              0.5555555555555556,
              "#d8576b"
             ],
             [
              0.6666666666666666,
              "#ed7953"
             ],
             [
              0.7777777777777778,
              "#fb9f3a"
             ],
             [
              0.8888888888888888,
              "#fdca26"
             ],
             [
              1,
              "#f0f921"
             ]
            ],
            "type": "histogram2d"
           }
          ],
          "histogram2dcontour": [
           {
            "colorbar": {
             "outlinewidth": 0,
             "ticks": ""
            },
            "colorscale": [
             [
              0,
              "#0d0887"
             ],
             [
              0.1111111111111111,
              "#46039f"
             ],
             [
              0.2222222222222222,
              "#7201a8"
             ],
             [
              0.3333333333333333,
              "#9c179e"
             ],
             [
              0.4444444444444444,
              "#bd3786"
             ],
             [
              0.5555555555555556,
              "#d8576b"
             ],
             [
              0.6666666666666666,
              "#ed7953"
             ],
             [
              0.7777777777777778,
              "#fb9f3a"
             ],
             [
              0.8888888888888888,
              "#fdca26"
             ],
             [
              1,
              "#f0f921"
             ]
            ],
            "type": "histogram2dcontour"
           }
          ],
          "mesh3d": [
           {
            "colorbar": {
             "outlinewidth": 0,
             "ticks": ""
            },
            "type": "mesh3d"
           }
          ],
          "parcoords": [
           {
            "line": {
             "colorbar": {
              "outlinewidth": 0,
              "ticks": ""
             }
            },
            "type": "parcoords"
           }
          ],
          "pie": [
           {
            "automargin": true,
            "type": "pie"
           }
          ],
          "scatter": [
           {
            "fillpattern": {
             "fillmode": "overlay",
             "size": 10,
             "solidity": 0.2
            },
            "type": "scatter"
           }
          ],
          "scatter3d": [
           {
            "line": {
             "colorbar": {
              "outlinewidth": 0,
              "ticks": ""
             }
            },
            "marker": {
             "colorbar": {
              "outlinewidth": 0,
              "ticks": ""
             }
            },
            "type": "scatter3d"
           }
          ],
          "scattercarpet": [
           {
            "marker": {
             "colorbar": {
              "outlinewidth": 0,
              "ticks": ""
             }
            },
            "type": "scattercarpet"
           }
          ],
          "scattergeo": [
           {
            "marker": {
             "colorbar": {
              "outlinewidth": 0,
              "ticks": ""
             }
            },
            "type": "scattergeo"
           }
          ],
          "scattergl": [
           {
            "marker": {
             "colorbar": {
              "outlinewidth": 0,
              "ticks": ""
             }
            },
            "type": "scattergl"
           }
          ],
          "scattermapbox": [
           {
            "marker": {
             "colorbar": {
              "outlinewidth": 0,
              "ticks": ""
             }
            },
            "type": "scattermapbox"
           }
          ],
          "scatterpolar": [
           {
            "marker": {
             "colorbar": {
              "outlinewidth": 0,
              "ticks": ""
             }
            },
            "type": "scatterpolar"
           }
          ],
          "scatterpolargl": [
           {
            "marker": {
             "colorbar": {
              "outlinewidth": 0,
              "ticks": ""
             }
            },
            "type": "scatterpolargl"
           }
          ],
          "scatterternary": [
           {
            "marker": {
             "colorbar": {
              "outlinewidth": 0,
              "ticks": ""
             }
            },
            "type": "scatterternary"
           }
          ],
          "surface": [
           {
            "colorbar": {
             "outlinewidth": 0,
             "ticks": ""
            },
            "colorscale": [
             [
              0,
              "#0d0887"
             ],
             [
              0.1111111111111111,
              "#46039f"
             ],
             [
              0.2222222222222222,
              "#7201a8"
             ],
             [
              0.3333333333333333,
              "#9c179e"
             ],
             [
              0.4444444444444444,
              "#bd3786"
             ],
             [
              0.5555555555555556,
              "#d8576b"
             ],
             [
              0.6666666666666666,
              "#ed7953"
             ],
             [
              0.7777777777777778,
              "#fb9f3a"
             ],
             [
              0.8888888888888888,
              "#fdca26"
             ],
             [
              1,
              "#f0f921"
             ]
            ],
            "type": "surface"
           }
          ],
          "table": [
           {
            "cells": {
             "fill": {
              "color": "#EBF0F8"
             },
             "line": {
              "color": "white"
             }
            },
            "header": {
             "fill": {
              "color": "#C8D4E3"
             },
             "line": {
              "color": "white"
             }
            },
            "type": "table"
           }
          ]
         },
         "layout": {
          "annotationdefaults": {
           "arrowcolor": "#2a3f5f",
           "arrowhead": 0,
           "arrowwidth": 1
          },
          "autotypenumbers": "strict",
          "coloraxis": {
           "colorbar": {
            "outlinewidth": 0,
            "ticks": ""
           }
          },
          "colorscale": {
           "diverging": [
            [
             0,
             "#8e0152"
            ],
            [
             0.1,
             "#c51b7d"
            ],
            [
             0.2,
             "#de77ae"
            ],
            [
             0.3,
             "#f1b6da"
            ],
            [
             0.4,
             "#fde0ef"
            ],
            [
             0.5,
             "#f7f7f7"
            ],
            [
             0.6,
             "#e6f5d0"
            ],
            [
             0.7,
             "#b8e186"
            ],
            [
             0.8,
             "#7fbc41"
            ],
            [
             0.9,
             "#4d9221"
            ],
            [
             1,
             "#276419"
            ]
           ],
           "sequential": [
            [
             0,
             "#0d0887"
            ],
            [
             0.1111111111111111,
             "#46039f"
            ],
            [
             0.2222222222222222,
             "#7201a8"
            ],
            [
             0.3333333333333333,
             "#9c179e"
            ],
            [
             0.4444444444444444,
             "#bd3786"
            ],
            [
             0.5555555555555556,
             "#d8576b"
            ],
            [
             0.6666666666666666,
             "#ed7953"
            ],
            [
             0.7777777777777778,
             "#fb9f3a"
            ],
            [
             0.8888888888888888,
             "#fdca26"
            ],
            [
             1,
             "#f0f921"
            ]
           ],
           "sequentialminus": [
            [
             0,
             "#0d0887"
            ],
            [
             0.1111111111111111,
             "#46039f"
            ],
            [
             0.2222222222222222,
             "#7201a8"
            ],
            [
             0.3333333333333333,
             "#9c179e"
            ],
            [
             0.4444444444444444,
             "#bd3786"
            ],
            [
             0.5555555555555556,
             "#d8576b"
            ],
            [
             0.6666666666666666,
             "#ed7953"
            ],
            [
             0.7777777777777778,
             "#fb9f3a"
            ],
            [
             0.8888888888888888,
             "#fdca26"
            ],
            [
             1,
             "#f0f921"
            ]
           ]
          },
          "colorway": [
           "#636efa",
           "#EF553B",
           "#00cc96",
           "#ab63fa",
           "#FFA15A",
           "#19d3f3",
           "#FF6692",
           "#B6E880",
           "#FF97FF",
           "#FECB52"
          ],
          "font": {
           "color": "#2a3f5f"
          },
          "geo": {
           "bgcolor": "white",
           "lakecolor": "white",
           "landcolor": "#E5ECF6",
           "showlakes": true,
           "showland": true,
           "subunitcolor": "white"
          },
          "hoverlabel": {
           "align": "left"
          },
          "hovermode": "closest",
          "mapbox": {
           "style": "light"
          },
          "paper_bgcolor": "white",
          "plot_bgcolor": "#E5ECF6",
          "polar": {
           "angularaxis": {
            "gridcolor": "white",
            "linecolor": "white",
            "ticks": ""
           },
           "bgcolor": "#E5ECF6",
           "radialaxis": {
            "gridcolor": "white",
            "linecolor": "white",
            "ticks": ""
           }
          },
          "scene": {
           "xaxis": {
            "backgroundcolor": "#E5ECF6",
            "gridcolor": "white",
            "gridwidth": 2,
            "linecolor": "white",
            "showbackground": true,
            "ticks": "",
            "zerolinecolor": "white"
           },
           "yaxis": {
            "backgroundcolor": "#E5ECF6",
            "gridcolor": "white",
            "gridwidth": 2,
            "linecolor": "white",
            "showbackground": true,
            "ticks": "",
            "zerolinecolor": "white"
           },
           "zaxis": {
            "backgroundcolor": "#E5ECF6",
            "gridcolor": "white",
            "gridwidth": 2,
            "linecolor": "white",
            "showbackground": true,
            "ticks": "",
            "zerolinecolor": "white"
           }
          },
          "shapedefaults": {
           "line": {
            "color": "#2a3f5f"
           }
          },
          "ternary": {
           "aaxis": {
            "gridcolor": "white",
            "linecolor": "white",
            "ticks": ""
           },
           "baxis": {
            "gridcolor": "white",
            "linecolor": "white",
            "ticks": ""
           },
           "bgcolor": "#E5ECF6",
           "caxis": {
            "gridcolor": "white",
            "linecolor": "white",
            "ticks": ""
           }
          },
          "title": {
           "x": 0.05
          },
          "xaxis": {
           "automargin": true,
           "gridcolor": "white",
           "linecolor": "white",
           "ticks": "",
           "title": {
            "standoff": 15
           },
           "zerolinecolor": "white",
           "zerolinewidth": 2
          },
          "yaxis": {
           "automargin": true,
           "gridcolor": "white",
           "linecolor": "white",
           "ticks": "",
           "title": {
            "standoff": 15
           },
           "zerolinecolor": "white",
           "zerolinewidth": 2
          }
         }
        },
        "title": {
         "text": "Top 50 Companies with Highest Job Openings"
        },
        "xaxis": {
         "anchor": "y",
         "domain": [
          0,
          1
         ],
         "title": {
          "text": "Company Name"
         }
        },
        "yaxis": {
         "anchor": "x",
         "domain": [
          0,
          1
         ],
         "title": {
          "text": "Job Posting Count"
         }
        }
       }
      }
     },
     "metadata": {},
     "output_type": "display_data"
    }
   ],
   "source": [
    "\n",
    "# Create the line graph with Plotly\n",
    "fig = px.line(top_companies_cleaned, \n",
    "              x='company_name', \n",
    "              y='job_posting_count', \n",
    "              title='Top 50 Companies with Highest Job Openings',\n",
    "              markers=True, \n",
    "              hover_data={'employee_count_x': True, 'job_posting_count': True})\n",
    "\n",
    "# Show the plot\n",
    "fig.update_layout(xaxis_title='Company Name', \n",
    "                  yaxis_title='Job Posting Count')\n",
    "\n",
    "# Show the plot\n",
    "fig.show()\n"
   ]
  },
  {
   "cell_type": "code",
   "execution_count": 45,
   "metadata": {},
   "outputs": [],
   "source": [
    "import ipywidgets as widgets\n",
    "from IPython.display import display"
   ]
  },
  {
   "cell_type": "markdown",
   "metadata": {},
   "source": [
    "### Function to Create and Display the Top Companies Plot\n",
    "\n",
    "A function is defined to generate an interactive line graph displaying the top companies with the highest job openings, based on user-selected criteria.\n",
    "\n",
    "1. **Function Definition**:\n",
    "   - The function `plot_top_companies(num_companies)` takes one parameter, **num_companies**, which specifies the number of top companies to display.\n",
    "\n",
    "2. **Sorting Companies**:\n",
    "   - Inside the function, the **top_companies_cleaned** DataFrame is sorted by **job_posting_count** in descending order to identify the top N companies. The `head(num_companies)` method selects the specified number of companies.\n",
    "\n",
    "3. **Creating the Line Graph**:\n",
    "   - A line graph is generated using `px.line()` with the following parameters:\n",
    "     - **Data Source**: The sorted **top_n_companies** DataFrame.\n",
    "     - **X-Axis**: Set to **company_name**, representing the companies.\n",
    "     - **Y-Axis**: Set to **job_posting_count**, showing the number of job postings.\n",
    "     - **Title**: Dynamically created using an f-string to display the number of companies, e.g., **\"Top N Companies with Highest Job Openings\"**.\n",
    "     - **Markers**: Enabled to highlight individual data points.\n",
    "     - **Hover Data**: Additional information for **employee_count** and **job_posting_count** is included for user interaction.\n",
    "\n",
    "4. **Updating Layout**:\n",
    "   - The layout of the figure is customized using `fig.update_layout()`:\n",
    "     - **X-Axis Title**: Set to **\"Company Name\"**.\n",
    "     - **Y-Axis Title**: Set to **\"Job Posting Count\"**.\n",
    "     - **X-Axis Tick Angle**: Set to -45 degrees to improve readability of the company names.\n",
    "\n",
    "5. **Displaying the Plot**:\n",
    "   - The plot is displayed with `fig.show()`.\n",
    "\n",
    "### Interactive Slider for User Input\n",
    "\n",
    "1. **Slider Creation**:\n",
    "   - An interactive slider is created using `widgets.IntSlider` to allow users to select the number of companies to display:\n",
    "     - **Initial Value**: Set to 100.\n",
    "     - **Minimum and Maximum Values**: Range from 10 to 100.\n",
    "     - **Step Size**: Increment by 10.\n",
    "\n",
    "2. **Output Area**:\n",
    "   - An output widget is created to display the plot.\n",
    "\n",
    "3. **Displaying the Slider and Plot**:\n",
    "   - The slider and output area are displayed using the `display()` function.\n",
    "\n",
    "4. **Updating the Plot**:\n",
    "   - The `update_plot(change)` function is defined to update the graph when the slider value changes:\n",
    "     - It clears the previous output and calls the `plot_top_companies()` function with the new slider value.\n",
    "\n",
    "5. **Observing Slider Changes**:\n",
    "   - The slider is linked to the `update_plot()` function using the `observe()` method, which listens for changes to the slider's value.\n",
    "\n",
    "6. **Initial Plot Display**:\n",
    "   - The initial plot is generated by calling `plot_top_companies(num_companies_slider.value)`, using the slider's starting value.\n",
    "\n",
    "This code snippet provides a dynamic and interactive way to visualize the top companies with the highest job openings, allowing users to adjust the number of companies displayed in the plot easily.\n"
   ]
  },
  {
   "cell_type": "code",
   "execution_count": 1,
   "metadata": {},
   "outputs": [
    {
     "ename": "NameError",
     "evalue": "name 'widgets' is not defined",
     "output_type": "error",
     "traceback": [
      "\u001b[1;31m---------------------------------------------------------------------------\u001b[0m",
      "\u001b[1;31mNameError\u001b[0m                                 Traceback (most recent call last)",
      "Cell \u001b[1;32mIn[1], line 23\u001b[0m\n\u001b[0;32m     20\u001b[0m     fig\u001b[38;5;241m.\u001b[39mshow()\n\u001b[0;32m     22\u001b[0m \u001b[38;5;66;03m# Create a slider for selecting the number of companies to display\u001b[39;00m\n\u001b[1;32m---> 23\u001b[0m num_companies_slider \u001b[38;5;241m=\u001b[39m \u001b[43mwidgets\u001b[49m\u001b[38;5;241m.\u001b[39mIntSlider(value\u001b[38;5;241m=\u001b[39m\u001b[38;5;241m100\u001b[39m, \u001b[38;5;28mmin\u001b[39m\u001b[38;5;241m=\u001b[39m\u001b[38;5;241m10\u001b[39m, \u001b[38;5;28mmax\u001b[39m\u001b[38;5;241m=\u001b[39m\u001b[38;5;241m100\u001b[39m, step\u001b[38;5;241m=\u001b[39m\u001b[38;5;241m10\u001b[39m, description\u001b[38;5;241m=\u001b[39m\u001b[38;5;124m'\u001b[39m\u001b[38;5;124mNumber of Companies:\u001b[39m\u001b[38;5;124m'\u001b[39m)\n\u001b[0;32m     24\u001b[0m output \u001b[38;5;241m=\u001b[39m widgets\u001b[38;5;241m.\u001b[39mOutput()\n\u001b[0;32m     26\u001b[0m \u001b[38;5;66;03m# Display the slider and plot\u001b[39;00m\n",
      "\u001b[1;31mNameError\u001b[0m: name 'widgets' is not defined"
     ]
    }
   ],
   "source": [
    "\n",
    "# Function to create and display the plot\n",
    "def plot_top_companies(num_companies):\n",
    "    # Sort to get the top N companies by job posting count\n",
    "    top_n_companies = top_companies_cleaned.sort_values(by='job_posting_count', ascending=False).head(num_companies)\n",
    "\n",
    "    # Create the line graph with Plotly\n",
    "    fig = px.line(top_n_companies, \n",
    "                  x='company_name', \n",
    "                  y='job_posting_count', \n",
    "                  title=f'Top {num_companies} Companies with Highest Job Openings',\n",
    "                  markers=True, \n",
    "                  hover_data={'employee_count_x': True, 'job_posting_count': True})\n",
    "\n",
    "    # Update layout for better display\n",
    "    fig.update_layout(xaxis_title='Company Name', \n",
    "                      yaxis_title='Job Posting Count',\n",
    "                      xaxis_tickangle=-45)\n",
    "\n",
    "    # Show the plot\n",
    "    fig.show()\n",
    "\n",
    "# Create a slider for selecting the number of companies to display\n",
    "num_companies_slider = widgets.IntSlider(value=100, min=10, max=100, step=10, description='Number of Companies:')\n",
    "output = widgets.Output()\n",
    "\n",
    "# Display the slider and plot\n",
    "display(num_companies_slider, output)\n",
    "\n",
    "# Update the plot when the slider value changes\n",
    "def update_plot(change):\n",
    "    with output:\n",
    "        output.clear_output()  # Clear previous output\n",
    "        plot_top_companies(change['new'])\n",
    "\n",
    "# Attach the update function to the slider\n",
    "num_companies_slider.observe(update_plot, names='value')\n",
    "\n",
    "# Initial plot\n",
    "plot_top_companies(num_companies_slider.value)\n"
   ]
  }
 ],
 "metadata": {
  "kernelspec": {
   "display_name": "Python 3",
   "language": "python",
   "name": "python3"
  },
  "language_info": {
   "codemirror_mode": {
    "name": "ipython",
    "version": 3
   },
   "file_extension": ".py",
   "mimetype": "text/x-python",
   "name": "python",
   "nbconvert_exporter": "python",
   "pygments_lexer": "ipython3",
   "version": "3.11.5"
  }
 },
 "nbformat": 4,
 "nbformat_minor": 2
}
