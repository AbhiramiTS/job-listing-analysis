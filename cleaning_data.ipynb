{
 "cells": [
  {
   "cell_type": "markdown",
   "metadata": {},
   "source": [
    "## Load the Data"
   ]
  },
  {
   "cell_type": "code",
   "execution_count": 2,
   "metadata": {},
   "outputs": [],
   "source": [
    "import pandas as pd\n",
    "\n",
    "# Load your CSV files\n",
    "postings = pd.read_csv('postings.csv')\n",
    "companies = pd.read_csv('companies/companies.csv')\n",
    "company_industries = pd.read_csv('companies/company_industries.csv')\n",
    "company_specialities = pd.read_csv('companies/company_specialities.csv')\n",
    "employee_counts = pd.read_csv('companies/employee_counts.csv')\n",
    "salaries = pd.read_csv('jobs/salaries.csv')\n",
    "job_skills = pd.read_csv('jobs/job_skills.csv')\n",
    "job_industries = pd.read_csv('jobs/job_industries.csv')\n",
    "benefits = pd.read_csv('jobs/benefits.csv')\n",
    "\n"
   ]
  },
  {
   "cell_type": "code",
   "execution_count": 3,
   "metadata": {},
   "outputs": [],
   "source": [
    "pd.set_option('display.max_columns', None)"
   ]
  },
  {
   "cell_type": "code",
   "execution_count": 4,
   "metadata": {},
   "outputs": [
    {
     "name": "stdout",
     "output_type": "stream",
     "text": [
      "<class 'pandas.core.frame.DataFrame'>\n",
      "RangeIndex: 123849 entries, 0 to 123848\n",
      "Data columns (total 31 columns):\n",
      " #   Column                      Non-Null Count   Dtype  \n",
      "---  ------                      --------------   -----  \n",
      " 0   job_id                      123849 non-null  int64  \n",
      " 1   company_name                122130 non-null  object \n",
      " 2   title                       123849 non-null  object \n",
      " 3   description                 123842 non-null  object \n",
      " 4   max_salary                  29793 non-null   float64\n",
      " 5   pay_period                  36073 non-null   object \n",
      " 6   location                    123849 non-null  object \n",
      " 7   company_id                  122132 non-null  float64\n",
      " 8   views                       122160 non-null  float64\n",
      " 9   med_salary                  6280 non-null    float64\n",
      " 10  min_salary                  29793 non-null   float64\n",
      " 11  formatted_work_type         123849 non-null  object \n",
      " 12  applies                     23320 non-null   float64\n",
      " 13  original_listed_time        123849 non-null  float64\n",
      " 14  remote_allowed              15246 non-null   float64\n",
      " 15  job_posting_url             123849 non-null  object \n",
      " 16  application_url             87184 non-null   object \n",
      " 17  application_type            123849 non-null  object \n",
      " 18  expiry                      123849 non-null  float64\n",
      " 19  closed_time                 1073 non-null    float64\n",
      " 20  formatted_experience_level  94440 non-null   object \n",
      " 21  skills_desc                 2439 non-null    object \n",
      " 22  listed_time                 123849 non-null  float64\n",
      " 23  posting_domain              83881 non-null   object \n",
      " 24  sponsored                   123849 non-null  int64  \n",
      " 25  work_type                   123849 non-null  object \n",
      " 26  currency                    36073 non-null   object \n",
      " 27  compensation_type           36073 non-null   object \n",
      " 28  normalized_salary           36073 non-null   float64\n",
      " 29  zip_code                    102977 non-null  float64\n",
      " 30  fips                        96434 non-null   float64\n",
      "dtypes: float64(14), int64(2), object(15)\n",
      "memory usage: 29.3+ MB\n"
     ]
    }
   ],
   "source": [
    "# Check the structure of each DataFrame\n",
    "postings.info()"
   ]
  },
  {
   "cell_type": "code",
   "execution_count": 5,
   "metadata": {},
   "outputs": [
    {
     "data": {
      "text/html": [
       "<div>\n",
       "<style scoped>\n",
       "    .dataframe tbody tr th:only-of-type {\n",
       "        vertical-align: middle;\n",
       "    }\n",
       "\n",
       "    .dataframe tbody tr th {\n",
       "        vertical-align: top;\n",
       "    }\n",
       "\n",
       "    .dataframe thead th {\n",
       "        text-align: right;\n",
       "    }\n",
       "</style>\n",
       "<table border=\"1\" class=\"dataframe\">\n",
       "  <thead>\n",
       "    <tr style=\"text-align: right;\">\n",
       "      <th></th>\n",
       "      <th>job_id</th>\n",
       "      <th>company_name</th>\n",
       "      <th>title</th>\n",
       "      <th>description</th>\n",
       "      <th>max_salary</th>\n",
       "      <th>pay_period</th>\n",
       "      <th>location</th>\n",
       "      <th>company_id</th>\n",
       "      <th>views</th>\n",
       "      <th>med_salary</th>\n",
       "      <th>min_salary</th>\n",
       "      <th>formatted_work_type</th>\n",
       "      <th>applies</th>\n",
       "      <th>original_listed_time</th>\n",
       "      <th>remote_allowed</th>\n",
       "      <th>job_posting_url</th>\n",
       "      <th>application_url</th>\n",
       "      <th>application_type</th>\n",
       "      <th>expiry</th>\n",
       "      <th>closed_time</th>\n",
       "      <th>formatted_experience_level</th>\n",
       "      <th>skills_desc</th>\n",
       "      <th>listed_time</th>\n",
       "      <th>posting_domain</th>\n",
       "      <th>sponsored</th>\n",
       "      <th>work_type</th>\n",
       "      <th>currency</th>\n",
       "      <th>compensation_type</th>\n",
       "      <th>normalized_salary</th>\n",
       "      <th>zip_code</th>\n",
       "      <th>fips</th>\n",
       "    </tr>\n",
       "  </thead>\n",
       "  <tbody>\n",
       "    <tr>\n",
       "      <th>0</th>\n",
       "      <td>921716</td>\n",
       "      <td>Corcoran Sawyer Smith</td>\n",
       "      <td>Marketing Coordinator</td>\n",
       "      <td>Job descriptionA leading real estate firm in N...</td>\n",
       "      <td>20.0</td>\n",
       "      <td>HOURLY</td>\n",
       "      <td>Princeton, NJ</td>\n",
       "      <td>2774458.0</td>\n",
       "      <td>20.0</td>\n",
       "      <td>NaN</td>\n",
       "      <td>17.0</td>\n",
       "      <td>Full-time</td>\n",
       "      <td>2.0</td>\n",
       "      <td>1.713398e+12</td>\n",
       "      <td>NaN</td>\n",
       "      <td>https://www.linkedin.com/jobs/view/921716/?trk...</td>\n",
       "      <td>NaN</td>\n",
       "      <td>ComplexOnsiteApply</td>\n",
       "      <td>1.715990e+12</td>\n",
       "      <td>NaN</td>\n",
       "      <td>NaN</td>\n",
       "      <td>Requirements: \\n\\nWe are seeking a College or ...</td>\n",
       "      <td>1.713398e+12</td>\n",
       "      <td>NaN</td>\n",
       "      <td>0</td>\n",
       "      <td>FULL_TIME</td>\n",
       "      <td>USD</td>\n",
       "      <td>BASE_SALARY</td>\n",
       "      <td>38480.0</td>\n",
       "      <td>8540.0</td>\n",
       "      <td>34021.0</td>\n",
       "    </tr>\n",
       "    <tr>\n",
       "      <th>1</th>\n",
       "      <td>1829192</td>\n",
       "      <td>NaN</td>\n",
       "      <td>Mental Health Therapist/Counselor</td>\n",
       "      <td>At Aspen Therapy and Wellness , we are committ...</td>\n",
       "      <td>50.0</td>\n",
       "      <td>HOURLY</td>\n",
       "      <td>Fort Collins, CO</td>\n",
       "      <td>NaN</td>\n",
       "      <td>1.0</td>\n",
       "      <td>NaN</td>\n",
       "      <td>30.0</td>\n",
       "      <td>Full-time</td>\n",
       "      <td>NaN</td>\n",
       "      <td>1.712858e+12</td>\n",
       "      <td>NaN</td>\n",
       "      <td>https://www.linkedin.com/jobs/view/1829192/?tr...</td>\n",
       "      <td>NaN</td>\n",
       "      <td>ComplexOnsiteApply</td>\n",
       "      <td>1.715450e+12</td>\n",
       "      <td>NaN</td>\n",
       "      <td>NaN</td>\n",
       "      <td>NaN</td>\n",
       "      <td>1.712858e+12</td>\n",
       "      <td>NaN</td>\n",
       "      <td>0</td>\n",
       "      <td>FULL_TIME</td>\n",
       "      <td>USD</td>\n",
       "      <td>BASE_SALARY</td>\n",
       "      <td>83200.0</td>\n",
       "      <td>80521.0</td>\n",
       "      <td>8069.0</td>\n",
       "    </tr>\n",
       "    <tr>\n",
       "      <th>2</th>\n",
       "      <td>10998357</td>\n",
       "      <td>The National Exemplar</td>\n",
       "      <td>Assitant Restaurant Manager</td>\n",
       "      <td>The National Exemplar is accepting application...</td>\n",
       "      <td>65000.0</td>\n",
       "      <td>YEARLY</td>\n",
       "      <td>Cincinnati, OH</td>\n",
       "      <td>64896719.0</td>\n",
       "      <td>8.0</td>\n",
       "      <td>NaN</td>\n",
       "      <td>45000.0</td>\n",
       "      <td>Full-time</td>\n",
       "      <td>NaN</td>\n",
       "      <td>1.713278e+12</td>\n",
       "      <td>NaN</td>\n",
       "      <td>https://www.linkedin.com/jobs/view/10998357/?t...</td>\n",
       "      <td>NaN</td>\n",
       "      <td>ComplexOnsiteApply</td>\n",
       "      <td>1.715870e+12</td>\n",
       "      <td>NaN</td>\n",
       "      <td>NaN</td>\n",
       "      <td>We are currently accepting resumes for FOH - A...</td>\n",
       "      <td>1.713278e+12</td>\n",
       "      <td>NaN</td>\n",
       "      <td>0</td>\n",
       "      <td>FULL_TIME</td>\n",
       "      <td>USD</td>\n",
       "      <td>BASE_SALARY</td>\n",
       "      <td>55000.0</td>\n",
       "      <td>45202.0</td>\n",
       "      <td>39061.0</td>\n",
       "    </tr>\n",
       "  </tbody>\n",
       "</table>\n",
       "</div>"
      ],
      "text/plain": [
       "     job_id            company_name                              title  \\\n",
       "0    921716   Corcoran Sawyer Smith              Marketing Coordinator   \n",
       "1   1829192                     NaN  Mental Health Therapist/Counselor   \n",
       "2  10998357  The National Exemplar         Assitant Restaurant Manager   \n",
       "\n",
       "                                         description  max_salary pay_period  \\\n",
       "0  Job descriptionA leading real estate firm in N...        20.0     HOURLY   \n",
       "1  At Aspen Therapy and Wellness , we are committ...        50.0     HOURLY   \n",
       "2  The National Exemplar is accepting application...     65000.0     YEARLY   \n",
       "\n",
       "           location  company_id  views  med_salary  min_salary  \\\n",
       "0     Princeton, NJ   2774458.0   20.0         NaN        17.0   \n",
       "1  Fort Collins, CO         NaN    1.0         NaN        30.0   \n",
       "2    Cincinnati, OH  64896719.0    8.0         NaN     45000.0   \n",
       "\n",
       "  formatted_work_type  applies  original_listed_time  remote_allowed  \\\n",
       "0           Full-time      2.0          1.713398e+12             NaN   \n",
       "1           Full-time      NaN          1.712858e+12             NaN   \n",
       "2           Full-time      NaN          1.713278e+12             NaN   \n",
       "\n",
       "                                     job_posting_url application_url  \\\n",
       "0  https://www.linkedin.com/jobs/view/921716/?trk...             NaN   \n",
       "1  https://www.linkedin.com/jobs/view/1829192/?tr...             NaN   \n",
       "2  https://www.linkedin.com/jobs/view/10998357/?t...             NaN   \n",
       "\n",
       "     application_type        expiry  closed_time formatted_experience_level  \\\n",
       "0  ComplexOnsiteApply  1.715990e+12          NaN                        NaN   \n",
       "1  ComplexOnsiteApply  1.715450e+12          NaN                        NaN   \n",
       "2  ComplexOnsiteApply  1.715870e+12          NaN                        NaN   \n",
       "\n",
       "                                         skills_desc   listed_time  \\\n",
       "0  Requirements: \\n\\nWe are seeking a College or ...  1.713398e+12   \n",
       "1                                                NaN  1.712858e+12   \n",
       "2  We are currently accepting resumes for FOH - A...  1.713278e+12   \n",
       "\n",
       "  posting_domain  sponsored  work_type currency compensation_type  \\\n",
       "0            NaN          0  FULL_TIME      USD       BASE_SALARY   \n",
       "1            NaN          0  FULL_TIME      USD       BASE_SALARY   \n",
       "2            NaN          0  FULL_TIME      USD       BASE_SALARY   \n",
       "\n",
       "   normalized_salary  zip_code     fips  \n",
       "0            38480.0    8540.0  34021.0  \n",
       "1            83200.0   80521.0   8069.0  \n",
       "2            55000.0   45202.0  39061.0  "
      ]
     },
     "execution_count": 5,
     "metadata": {},
     "output_type": "execute_result"
    }
   ],
   "source": [
    "postings.head(3)"
   ]
  },
  {
   "cell_type": "code",
   "execution_count": 6,
   "metadata": {},
   "outputs": [
    {
     "data": {
      "text/plain": [
       "job_id                             0\n",
       "company_name                    1719\n",
       "title                              0\n",
       "description                        7\n",
       "max_salary                     94056\n",
       "pay_period                     87776\n",
       "location                           0\n",
       "company_id                      1717\n",
       "views                           1689\n",
       "med_salary                    117569\n",
       "min_salary                     94056\n",
       "formatted_work_type                0\n",
       "applies                       100529\n",
       "original_listed_time               0\n",
       "remote_allowed                108603\n",
       "job_posting_url                    0\n",
       "application_url                36665\n",
       "application_type                   0\n",
       "expiry                             0\n",
       "closed_time                   122776\n",
       "formatted_experience_level     29409\n",
       "skills_desc                   121410\n",
       "listed_time                        0\n",
       "posting_domain                 39968\n",
       "sponsored                          0\n",
       "work_type                          0\n",
       "currency                       87776\n",
       "compensation_type              87776\n",
       "normalized_salary              87776\n",
       "zip_code                       20872\n",
       "fips                           27415\n",
       "dtype: int64"
      ]
     },
     "execution_count": 6,
     "metadata": {},
     "output_type": "execute_result"
    }
   ],
   "source": [
    "postings.isnull().sum()"
   ]
  },
  {
   "cell_type": "markdown",
   "metadata": {},
   "source": [
    "## Handling Missing Data: Postings.csv"
   ]
  },
  {
   "cell_type": "code",
   "execution_count": 7,
   "metadata": {},
   "outputs": [],
   "source": [
    "postings = postings.dropna(subset=['company_name', 'company_id'], how='all')"
   ]
  },
  {
   "cell_type": "code",
   "execution_count": 8,
   "metadata": {},
   "outputs": [],
   "source": [
    "postings = postings.dropna(subset=['max_salary', 'min_salary', 'med_salary'], how='all')"
   ]
  },
  {
   "cell_type": "code",
   "execution_count": 9,
   "metadata": {},
   "outputs": [],
   "source": [
    "postings['pay_period'].fillna('Unknown', inplace=True)\n",
    "postings['remote_allowed'].fillna(0.0, inplace=True)\n"
   ]
  },
  {
   "cell_type": "code",
   "execution_count": 10,
   "metadata": {},
   "outputs": [],
   "source": [
    "postings['applies'].fillna(0, inplace=True)\n",
    "postings['views'].fillna(0, inplace=True)\n"
   ]
  },
  {
   "cell_type": "code",
   "execution_count": 11,
   "metadata": {},
   "outputs": [],
   "source": [
    "postings.drop(['closed_time'], axis=1, inplace=True)\n"
   ]
  },
  {
   "cell_type": "code",
   "execution_count": 12,
   "metadata": {},
   "outputs": [],
   "source": [
    "postings['description'].fillna('No description provided', inplace=True)\n",
    "postings['skills_desc'].fillna('No description provided', inplace=True)"
   ]
  },
  {
   "cell_type": "code",
   "execution_count": 13,
   "metadata": {},
   "outputs": [
    {
     "data": {
      "text/plain": [
       "remote_allowed\n",
       "0.0    30809\n",
       "1.0     4755\n",
       "Name: count, dtype: int64"
      ]
     },
     "execution_count": 13,
     "metadata": {},
     "output_type": "execute_result"
    }
   ],
   "source": [
    "remote_allowed_counts = postings['remote_allowed'].value_counts()\n",
    "remote_allowed_counts"
   ]
  },
  {
   "cell_type": "code",
   "execution_count": 14,
   "metadata": {},
   "outputs": [
    {
     "data": {
      "text/plain": [
       "job_id                            0\n",
       "company_name                      1\n",
       "title                             0\n",
       "description                       0\n",
       "max_salary                     6225\n",
       "pay_period                        0\n",
       "location                          0\n",
       "company_id                        0\n",
       "views                             0\n",
       "med_salary                    29339\n",
       "min_salary                     6225\n",
       "formatted_work_type               0\n",
       "applies                           0\n",
       "original_listed_time              0\n",
       "remote_allowed                    0\n",
       "job_posting_url                   0\n",
       "application_url               12883\n",
       "application_type                  0\n",
       "expiry                            0\n",
       "formatted_experience_level     7709\n",
       "skills_desc                       0\n",
       "listed_time                       0\n",
       "posting_domain                14405\n",
       "sponsored                         0\n",
       "work_type                         0\n",
       "currency                          0\n",
       "compensation_type                 0\n",
       "normalized_salary                 0\n",
       "zip_code                       6737\n",
       "fips                           8540\n",
       "dtype: int64"
      ]
     },
     "execution_count": 14,
     "metadata": {},
     "output_type": "execute_result"
    }
   ],
   "source": [
    "postings.isnull().sum()"
   ]
  },
  {
   "cell_type": "code",
   "execution_count": 15,
   "metadata": {},
   "outputs": [
    {
     "name": "stdout",
     "output_type": "stream",
     "text": [
      "job_id                        0\n",
      "company_name                  0\n",
      "title                         0\n",
      "description                   0\n",
      "max_salary                    0\n",
      "pay_period                    0\n",
      "location                      0\n",
      "company_id                    0\n",
      "views                         0\n",
      "med_salary                    0\n",
      "min_salary                    0\n",
      "formatted_work_type           0\n",
      "applies                       0\n",
      "original_listed_time          0\n",
      "remote_allowed                0\n",
      "job_posting_url               0\n",
      "application_url               0\n",
      "application_type              0\n",
      "expiry                        0\n",
      "formatted_experience_level    0\n",
      "skills_desc                   0\n",
      "listed_time                   0\n",
      "posting_domain                0\n",
      "sponsored                     0\n",
      "work_type                     0\n",
      "currency                      0\n",
      "compensation_type             0\n",
      "normalized_salary             0\n",
      "zip_code                      0\n",
      "fips                          0\n",
      "dtype: int64\n"
     ]
    },
    {
     "name": "stderr",
     "output_type": "stream",
     "text": [
      "C:\\Users\\ABHITS\\AppData\\Local\\Temp\\ipykernel_24088\\1700049007.py:9: FutureWarning: Setting an item of incompatible dtype is deprecated and will raise in a future error of pandas. Value 'Unknown' has dtype incompatible with float64, please explicitly cast to a compatible dtype first.\n",
      "  postings['zip_code'].fillna('Unknown', inplace=True)  # Fill with 'Unknown'\n"
     ]
    }
   ],
   "source": [
    "# Fill remaining missing values\n",
    "postings['company_name'].fillna('Unknown', inplace=True)  # Fill with 'Unknown'\n",
    "postings['max_salary'].fillna(0.0, inplace=True)  # Fill with 0.0\n",
    "postings['med_salary'].fillna(0.0, inplace=True)  # Fill with 0.0\n",
    "postings['min_salary'].fillna(0.0, inplace=True)  # Fill with 0.0\n",
    "postings['application_url'].fillna('No URL provided', inplace=True)  # Fill with placeholder\n",
    "postings['formatted_experience_level'].fillna('Not specified', inplace=True)  # Fill with placeholder\n",
    "postings['posting_domain'].fillna('Unknown', inplace=True)  # Fill with 'Unknown'\n",
    "postings['zip_code'].fillna('Unknown', inplace=True)  # Fill with 'Unknown'\n",
    "postings['fips'].fillna(0.0, inplace=True)  # Fill with 0.0\n",
    "\n",
    "# Final check for any remaining missing values\n",
    "print(postings.isnull().sum())\n"
   ]
  },
  {
   "cell_type": "markdown",
   "metadata": {},
   "source": [
    "## Handling Missing Data: Companies.csv"
   ]
  },
  {
   "cell_type": "code",
   "execution_count": 16,
   "metadata": {},
   "outputs": [
    {
     "name": "stdout",
     "output_type": "stream",
     "text": [
      "<class 'pandas.core.frame.DataFrame'>\n",
      "RangeIndex: 24473 entries, 0 to 24472\n",
      "Data columns (total 10 columns):\n",
      " #   Column        Non-Null Count  Dtype  \n",
      "---  ------        --------------  -----  \n",
      " 0   company_id    24473 non-null  int64  \n",
      " 1   name          24472 non-null  object \n",
      " 2   description   24176 non-null  object \n",
      " 3   company_size  21699 non-null  float64\n",
      " 4   state         24451 non-null  object \n",
      " 5   country       24473 non-null  object \n",
      " 6   city          24472 non-null  object \n",
      " 7   zip_code      24445 non-null  object \n",
      " 8   address       24451 non-null  object \n",
      " 9   url           24473 non-null  object \n",
      "dtypes: float64(1), int64(1), object(8)\n",
      "memory usage: 1.9+ MB\n"
     ]
    }
   ],
   "source": [
    "companies.info()"
   ]
  },
  {
   "cell_type": "code",
   "execution_count": 17,
   "metadata": {},
   "outputs": [
    {
     "data": {
      "text/html": [
       "<div>\n",
       "<style scoped>\n",
       "    .dataframe tbody tr th:only-of-type {\n",
       "        vertical-align: middle;\n",
       "    }\n",
       "\n",
       "    .dataframe tbody tr th {\n",
       "        vertical-align: top;\n",
       "    }\n",
       "\n",
       "    .dataframe thead th {\n",
       "        text-align: right;\n",
       "    }\n",
       "</style>\n",
       "<table border=\"1\" class=\"dataframe\">\n",
       "  <thead>\n",
       "    <tr style=\"text-align: right;\">\n",
       "      <th></th>\n",
       "      <th>company_id</th>\n",
       "      <th>name</th>\n",
       "      <th>description</th>\n",
       "      <th>company_size</th>\n",
       "      <th>state</th>\n",
       "      <th>country</th>\n",
       "      <th>city</th>\n",
       "      <th>zip_code</th>\n",
       "      <th>address</th>\n",
       "      <th>url</th>\n",
       "    </tr>\n",
       "  </thead>\n",
       "  <tbody>\n",
       "    <tr>\n",
       "      <th>0</th>\n",
       "      <td>1009</td>\n",
       "      <td>IBM</td>\n",
       "      <td>At IBM, we do more than work. We create. We cr...</td>\n",
       "      <td>7.0</td>\n",
       "      <td>NY</td>\n",
       "      <td>US</td>\n",
       "      <td>Armonk, New York</td>\n",
       "      <td>10504</td>\n",
       "      <td>International Business Machines Corp.</td>\n",
       "      <td>https://www.linkedin.com/company/ibm</td>\n",
       "    </tr>\n",
       "    <tr>\n",
       "      <th>1</th>\n",
       "      <td>1016</td>\n",
       "      <td>GE HealthCare</td>\n",
       "      <td>Every day millions of people feel the impact o...</td>\n",
       "      <td>7.0</td>\n",
       "      <td>0</td>\n",
       "      <td>US</td>\n",
       "      <td>Chicago</td>\n",
       "      <td>0</td>\n",
       "      <td>-</td>\n",
       "      <td>https://www.linkedin.com/company/gehealthcare</td>\n",
       "    </tr>\n",
       "    <tr>\n",
       "      <th>2</th>\n",
       "      <td>1025</td>\n",
       "      <td>Hewlett Packard Enterprise</td>\n",
       "      <td>Official LinkedIn of Hewlett Packard Enterpris...</td>\n",
       "      <td>7.0</td>\n",
       "      <td>Texas</td>\n",
       "      <td>US</td>\n",
       "      <td>Houston</td>\n",
       "      <td>77389</td>\n",
       "      <td>1701 E Mossy Oaks Rd Spring</td>\n",
       "      <td>https://www.linkedin.com/company/hewlett-packa...</td>\n",
       "    </tr>\n",
       "    <tr>\n",
       "      <th>3</th>\n",
       "      <td>1028</td>\n",
       "      <td>Oracle</td>\n",
       "      <td>We’re a cloud technology company that provides...</td>\n",
       "      <td>7.0</td>\n",
       "      <td>Texas</td>\n",
       "      <td>US</td>\n",
       "      <td>Austin</td>\n",
       "      <td>78741</td>\n",
       "      <td>2300 Oracle Way</td>\n",
       "      <td>https://www.linkedin.com/company/oracle</td>\n",
       "    </tr>\n",
       "    <tr>\n",
       "      <th>4</th>\n",
       "      <td>1033</td>\n",
       "      <td>Accenture</td>\n",
       "      <td>Accenture is a leading global professional ser...</td>\n",
       "      <td>7.0</td>\n",
       "      <td>0</td>\n",
       "      <td>IE</td>\n",
       "      <td>Dublin 2</td>\n",
       "      <td>0</td>\n",
       "      <td>Grand Canal Harbour</td>\n",
       "      <td>https://www.linkedin.com/company/accenture</td>\n",
       "    </tr>\n",
       "  </tbody>\n",
       "</table>\n",
       "</div>"
      ],
      "text/plain": [
       "   company_id                        name  \\\n",
       "0        1009                         IBM   \n",
       "1        1016               GE HealthCare   \n",
       "2        1025  Hewlett Packard Enterprise   \n",
       "3        1028                      Oracle   \n",
       "4        1033                   Accenture   \n",
       "\n",
       "                                         description  company_size  state  \\\n",
       "0  At IBM, we do more than work. We create. We cr...           7.0     NY   \n",
       "1  Every day millions of people feel the impact o...           7.0      0   \n",
       "2  Official LinkedIn of Hewlett Packard Enterpris...           7.0  Texas   \n",
       "3  We’re a cloud technology company that provides...           7.0  Texas   \n",
       "4  Accenture is a leading global professional ser...           7.0      0   \n",
       "\n",
       "  country              city zip_code                                address  \\\n",
       "0      US  Armonk, New York    10504  International Business Machines Corp.   \n",
       "1      US           Chicago        0                                      -   \n",
       "2      US           Houston    77389            1701 E Mossy Oaks Rd Spring   \n",
       "3      US            Austin    78741                        2300 Oracle Way   \n",
       "4      IE          Dublin 2        0                    Grand Canal Harbour   \n",
       "\n",
       "                                                 url  \n",
       "0               https://www.linkedin.com/company/ibm  \n",
       "1      https://www.linkedin.com/company/gehealthcare  \n",
       "2  https://www.linkedin.com/company/hewlett-packa...  \n",
       "3            https://www.linkedin.com/company/oracle  \n",
       "4         https://www.linkedin.com/company/accenture  "
      ]
     },
     "execution_count": 17,
     "metadata": {},
     "output_type": "execute_result"
    }
   ],
   "source": [
    "companies.head()"
   ]
  },
  {
   "cell_type": "code",
   "execution_count": 18,
   "metadata": {},
   "outputs": [
    {
     "data": {
      "text/plain": [
       "company_id         0\n",
       "name               1\n",
       "description      297\n",
       "company_size    2774\n",
       "state             22\n",
       "country            0\n",
       "city               1\n",
       "zip_code          28\n",
       "address           22\n",
       "url                0\n",
       "dtype: int64"
      ]
     },
     "execution_count": 18,
     "metadata": {},
     "output_type": "execute_result"
    }
   ],
   "source": [
    "companies.isnull().sum()"
   ]
  },
  {
   "cell_type": "code",
   "execution_count": 19,
   "metadata": {},
   "outputs": [],
   "source": [
    "companies['name'].fillna('Unknown', inplace=True)\n",
    "companies['description'].fillna('No description provided', inplace=True)\n",
    "companies['company_size'].fillna(0.0, inplace=True)\n",
    "companies['state'].fillna('Unknown', inplace=True)\n",
    "companies['city'].fillna('Unknown', inplace=True)\n",
    "companies['zip_code'].fillna('Unknown', inplace=True)\n",
    "companies['address'].fillna('Unknown', inplace=True)\n"
   ]
  },
  {
   "cell_type": "code",
   "execution_count": 20,
   "metadata": {},
   "outputs": [],
   "source": [
    "companies.drop_duplicates(subset=['company_id'], inplace=True)"
   ]
  },
  {
   "cell_type": "code",
   "execution_count": 21,
   "metadata": {},
   "outputs": [],
   "source": [
    "companies['name'] = companies['name'].str.lower()\n",
    "companies['state'] = companies['state'].str.lower()\n",
    "companies['city'] = companies['city'].str.lower()\n",
    "companies['country'] = companies['country'].str.lower()"
   ]
  },
  {
   "cell_type": "code",
   "execution_count": 22,
   "metadata": {},
   "outputs": [
    {
     "data": {
      "text/plain": [
       "company_id      0\n",
       "name            0\n",
       "description     0\n",
       "company_size    0\n",
       "state           0\n",
       "country         0\n",
       "city            0\n",
       "zip_code        0\n",
       "address         0\n",
       "url             0\n",
       "dtype: int64"
      ]
     },
     "execution_count": 22,
     "metadata": {},
     "output_type": "execute_result"
    }
   ],
   "source": [
    "companies.isnull().sum()"
   ]
  },
  {
   "cell_type": "code",
   "execution_count": 23,
   "metadata": {},
   "outputs": [
    {
     "data": {
      "text/plain": [
       "0"
      ]
     },
     "execution_count": 23,
     "metadata": {},
     "output_type": "execute_result"
    }
   ],
   "source": [
    "duplicate_count = companies['company_id'].duplicated().sum()\n",
    "duplicate_count"
   ]
  },
  {
   "cell_type": "markdown",
   "metadata": {},
   "source": [
    "## Handling Missing Data: Company_industries.csv"
   ]
  },
  {
   "cell_type": "code",
   "execution_count": 24,
   "metadata": {},
   "outputs": [
    {
     "name": "stdout",
     "output_type": "stream",
     "text": [
      "<class 'pandas.core.frame.DataFrame'>\n",
      "RangeIndex: 24375 entries, 0 to 24374\n",
      "Data columns (total 2 columns):\n",
      " #   Column      Non-Null Count  Dtype \n",
      "---  ------      --------------  ----- \n",
      " 0   company_id  24375 non-null  int64 \n",
      " 1   industry    24375 non-null  object\n",
      "dtypes: int64(1), object(1)\n",
      "memory usage: 381.0+ KB\n"
     ]
    }
   ],
   "source": [
    "company_industries.info()"
   ]
  },
  {
   "cell_type": "code",
   "execution_count": 71,
   "metadata": {},
   "outputs": [
    {
     "data": {
      "text/plain": [
       "company_id    0\n",
       "industry      0\n",
       "dtype: int64"
      ]
     },
     "execution_count": 71,
     "metadata": {},
     "output_type": "execute_result"
    }
   ],
   "source": [
    "company_industries.isnull().sum()"
   ]
  },
  {
   "cell_type": "markdown",
   "metadata": {},
   "source": [
    "## Handling Missing Data: company_specialities.csv"
   ]
  },
  {
   "cell_type": "code",
   "execution_count": 25,
   "metadata": {},
   "outputs": [
    {
     "name": "stdout",
     "output_type": "stream",
     "text": [
      "<class 'pandas.core.frame.DataFrame'>\n",
      "RangeIndex: 169387 entries, 0 to 169386\n",
      "Data columns (total 2 columns):\n",
      " #   Column      Non-Null Count   Dtype \n",
      "---  ------      --------------   ----- \n",
      " 0   company_id  169387 non-null  int64 \n",
      " 1   speciality  169387 non-null  object\n",
      "dtypes: int64(1), object(1)\n",
      "memory usage: 2.6+ MB\n"
     ]
    }
   ],
   "source": [
    "company_specialities.info()"
   ]
  },
  {
   "cell_type": "code",
   "execution_count": 26,
   "metadata": {},
   "outputs": [
    {
     "data": {
      "text/plain": [
       "company_id    0\n",
       "speciality    0\n",
       "dtype: int64"
      ]
     },
     "execution_count": 26,
     "metadata": {},
     "output_type": "execute_result"
    }
   ],
   "source": [
    "company_specialities.isnull().sum()"
   ]
  },
  {
   "cell_type": "markdown",
   "metadata": {},
   "source": [
    "## Handling Missing Data: Employee_counts.csv"
   ]
  },
  {
   "cell_type": "code",
   "execution_count": 78,
   "metadata": {},
   "outputs": [
    {
     "name": "stdout",
     "output_type": "stream",
     "text": [
      "<class 'pandas.core.frame.DataFrame'>\n",
      "RangeIndex: 35787 entries, 0 to 35786\n",
      "Data columns (total 4 columns):\n",
      " #   Column          Non-Null Count  Dtype\n",
      "---  ------          --------------  -----\n",
      " 0   company_id      35787 non-null  int64\n",
      " 1   employee_count  35787 non-null  int64\n",
      " 2   follower_count  35787 non-null  int64\n",
      " 3   time_recorded   35787 non-null  int64\n",
      "dtypes: int64(4)\n",
      "memory usage: 1.1 MB\n"
     ]
    }
   ],
   "source": [
    "employee_counts.info()"
   ]
  },
  {
   "cell_type": "code",
   "execution_count": 79,
   "metadata": {},
   "outputs": [
    {
     "data": {
      "text/plain": [
       "company_id        0\n",
       "employee_count    0\n",
       "follower_count    0\n",
       "time_recorded     0\n",
       "dtype: int64"
      ]
     },
     "execution_count": 79,
     "metadata": {},
     "output_type": "execute_result"
    }
   ],
   "source": [
    "employee_counts.isnull().sum()"
   ]
  },
  {
   "cell_type": "markdown",
   "metadata": {},
   "source": [
    "## Handling Missing Data: Benefits.csv"
   ]
  },
  {
   "cell_type": "code",
   "execution_count": 80,
   "metadata": {},
   "outputs": [
    {
     "name": "stdout",
     "output_type": "stream",
     "text": [
      "<class 'pandas.core.frame.DataFrame'>\n",
      "RangeIndex: 67943 entries, 0 to 67942\n",
      "Data columns (total 3 columns):\n",
      " #   Column    Non-Null Count  Dtype \n",
      "---  ------    --------------  ----- \n",
      " 0   job_id    67943 non-null  int64 \n",
      " 1   inferred  67943 non-null  int64 \n",
      " 2   type      67943 non-null  object\n",
      "dtypes: int64(2), object(1)\n",
      "memory usage: 1.6+ MB\n"
     ]
    }
   ],
   "source": [
    "benefits.info()"
   ]
  },
  {
   "cell_type": "code",
   "execution_count": 81,
   "metadata": {},
   "outputs": [
    {
     "data": {
      "text/plain": [
       "job_id      0\n",
       "inferred    0\n",
       "type        0\n",
       "dtype: int64"
      ]
     },
     "execution_count": 81,
     "metadata": {},
     "output_type": "execute_result"
    }
   ],
   "source": [
    "benefits.isnull().sum()"
   ]
  },
  {
   "cell_type": "markdown",
   "metadata": {},
   "source": [
    "## Handling Missing Data: Job_industries.csv"
   ]
  },
  {
   "cell_type": "code",
   "execution_count": 82,
   "metadata": {},
   "outputs": [
    {
     "name": "stdout",
     "output_type": "stream",
     "text": [
      "<class 'pandas.core.frame.DataFrame'>\n",
      "RangeIndex: 164808 entries, 0 to 164807\n",
      "Data columns (total 2 columns):\n",
      " #   Column       Non-Null Count   Dtype\n",
      "---  ------       --------------   -----\n",
      " 0   job_id       164808 non-null  int64\n",
      " 1   industry_id  164808 non-null  int64\n",
      "dtypes: int64(2)\n",
      "memory usage: 2.5 MB\n"
     ]
    }
   ],
   "source": [
    "job_industries.info()"
   ]
  },
  {
   "cell_type": "code",
   "execution_count": 83,
   "metadata": {},
   "outputs": [
    {
     "data": {
      "text/plain": [
       "job_id         0\n",
       "industry_id    0\n",
       "dtype: int64"
      ]
     },
     "execution_count": 83,
     "metadata": {},
     "output_type": "execute_result"
    }
   ],
   "source": [
    "job_industries.isnull().sum()"
   ]
  },
  {
   "cell_type": "markdown",
   "metadata": {},
   "source": [
    "## Handling Missing Data: Job_skills.csv"
   ]
  },
  {
   "cell_type": "code",
   "execution_count": 84,
   "metadata": {},
   "outputs": [
    {
     "name": "stdout",
     "output_type": "stream",
     "text": [
      "<class 'pandas.core.frame.DataFrame'>\n",
      "RangeIndex: 213768 entries, 0 to 213767\n",
      "Data columns (total 2 columns):\n",
      " #   Column     Non-Null Count   Dtype \n",
      "---  ------     --------------   ----- \n",
      " 0   job_id     213768 non-null  int64 \n",
      " 1   skill_abr  213768 non-null  object\n",
      "dtypes: int64(1), object(1)\n",
      "memory usage: 3.3+ MB\n"
     ]
    }
   ],
   "source": [
    "job_skills.info()"
   ]
  },
  {
   "cell_type": "code",
   "execution_count": 85,
   "metadata": {},
   "outputs": [
    {
     "data": {
      "text/plain": [
       "job_id       0\n",
       "skill_abr    0\n",
       "dtype: int64"
      ]
     },
     "execution_count": 85,
     "metadata": {},
     "output_type": "execute_result"
    }
   ],
   "source": [
    "job_skills.isnull().sum()"
   ]
  },
  {
   "cell_type": "markdown",
   "metadata": {},
   "source": [
    "## Handling Missing Data: Salaries.csv"
   ]
  },
  {
   "cell_type": "code",
   "execution_count": 27,
   "metadata": {},
   "outputs": [
    {
     "name": "stdout",
     "output_type": "stream",
     "text": [
      "<class 'pandas.core.frame.DataFrame'>\n",
      "RangeIndex: 40785 entries, 0 to 40784\n",
      "Data columns (total 8 columns):\n",
      " #   Column             Non-Null Count  Dtype  \n",
      "---  ------             --------------  -----  \n",
      " 0   salary_id          40785 non-null  int64  \n",
      " 1   job_id             40785 non-null  int64  \n",
      " 2   max_salary         33947 non-null  float64\n",
      " 3   med_salary         6838 non-null   float64\n",
      " 4   min_salary         33947 non-null  float64\n",
      " 5   pay_period         40785 non-null  object \n",
      " 6   currency           40785 non-null  object \n",
      " 7   compensation_type  40785 non-null  object \n",
      "dtypes: float64(3), int64(2), object(3)\n",
      "memory usage: 2.5+ MB\n"
     ]
    }
   ],
   "source": [
    "salaries.info()"
   ]
  },
  {
   "cell_type": "code",
   "execution_count": 28,
   "metadata": {},
   "outputs": [
    {
     "data": {
      "text/plain": [
       "salary_id                0\n",
       "job_id                   0\n",
       "max_salary            6838\n",
       "med_salary           33947\n",
       "min_salary            6838\n",
       "pay_period               0\n",
       "currency                 0\n",
       "compensation_type        0\n",
       "dtype: int64"
      ]
     },
     "execution_count": 28,
     "metadata": {},
     "output_type": "execute_result"
    }
   ],
   "source": [
    "salaries.isnull().sum()"
   ]
  },
  {
   "cell_type": "code",
   "execution_count": 29,
   "metadata": {},
   "outputs": [],
   "source": [
    "salaries = salaries.dropna(subset=['max_salary', 'min_salary', 'med_salary'], how='all')"
   ]
  },
  {
   "cell_type": "code",
   "execution_count": 30,
   "metadata": {},
   "outputs": [],
   "source": [
    "salaries['max_salary'].fillna(0.0, inplace=True)  # Fill with 0.0\n",
    "salaries['med_salary'].fillna(0.0, inplace=True)  # Fill with 0.0\n",
    "salaries['min_salary'].fillna(0.0, inplace=True)  # Fill with 0.0"
   ]
  },
  {
   "cell_type": "code",
   "execution_count": 31,
   "metadata": {},
   "outputs": [
    {
     "data": {
      "text/plain": [
       "salary_id            0\n",
       "job_id               0\n",
       "max_salary           0\n",
       "med_salary           0\n",
       "min_salary           0\n",
       "pay_period           0\n",
       "currency             0\n",
       "compensation_type    0\n",
       "dtype: int64"
      ]
     },
     "execution_count": 31,
     "metadata": {},
     "output_type": "execute_result"
    }
   ],
   "source": [
    "salaries.isnull().sum()"
   ]
  },
  {
   "cell_type": "markdown",
   "metadata": {},
   "source": [
    "## Handling Missing Data: Industries.csv"
   ]
  },
  {
   "cell_type": "code",
   "execution_count": 32,
   "metadata": {},
   "outputs": [],
   "source": [
    "industries = pd.read_csv('mappings/industries.csv')"
   ]
  },
  {
   "cell_type": "code",
   "execution_count": 33,
   "metadata": {},
   "outputs": [
    {
     "name": "stdout",
     "output_type": "stream",
     "text": [
      "<class 'pandas.core.frame.DataFrame'>\n",
      "RangeIndex: 422 entries, 0 to 421\n",
      "Data columns (total 2 columns):\n",
      " #   Column         Non-Null Count  Dtype \n",
      "---  ------         --------------  ----- \n",
      " 0   industry_id    422 non-null    int64 \n",
      " 1   industry_name  388 non-null    object\n",
      "dtypes: int64(1), object(1)\n",
      "memory usage: 6.7+ KB\n"
     ]
    }
   ],
   "source": [
    "industries.info()"
   ]
  },
  {
   "cell_type": "code",
   "execution_count": 34,
   "metadata": {},
   "outputs": [
    {
     "data": {
      "text/plain": [
       "industry_id       0\n",
       "industry_name    34\n",
       "dtype: int64"
      ]
     },
     "execution_count": 34,
     "metadata": {},
     "output_type": "execute_result"
    }
   ],
   "source": [
    "industries.isnull().sum()"
   ]
  },
  {
   "cell_type": "code",
   "execution_count": 35,
   "metadata": {},
   "outputs": [],
   "source": [
    "industries['industry_name'].fillna('Unknown', inplace=True)"
   ]
  },
  {
   "cell_type": "markdown",
   "metadata": {},
   "source": [
    "## Handling Missing Data: Skills.csv"
   ]
  },
  {
   "cell_type": "code",
   "execution_count": 36,
   "metadata": {},
   "outputs": [],
   "source": [
    "skills = pd.read_csv('mappings/skills.csv')"
   ]
  },
  {
   "cell_type": "code",
   "execution_count": 37,
   "metadata": {},
   "outputs": [
    {
     "name": "stdout",
     "output_type": "stream",
     "text": [
      "<class 'pandas.core.frame.DataFrame'>\n",
      "RangeIndex: 35 entries, 0 to 34\n",
      "Data columns (total 2 columns):\n",
      " #   Column      Non-Null Count  Dtype \n",
      "---  ------      --------------  ----- \n",
      " 0   skill_abr   35 non-null     object\n",
      " 1   skill_name  35 non-null     object\n",
      "dtypes: object(2)\n",
      "memory usage: 692.0+ bytes\n"
     ]
    }
   ],
   "source": [
    "skills.info()"
   ]
  },
  {
   "cell_type": "code",
   "execution_count": 38,
   "metadata": {},
   "outputs": [
    {
     "data": {
      "text/plain": [
       "skill_abr     0\n",
       "skill_name    0\n",
       "dtype: int64"
      ]
     },
     "execution_count": 38,
     "metadata": {},
     "output_type": "execute_result"
    }
   ],
   "source": [
    "skills.isnull().sum()"
   ]
  },
  {
   "cell_type": "markdown",
   "metadata": {},
   "source": [
    "### Check for Duplicates"
   ]
  },
  {
   "cell_type": "code",
   "execution_count": 39,
   "metadata": {},
   "outputs": [
    {
     "data": {
      "text/html": [
       "<div>\n",
       "<style scoped>\n",
       "    .dataframe tbody tr th:only-of-type {\n",
       "        vertical-align: middle;\n",
       "    }\n",
       "\n",
       "    .dataframe tbody tr th {\n",
       "        vertical-align: top;\n",
       "    }\n",
       "\n",
       "    .dataframe thead th {\n",
       "        text-align: right;\n",
       "    }\n",
       "</style>\n",
       "<table border=\"1\" class=\"dataframe\">\n",
       "  <thead>\n",
       "    <tr style=\"text-align: right;\">\n",
       "      <th></th>\n",
       "      <th>job_id</th>\n",
       "      <th>company_name</th>\n",
       "      <th>title</th>\n",
       "      <th>description</th>\n",
       "      <th>max_salary</th>\n",
       "      <th>pay_period</th>\n",
       "      <th>location</th>\n",
       "      <th>company_id</th>\n",
       "      <th>views</th>\n",
       "      <th>med_salary</th>\n",
       "      <th>min_salary</th>\n",
       "      <th>formatted_work_type</th>\n",
       "      <th>applies</th>\n",
       "      <th>original_listed_time</th>\n",
       "      <th>remote_allowed</th>\n",
       "      <th>job_posting_url</th>\n",
       "      <th>application_url</th>\n",
       "      <th>application_type</th>\n",
       "      <th>expiry</th>\n",
       "      <th>formatted_experience_level</th>\n",
       "      <th>skills_desc</th>\n",
       "      <th>listed_time</th>\n",
       "      <th>posting_domain</th>\n",
       "      <th>sponsored</th>\n",
       "      <th>work_type</th>\n",
       "      <th>currency</th>\n",
       "      <th>compensation_type</th>\n",
       "      <th>normalized_salary</th>\n",
       "      <th>zip_code</th>\n",
       "      <th>fips</th>\n",
       "    </tr>\n",
       "  </thead>\n",
       "  <tbody>\n",
       "  </tbody>\n",
       "</table>\n",
       "</div>"
      ],
      "text/plain": [
       "Empty DataFrame\n",
       "Columns: [job_id, company_name, title, description, max_salary, pay_period, location, company_id, views, med_salary, min_salary, formatted_work_type, applies, original_listed_time, remote_allowed, job_posting_url, application_url, application_type, expiry, formatted_experience_level, skills_desc, listed_time, posting_domain, sponsored, work_type, currency, compensation_type, normalized_salary, zip_code, fips]\n",
       "Index: []"
      ]
     },
     "execution_count": 39,
     "metadata": {},
     "output_type": "execute_result"
    }
   ],
   "source": [
    "duplicates = postings[postings.duplicated()]\n",
    "duplicates"
   ]
  },
  {
   "cell_type": "markdown",
   "metadata": {},
   "source": [
    "## Save the Cleaned Data"
   ]
  },
  {
   "cell_type": "code",
   "execution_count": 40,
   "metadata": {},
   "outputs": [],
   "source": [
    "import os \n",
    "\n",
    "folder_path = 'cleaned_data'  # Change the name as needed\n",
    "\n",
    "# Create the folder if it doesn't exist\n",
    "os.makedirs(folder_path, exist_ok=True)"
   ]
  },
  {
   "cell_type": "code",
   "execution_count": 42,
   "metadata": {},
   "outputs": [],
   "source": [
    "postings.to_csv(os.path.join(folder_path, 'Postings_Cleaned.csv'), index=False)\n",
    "\n",
    "companies.to_csv(os.path.join(folder_path, 'Companies_Cleaned.csv'), index=False)\n",
    "company_industries.to_csv(os.path.join(folder_path, 'Company_industries_Cleaned.csv'), index=False)\n",
    "company_specialities.to_csv(os.path.join(folder_path, 'Company_specialities_Cleaned.csv'), index=False)\n",
    "employee_counts.to_csv(os.path.join(folder_path, 'Employee_counts_Cleaned.csv'), index=False)\n",
    "\n",
    "benefits.to_csv(os.path.join(folder_path, 'Benefits_Cleaned.csv'), index=False)\n",
    "job_industries.to_csv(os.path.join(folder_path, 'Job_industries_Cleaned.csv'), index=False)\n",
    "job_skills.to_csv(os.path.join(folder_path, 'Job_skills_Cleaned.csv'), index=False)\n",
    "salaries.to_csv(os.path.join(folder_path, 'Salaries_Cleaned.csv'), index=False)\n",
    "\n",
    "industries.to_csv(os.path.join(folder_path, 'Industries_Cleaned.csv'), index=False)\n",
    "skills.to_csv(os.path.join(folder_path, 'Skills_Cleaned.csv'), index=False)"
   ]
  }
 ],
 "metadata": {
  "kernelspec": {
   "display_name": "Python 3",
   "language": "python",
   "name": "python3"
  },
  "language_info": {
   "codemirror_mode": {
    "name": "ipython",
    "version": 3
   },
   "file_extension": ".py",
   "mimetype": "text/x-python",
   "name": "python",
   "nbconvert_exporter": "python",
   "pygments_lexer": "ipython3",
   "version": "3.11.9"
  }
 },
 "nbformat": 4,
 "nbformat_minor": 2
}
