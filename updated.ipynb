{
 "cells": [
  {
   "cell_type": "code",
   "execution_count": 1,
   "metadata": {},
   "outputs": [],
   "source": [
    "import pandas as pd\n",
    "\n",
    "# Load the datasets\n",
    "postings = pd.read_csv('cleaned_data\\Postings_Cleaned.csv')\n",
    "companies = pd.read_csv('cleaned_data\\Companies_Cleaned.csv')\n",
    "company_industries = pd.read_csv('cleaned_data\\Company_industries_cleaned.csv')\n",
    "company_specialities = pd.read_csv('cleaned_data\\Company_specialities_cleaned.csv')\n",
    "employee_counts = pd.read_csv('cleaned_data\\Employee_counts_cleaned.csv')\n",
    "salaries = pd.read_csv('cleaned_data\\Salaries_cleaned.csv')\n",
    "job_skills = pd.read_csv('cleaned_data\\Job_skills_cleaned.csv')\n",
    "job_industries = pd.read_csv('cleaned_data\\Job_industries_cleaned.csv')\n",
    "benefits = pd.read_csv('cleaned_data\\Benefits_cleaned.csv')"
   ]
  },
  {
   "cell_type": "code",
   "execution_count": 2,
   "metadata": {},
   "outputs": [],
   "source": [
    "pd.set_option('display.max_columns', None)"
   ]
  },
  {
   "cell_type": "code",
   "execution_count": 24,
   "metadata": {},
   "outputs": [
    {
     "name": "stdout",
     "output_type": "stream",
     "text": [
      "<class 'pandas.core.frame.DataFrame'>\n",
      "RangeIndex: 35564 entries, 0 to 35563\n",
      "Data columns (total 30 columns):\n",
      " #   Column                      Non-Null Count  Dtype  \n",
      "---  ------                      --------------  -----  \n",
      " 0   job_id                      35564 non-null  int64  \n",
      " 1   company_name                35564 non-null  object \n",
      " 2   title                       35564 non-null  object \n",
      " 3   description                 35564 non-null  object \n",
      " 4   max_salary                  35564 non-null  float64\n",
      " 5   pay_period                  35564 non-null  object \n",
      " 6   location                    35564 non-null  object \n",
      " 7   company_id                  35564 non-null  float64\n",
      " 8   views                       35564 non-null  float64\n",
      " 9   med_salary                  35564 non-null  float64\n",
      " 10  min_salary                  35564 non-null  float64\n",
      " 11  formatted_work_type         35564 non-null  object \n",
      " 12  applies                     35564 non-null  float64\n",
      " 13  original_listed_time        35564 non-null  float64\n",
      " 14  remote_allowed              35564 non-null  float64\n",
      " 15  job_posting_url             35564 non-null  object \n",
      " 16  application_url             35564 non-null  object \n",
      " 17  application_type            35564 non-null  object \n",
      " 18  expiry                      35564 non-null  float64\n",
      " 19  formatted_experience_level  35564 non-null  object \n",
      " 20  skills_desc                 35564 non-null  object \n",
      " 21  listed_time                 35564 non-null  float64\n",
      " 22  posting_domain              35564 non-null  object \n",
      " 23  sponsored                   35564 non-null  int64  \n",
      " 24  work_type                   35564 non-null  object \n",
      " 25  currency                    35564 non-null  object \n",
      " 26  compensation_type           35564 non-null  object \n",
      " 27  normalized_salary           35564 non-null  float64\n",
      " 28  zip_code                    35564 non-null  object \n",
      " 29  fips                        35564 non-null  float64\n",
      "dtypes: float64(12), int64(2), object(16)\n",
      "memory usage: 8.1+ MB\n"
     ]
    }
   ],
   "source": [
    "postings.info()"
   ]
  },
  {
   "cell_type": "code",
   "execution_count": 25,
   "metadata": {},
   "outputs": [
    {
     "data": {
      "text/html": [
       "<div>\n",
       "<style scoped>\n",
       "    .dataframe tbody tr th:only-of-type {\n",
       "        vertical-align: middle;\n",
       "    }\n",
       "\n",
       "    .dataframe tbody tr th {\n",
       "        vertical-align: top;\n",
       "    }\n",
       "\n",
       "    .dataframe thead th {\n",
       "        text-align: right;\n",
       "    }\n",
       "</style>\n",
       "<table border=\"1\" class=\"dataframe\">\n",
       "  <thead>\n",
       "    <tr style=\"text-align: right;\">\n",
       "      <th></th>\n",
       "      <th>job_id</th>\n",
       "      <th>company_name</th>\n",
       "      <th>title</th>\n",
       "      <th>description</th>\n",
       "      <th>max_salary</th>\n",
       "      <th>pay_period</th>\n",
       "      <th>location</th>\n",
       "      <th>company_id</th>\n",
       "      <th>views</th>\n",
       "      <th>med_salary</th>\n",
       "      <th>min_salary</th>\n",
       "      <th>formatted_work_type</th>\n",
       "      <th>applies</th>\n",
       "      <th>original_listed_time</th>\n",
       "      <th>remote_allowed</th>\n",
       "      <th>job_posting_url</th>\n",
       "      <th>application_url</th>\n",
       "      <th>application_type</th>\n",
       "      <th>expiry</th>\n",
       "      <th>formatted_experience_level</th>\n",
       "      <th>skills_desc</th>\n",
       "      <th>listed_time</th>\n",
       "      <th>posting_domain</th>\n",
       "      <th>sponsored</th>\n",
       "      <th>work_type</th>\n",
       "      <th>currency</th>\n",
       "      <th>compensation_type</th>\n",
       "      <th>normalized_salary</th>\n",
       "      <th>zip_code</th>\n",
       "      <th>fips</th>\n",
       "    </tr>\n",
       "  </thead>\n",
       "  <tbody>\n",
       "    <tr>\n",
       "      <th>0</th>\n",
       "      <td>921716</td>\n",
       "      <td>Corcoran Sawyer Smith</td>\n",
       "      <td>Marketing Coordinator</td>\n",
       "      <td>Job descriptionA leading real estate firm in N...</td>\n",
       "      <td>20.0</td>\n",
       "      <td>HOURLY</td>\n",
       "      <td>Princeton, NJ</td>\n",
       "      <td>2774458.0</td>\n",
       "      <td>20.0</td>\n",
       "      <td>0.0</td>\n",
       "      <td>17.0</td>\n",
       "      <td>Full-time</td>\n",
       "      <td>2.0</td>\n",
       "      <td>1.713398e+12</td>\n",
       "      <td>0.0</td>\n",
       "      <td>https://www.linkedin.com/jobs/view/921716/?trk...</td>\n",
       "      <td>No URL provided</td>\n",
       "      <td>ComplexOnsiteApply</td>\n",
       "      <td>1.715990e+12</td>\n",
       "      <td>Not specified</td>\n",
       "      <td>Requirements: \\n\\nWe are seeking a College or ...</td>\n",
       "      <td>1.713398e+12</td>\n",
       "      <td>Unknown</td>\n",
       "      <td>0</td>\n",
       "      <td>FULL_TIME</td>\n",
       "      <td>USD</td>\n",
       "      <td>BASE_SALARY</td>\n",
       "      <td>38480.0</td>\n",
       "      <td>8540.0</td>\n",
       "      <td>34021.0</td>\n",
       "    </tr>\n",
       "    <tr>\n",
       "      <th>1</th>\n",
       "      <td>10998357</td>\n",
       "      <td>The National Exemplar</td>\n",
       "      <td>Assitant Restaurant Manager</td>\n",
       "      <td>The National Exemplar is accepting application...</td>\n",
       "      <td>65000.0</td>\n",
       "      <td>YEARLY</td>\n",
       "      <td>Cincinnati, OH</td>\n",
       "      <td>64896719.0</td>\n",
       "      <td>8.0</td>\n",
       "      <td>0.0</td>\n",
       "      <td>45000.0</td>\n",
       "      <td>Full-time</td>\n",
       "      <td>0.0</td>\n",
       "      <td>1.713278e+12</td>\n",
       "      <td>0.0</td>\n",
       "      <td>https://www.linkedin.com/jobs/view/10998357/?t...</td>\n",
       "      <td>No URL provided</td>\n",
       "      <td>ComplexOnsiteApply</td>\n",
       "      <td>1.715870e+12</td>\n",
       "      <td>Not specified</td>\n",
       "      <td>We are currently accepting resumes for FOH - A...</td>\n",
       "      <td>1.713278e+12</td>\n",
       "      <td>Unknown</td>\n",
       "      <td>0</td>\n",
       "      <td>FULL_TIME</td>\n",
       "      <td>USD</td>\n",
       "      <td>BASE_SALARY</td>\n",
       "      <td>55000.0</td>\n",
       "      <td>45202.0</td>\n",
       "      <td>39061.0</td>\n",
       "    </tr>\n",
       "    <tr>\n",
       "      <th>2</th>\n",
       "      <td>23221523</td>\n",
       "      <td>Abrams Fensterman, LLP</td>\n",
       "      <td>Senior Elder Law / Trusts and Estates Associat...</td>\n",
       "      <td>Senior Associate Attorney - Elder Law / Trusts...</td>\n",
       "      <td>175000.0</td>\n",
       "      <td>YEARLY</td>\n",
       "      <td>New Hyde Park, NY</td>\n",
       "      <td>766262.0</td>\n",
       "      <td>16.0</td>\n",
       "      <td>0.0</td>\n",
       "      <td>140000.0</td>\n",
       "      <td>Full-time</td>\n",
       "      <td>0.0</td>\n",
       "      <td>1.712896e+12</td>\n",
       "      <td>0.0</td>\n",
       "      <td>https://www.linkedin.com/jobs/view/23221523/?t...</td>\n",
       "      <td>No URL provided</td>\n",
       "      <td>ComplexOnsiteApply</td>\n",
       "      <td>1.715488e+12</td>\n",
       "      <td>Not specified</td>\n",
       "      <td>This position requires a baseline understandin...</td>\n",
       "      <td>1.712896e+12</td>\n",
       "      <td>Unknown</td>\n",
       "      <td>0</td>\n",
       "      <td>FULL_TIME</td>\n",
       "      <td>USD</td>\n",
       "      <td>BASE_SALARY</td>\n",
       "      <td>157500.0</td>\n",
       "      <td>11040.0</td>\n",
       "      <td>36059.0</td>\n",
       "    </tr>\n",
       "    <tr>\n",
       "      <th>3</th>\n",
       "      <td>91700727</td>\n",
       "      <td>Downtown Raleigh Alliance</td>\n",
       "      <td>Economic Development and Planning Intern</td>\n",
       "      <td>Job summary:The Economic Development &amp; Plannin...</td>\n",
       "      <td>20.0</td>\n",
       "      <td>HOURLY</td>\n",
       "      <td>Raleigh, NC</td>\n",
       "      <td>1481176.0</td>\n",
       "      <td>9.0</td>\n",
       "      <td>0.0</td>\n",
       "      <td>14.0</td>\n",
       "      <td>Internship</td>\n",
       "      <td>4.0</td>\n",
       "      <td>1.713456e+12</td>\n",
       "      <td>0.0</td>\n",
       "      <td>https://www.linkedin.com/jobs/view/91700727/?t...</td>\n",
       "      <td>No URL provided</td>\n",
       "      <td>ComplexOnsiteApply</td>\n",
       "      <td>1.716048e+12</td>\n",
       "      <td>Not specified</td>\n",
       "      <td>No description provided</td>\n",
       "      <td>1.713456e+12</td>\n",
       "      <td>Unknown</td>\n",
       "      <td>0</td>\n",
       "      <td>INTERNSHIP</td>\n",
       "      <td>USD</td>\n",
       "      <td>BASE_SALARY</td>\n",
       "      <td>35360.0</td>\n",
       "      <td>27601.0</td>\n",
       "      <td>37183.0</td>\n",
       "    </tr>\n",
       "    <tr>\n",
       "      <th>4</th>\n",
       "      <td>103254301</td>\n",
       "      <td>Raw Cereal</td>\n",
       "      <td>Producer</td>\n",
       "      <td>Company DescriptionRaw Cereal is a creative de...</td>\n",
       "      <td>300000.0</td>\n",
       "      <td>YEARLY</td>\n",
       "      <td>United States</td>\n",
       "      <td>81942316.0</td>\n",
       "      <td>7.0</td>\n",
       "      <td>0.0</td>\n",
       "      <td>60000.0</td>\n",
       "      <td>Contract</td>\n",
       "      <td>1.0</td>\n",
       "      <td>1.712861e+12</td>\n",
       "      <td>1.0</td>\n",
       "      <td>https://www.linkedin.com/jobs/view/103254301/?...</td>\n",
       "      <td>No URL provided</td>\n",
       "      <td>SimpleOnsiteApply</td>\n",
       "      <td>1.715453e+12</td>\n",
       "      <td>Not specified</td>\n",
       "      <td>No description provided</td>\n",
       "      <td>1.712861e+12</td>\n",
       "      <td>Unknown</td>\n",
       "      <td>0</td>\n",
       "      <td>CONTRACT</td>\n",
       "      <td>USD</td>\n",
       "      <td>BASE_SALARY</td>\n",
       "      <td>180000.0</td>\n",
       "      <td>Unknown</td>\n",
       "      <td>0.0</td>\n",
       "    </tr>\n",
       "    <tr>\n",
       "      <th>5</th>\n",
       "      <td>2264355</td>\n",
       "      <td>Bay West Church</td>\n",
       "      <td>Worship Leader</td>\n",
       "      <td>It is an exciting time to be a part of our chu...</td>\n",
       "      <td>0.0</td>\n",
       "      <td>MONTHLY</td>\n",
       "      <td>Palm Bay, FL</td>\n",
       "      <td>28631247.0</td>\n",
       "      <td>5.0</td>\n",
       "      <td>350.0</td>\n",
       "      <td>0.0</td>\n",
       "      <td>Part-time</td>\n",
       "      <td>0.0</td>\n",
       "      <td>1.712456e+12</td>\n",
       "      <td>0.0</td>\n",
       "      <td>https://www.linkedin.com/jobs/view/2264355/?tr...</td>\n",
       "      <td>No URL provided</td>\n",
       "      <td>ComplexOnsiteApply</td>\n",
       "      <td>1.715048e+12</td>\n",
       "      <td>Not specified</td>\n",
       "      <td>Knowledge, Skills and Abilities: 1. Proficient...</td>\n",
       "      <td>1.712456e+12</td>\n",
       "      <td>Unknown</td>\n",
       "      <td>0</td>\n",
       "      <td>PART_TIME</td>\n",
       "      <td>USD</td>\n",
       "      <td>BASE_SALARY</td>\n",
       "      <td>4200.0</td>\n",
       "      <td>32905.0</td>\n",
       "      <td>12009.0</td>\n",
       "    </tr>\n",
       "  </tbody>\n",
       "</table>\n",
       "</div>"
      ],
      "text/plain": [
       "      job_id               company_name  \\\n",
       "0     921716      Corcoran Sawyer Smith   \n",
       "1   10998357     The National Exemplar    \n",
       "2   23221523     Abrams Fensterman, LLP   \n",
       "3   91700727  Downtown Raleigh Alliance   \n",
       "4  103254301                 Raw Cereal   \n",
       "5    2264355            Bay West Church   \n",
       "\n",
       "                                               title  \\\n",
       "0                              Marketing Coordinator   \n",
       "1                        Assitant Restaurant Manager   \n",
       "2  Senior Elder Law / Trusts and Estates Associat...   \n",
       "3           Economic Development and Planning Intern   \n",
       "4                                           Producer   \n",
       "5                                     Worship Leader   \n",
       "\n",
       "                                         description  max_salary pay_period  \\\n",
       "0  Job descriptionA leading real estate firm in N...        20.0     HOURLY   \n",
       "1  The National Exemplar is accepting application...     65000.0     YEARLY   \n",
       "2  Senior Associate Attorney - Elder Law / Trusts...    175000.0     YEARLY   \n",
       "3  Job summary:The Economic Development & Plannin...        20.0     HOURLY   \n",
       "4  Company DescriptionRaw Cereal is a creative de...    300000.0     YEARLY   \n",
       "5  It is an exciting time to be a part of our chu...         0.0    MONTHLY   \n",
       "\n",
       "            location  company_id  views  med_salary  min_salary  \\\n",
       "0      Princeton, NJ   2774458.0   20.0         0.0        17.0   \n",
       "1     Cincinnati, OH  64896719.0    8.0         0.0     45000.0   \n",
       "2  New Hyde Park, NY    766262.0   16.0         0.0    140000.0   \n",
       "3        Raleigh, NC   1481176.0    9.0         0.0        14.0   \n",
       "4      United States  81942316.0    7.0         0.0     60000.0   \n",
       "5       Palm Bay, FL  28631247.0    5.0       350.0         0.0   \n",
       "\n",
       "  formatted_work_type  applies  original_listed_time  remote_allowed  \\\n",
       "0           Full-time      2.0          1.713398e+12             0.0   \n",
       "1           Full-time      0.0          1.713278e+12             0.0   \n",
       "2           Full-time      0.0          1.712896e+12             0.0   \n",
       "3          Internship      4.0          1.713456e+12             0.0   \n",
       "4            Contract      1.0          1.712861e+12             1.0   \n",
       "5           Part-time      0.0          1.712456e+12             0.0   \n",
       "\n",
       "                                     job_posting_url  application_url  \\\n",
       "0  https://www.linkedin.com/jobs/view/921716/?trk...  No URL provided   \n",
       "1  https://www.linkedin.com/jobs/view/10998357/?t...  No URL provided   \n",
       "2  https://www.linkedin.com/jobs/view/23221523/?t...  No URL provided   \n",
       "3  https://www.linkedin.com/jobs/view/91700727/?t...  No URL provided   \n",
       "4  https://www.linkedin.com/jobs/view/103254301/?...  No URL provided   \n",
       "5  https://www.linkedin.com/jobs/view/2264355/?tr...  No URL provided   \n",
       "\n",
       "     application_type        expiry formatted_experience_level  \\\n",
       "0  ComplexOnsiteApply  1.715990e+12              Not specified   \n",
       "1  ComplexOnsiteApply  1.715870e+12              Not specified   \n",
       "2  ComplexOnsiteApply  1.715488e+12              Not specified   \n",
       "3  ComplexOnsiteApply  1.716048e+12              Not specified   \n",
       "4   SimpleOnsiteApply  1.715453e+12              Not specified   \n",
       "5  ComplexOnsiteApply  1.715048e+12              Not specified   \n",
       "\n",
       "                                         skills_desc   listed_time  \\\n",
       "0  Requirements: \\n\\nWe are seeking a College or ...  1.713398e+12   \n",
       "1  We are currently accepting resumes for FOH - A...  1.713278e+12   \n",
       "2  This position requires a baseline understandin...  1.712896e+12   \n",
       "3                            No description provided  1.713456e+12   \n",
       "4                            No description provided  1.712861e+12   \n",
       "5  Knowledge, Skills and Abilities: 1. Proficient...  1.712456e+12   \n",
       "\n",
       "  posting_domain  sponsored   work_type currency compensation_type  \\\n",
       "0        Unknown          0   FULL_TIME      USD       BASE_SALARY   \n",
       "1        Unknown          0   FULL_TIME      USD       BASE_SALARY   \n",
       "2        Unknown          0   FULL_TIME      USD       BASE_SALARY   \n",
       "3        Unknown          0  INTERNSHIP      USD       BASE_SALARY   \n",
       "4        Unknown          0    CONTRACT      USD       BASE_SALARY   \n",
       "5        Unknown          0   PART_TIME      USD       BASE_SALARY   \n",
       "\n",
       "   normalized_salary zip_code     fips  \n",
       "0            38480.0   8540.0  34021.0  \n",
       "1            55000.0  45202.0  39061.0  \n",
       "2           157500.0  11040.0  36059.0  \n",
       "3            35360.0  27601.0  37183.0  \n",
       "4           180000.0  Unknown      0.0  \n",
       "5             4200.0  32905.0  12009.0  "
      ]
     },
     "execution_count": 25,
     "metadata": {},
     "output_type": "execute_result"
    }
   ],
   "source": [
    "postings.head(6)"
   ]
  },
  {
   "cell_type": "code",
   "execution_count": 3,
   "metadata": {},
   "outputs": [],
   "source": [
    "postings = postings.drop(columns=[\n",
    "    'application_url',           # To be deleted\n",
    "    'application_type',          # To be deleted\n",
    "    'formatted_experience_level',# To be deleted\n",
    "    'posting_domain',            # To be deleted\n",
    "    'sponsored'                  # To be deleted\n",
    "])"
   ]
  },
  {
   "cell_type": "code",
   "execution_count": 4,
   "metadata": {},
   "outputs": [],
   "source": [
    "postings = postings.astype({\n",
    "    'job_id': 'int32',\n",
    "    'company_name': 'string',    # Use 'string' for modern text processing (like VARCHAR)\n",
    "    'title': 'string',\n",
    "    'description': 'string',\n",
    "    'max_salary': 'float',\n",
    "    'pay_period': 'string',\n",
    "    'location': 'string',\n",
    "    'company_id': 'int32',\n",
    "    'views': 'int32',\n",
    "    'med_salary': 'float',\n",
    "    'min_salary': 'float',\n",
    "    'formatted_work_type': 'string',\n",
    "    'applies': 'int32',\n",
    "    'job_posting_url': 'string',\n",
    "    'skills_desc': 'string',\n",
    "    'work_type': 'string',\n",
    "    'currency': 'string',\n",
    "    'compensation_type': 'string',\n",
    "    'normalized_salary': 'float',\n",
    "    'zip_code': 'string',\n",
    "    'fips': 'int32'\n",
    "})"
   ]
  },
  {
   "cell_type": "code",
   "execution_count": 5,
   "metadata": {},
   "outputs": [],
   "source": [
    "postings['original_listed_time'] = pd.to_datetime(postings['original_listed_time'], unit='ms', errors='coerce')\n",
    "postings['expiry'] = pd.to_datetime(postings['expiry'], unit='ms', errors='coerce')\n",
    "postings['listed_time'] = pd.to_datetime(postings['listed_time'], unit='ms', errors='coerce')\n"
   ]
  },
  {
   "cell_type": "code",
   "execution_count": 6,
   "metadata": {},
   "outputs": [],
   "source": [
    "postings['remote_allowed'] = postings['remote_allowed'].apply(lambda x: True if x == 1 else False)\n"
   ]
  },
  {
   "cell_type": "code",
   "execution_count": 7,
   "metadata": {},
   "outputs": [
    {
     "name": "stdout",
     "output_type": "stream",
     "text": [
      "<class 'pandas.core.frame.DataFrame'>\n",
      "RangeIndex: 35564 entries, 0 to 35563\n",
      "Data columns (total 25 columns):\n",
      " #   Column                Non-Null Count  Dtype         \n",
      "---  ------                --------------  -----         \n",
      " 0   job_id                35564 non-null  int32         \n",
      " 1   company_name          35564 non-null  string        \n",
      " 2   title                 35564 non-null  string        \n",
      " 3   description           35564 non-null  string        \n",
      " 4   max_salary            35564 non-null  float64       \n",
      " 5   pay_period            35564 non-null  string        \n",
      " 6   location              35564 non-null  string        \n",
      " 7   company_id            35564 non-null  int32         \n",
      " 8   views                 35564 non-null  int32         \n",
      " 9   med_salary            35564 non-null  float64       \n",
      " 10  min_salary            35564 non-null  float64       \n",
      " 11  formatted_work_type   35564 non-null  string        \n",
      " 12  applies               35564 non-null  int32         \n",
      " 13  original_listed_time  35564 non-null  datetime64[ns]\n",
      " 14  remote_allowed        35564 non-null  bool          \n",
      " 15  job_posting_url       35564 non-null  string        \n",
      " 16  expiry                35564 non-null  datetime64[ns]\n",
      " 17  skills_desc           35564 non-null  string        \n",
      " 18  listed_time           35564 non-null  datetime64[ns]\n",
      " 19  work_type             35564 non-null  string        \n",
      " 20  currency              35564 non-null  string        \n",
      " 21  compensation_type     35564 non-null  string        \n",
      " 22  normalized_salary     35564 non-null  float64       \n",
      " 23  zip_code              35564 non-null  string        \n",
      " 24  fips                  35564 non-null  int32         \n",
      "dtypes: bool(1), datetime64[ns](3), float64(4), int32(5), string(12)\n",
      "memory usage: 5.9 MB\n"
     ]
    }
   ],
   "source": [
    "postings.info()"
   ]
  },
  {
   "cell_type": "code",
   "execution_count": 19,
   "metadata": {},
   "outputs": [],
   "source": [
    "import os \n",
    "\n",
    "folder_path = 'updated_data'  # Change the name as needed\n",
    "\n",
    "# Create the folder if it doesn't exist\n",
    "os.makedirs(folder_path, exist_ok=True)"
   ]
  },
  {
   "cell_type": "code",
   "execution_count": 31,
   "metadata": {},
   "outputs": [],
   "source": [
    "postings.to_csv(os.path.join(folder_path, 'Postings_Updated.csv'), index=False)"
   ]
  },
  {
   "cell_type": "code",
   "execution_count": 32,
   "metadata": {},
   "outputs": [
    {
     "name": "stdout",
     "output_type": "stream",
     "text": [
      "<class 'pandas.core.frame.DataFrame'>\n",
      "RangeIndex: 24473 entries, 0 to 24472\n",
      "Data columns (total 10 columns):\n",
      " #   Column        Non-Null Count  Dtype  \n",
      "---  ------        --------------  -----  \n",
      " 0   company_id    24473 non-null  int64  \n",
      " 1   name          24473 non-null  object \n",
      " 2   description   24473 non-null  object \n",
      " 3   company_size  24473 non-null  float64\n",
      " 4   state         24473 non-null  object \n",
      " 5   country       24473 non-null  object \n",
      " 6   city          24473 non-null  object \n",
      " 7   zip_code      24473 non-null  object \n",
      " 8   address       24473 non-null  object \n",
      " 9   url           24473 non-null  object \n",
      "dtypes: float64(1), int64(1), object(8)\n",
      "memory usage: 1.9+ MB\n"
     ]
    }
   ],
   "source": [
    "companies.info()"
   ]
  },
  {
   "cell_type": "code",
   "execution_count": 33,
   "metadata": {},
   "outputs": [
    {
     "data": {
      "text/html": [
       "<div>\n",
       "<style scoped>\n",
       "    .dataframe tbody tr th:only-of-type {\n",
       "        vertical-align: middle;\n",
       "    }\n",
       "\n",
       "    .dataframe tbody tr th {\n",
       "        vertical-align: top;\n",
       "    }\n",
       "\n",
       "    .dataframe thead th {\n",
       "        text-align: right;\n",
       "    }\n",
       "</style>\n",
       "<table border=\"1\" class=\"dataframe\">\n",
       "  <thead>\n",
       "    <tr style=\"text-align: right;\">\n",
       "      <th></th>\n",
       "      <th>company_id</th>\n",
       "      <th>name</th>\n",
       "      <th>description</th>\n",
       "      <th>company_size</th>\n",
       "      <th>state</th>\n",
       "      <th>country</th>\n",
       "      <th>city</th>\n",
       "      <th>zip_code</th>\n",
       "      <th>address</th>\n",
       "      <th>url</th>\n",
       "    </tr>\n",
       "  </thead>\n",
       "  <tbody>\n",
       "    <tr>\n",
       "      <th>0</th>\n",
       "      <td>1009</td>\n",
       "      <td>ibm</td>\n",
       "      <td>At IBM, we do more than work. We create. We cr...</td>\n",
       "      <td>7.0</td>\n",
       "      <td>ny</td>\n",
       "      <td>us</td>\n",
       "      <td>armonk, new york</td>\n",
       "      <td>10504</td>\n",
       "      <td>International Business Machines Corp.</td>\n",
       "      <td>https://www.linkedin.com/company/ibm</td>\n",
       "    </tr>\n",
       "    <tr>\n",
       "      <th>1</th>\n",
       "      <td>1016</td>\n",
       "      <td>ge healthcare</td>\n",
       "      <td>Every day millions of people feel the impact o...</td>\n",
       "      <td>7.0</td>\n",
       "      <td>0</td>\n",
       "      <td>us</td>\n",
       "      <td>chicago</td>\n",
       "      <td>0</td>\n",
       "      <td>-</td>\n",
       "      <td>https://www.linkedin.com/company/gehealthcare</td>\n",
       "    </tr>\n",
       "    <tr>\n",
       "      <th>2</th>\n",
       "      <td>1025</td>\n",
       "      <td>hewlett packard enterprise</td>\n",
       "      <td>Official LinkedIn of Hewlett Packard Enterpris...</td>\n",
       "      <td>7.0</td>\n",
       "      <td>texas</td>\n",
       "      <td>us</td>\n",
       "      <td>houston</td>\n",
       "      <td>77389</td>\n",
       "      <td>1701 E Mossy Oaks Rd Spring</td>\n",
       "      <td>https://www.linkedin.com/company/hewlett-packa...</td>\n",
       "    </tr>\n",
       "  </tbody>\n",
       "</table>\n",
       "</div>"
      ],
      "text/plain": [
       "   company_id                        name  \\\n",
       "0        1009                         ibm   \n",
       "1        1016               ge healthcare   \n",
       "2        1025  hewlett packard enterprise   \n",
       "\n",
       "                                         description  company_size  state  \\\n",
       "0  At IBM, we do more than work. We create. We cr...           7.0     ny   \n",
       "1  Every day millions of people feel the impact o...           7.0      0   \n",
       "2  Official LinkedIn of Hewlett Packard Enterpris...           7.0  texas   \n",
       "\n",
       "  country              city zip_code                                address  \\\n",
       "0      us  armonk, new york    10504  International Business Machines Corp.   \n",
       "1      us           chicago        0                                      -   \n",
       "2      us           houston    77389            1701 E Mossy Oaks Rd Spring   \n",
       "\n",
       "                                                 url  \n",
       "0               https://www.linkedin.com/company/ibm  \n",
       "1      https://www.linkedin.com/company/gehealthcare  \n",
       "2  https://www.linkedin.com/company/hewlett-packa...  "
      ]
     },
     "execution_count": 33,
     "metadata": {},
     "output_type": "execute_result"
    }
   ],
   "source": [
    "companies.head(3)"
   ]
  },
  {
   "cell_type": "code",
   "execution_count": 34,
   "metadata": {},
   "outputs": [],
   "source": [
    "companies['company_id'] = companies['company_id'].astype('int32')\n",
    "\n",
    "companies['company_size'] = pd.to_numeric(companies['company_size'], errors='coerce').fillna(0).astype('int32')"
   ]
  },
  {
   "cell_type": "code",
   "execution_count": 35,
   "metadata": {},
   "outputs": [],
   "source": [
    "companies = companies.astype({\n",
    "    'name': 'string',\n",
    "    'description': 'string',\n",
    "    'state': 'string',\n",
    "    'country': 'string',\n",
    "    'city': 'string',\n",
    "    'zip_code': 'string',\n",
    "    'address': 'string',\n",
    "    'url': 'string'\n",
    "})"
   ]
  },
  {
   "cell_type": "code",
   "execution_count": 36,
   "metadata": {},
   "outputs": [],
   "source": [
    "companies.to_csv('Updated_data/company_updated.csv', index=False)\n"
   ]
  },
  {
   "cell_type": "code",
   "execution_count": 37,
   "metadata": {},
   "outputs": [
    {
     "name": "stdout",
     "output_type": "stream",
     "text": [
      "<class 'pandas.core.frame.DataFrame'>\n",
      "RangeIndex: 24473 entries, 0 to 24472\n",
      "Data columns (total 10 columns):\n",
      " #   Column        Non-Null Count  Dtype \n",
      "---  ------        --------------  ----- \n",
      " 0   company_id    24473 non-null  int32 \n",
      " 1   name          24473 non-null  string\n",
      " 2   description   24473 non-null  string\n",
      " 3   company_size  24473 non-null  int32 \n",
      " 4   state         24473 non-null  string\n",
      " 5   country       24473 non-null  string\n",
      " 6   city          24473 non-null  string\n",
      " 7   zip_code      24473 non-null  string\n",
      " 8   address       24473 non-null  string\n",
      " 9   url           24473 non-null  string\n",
      "dtypes: int32(2), string(8)\n",
      "memory usage: 1.7 MB\n"
     ]
    }
   ],
   "source": [
    "companies.info()"
   ]
  },
  {
   "cell_type": "code",
   "execution_count": 40,
   "metadata": {},
   "outputs": [
    {
     "name": "stdout",
     "output_type": "stream",
     "text": [
      "<class 'pandas.core.frame.DataFrame'>\n",
      "RangeIndex: 24375 entries, 0 to 24374\n",
      "Data columns (total 2 columns):\n",
      " #   Column      Non-Null Count  Dtype \n",
      "---  ------      --------------  ----- \n",
      " 0   company_id  24375 non-null  int64 \n",
      " 1   industry    24375 non-null  string\n",
      "dtypes: int64(1), string(1)\n",
      "memory usage: 381.0 KB\n"
     ]
    }
   ],
   "source": [
    "company_industries.info()"
   ]
  },
  {
   "cell_type": "code",
   "execution_count": 39,
   "metadata": {},
   "outputs": [],
   "source": [
    "company_industries = company_industries.astype({\n",
    "    'industry': 'string'})"
   ]
  },
  {
   "cell_type": "code",
   "execution_count": 41,
   "metadata": {},
   "outputs": [],
   "source": [
    "company_industries.to_csv('Updated_data/company_industries.csv', index=False)"
   ]
  },
  {
   "cell_type": "code",
   "execution_count": 42,
   "metadata": {},
   "outputs": [
    {
     "name": "stdout",
     "output_type": "stream",
     "text": [
      "<class 'pandas.core.frame.DataFrame'>\n",
      "RangeIndex: 169387 entries, 0 to 169386\n",
      "Data columns (total 2 columns):\n",
      " #   Column      Non-Null Count   Dtype \n",
      "---  ------      --------------   ----- \n",
      " 0   company_id  169387 non-null  int64 \n",
      " 1   speciality  169387 non-null  object\n",
      "dtypes: int64(1), object(1)\n",
      "memory usage: 2.6+ MB\n"
     ]
    }
   ],
   "source": [
    "company_specialities.info()"
   ]
  },
  {
   "cell_type": "code",
   "execution_count": 43,
   "metadata": {},
   "outputs": [
    {
     "data": {
      "text/html": [
       "<div>\n",
       "<style scoped>\n",
       "    .dataframe tbody tr th:only-of-type {\n",
       "        vertical-align: middle;\n",
       "    }\n",
       "\n",
       "    .dataframe tbody tr th {\n",
       "        vertical-align: top;\n",
       "    }\n",
       "\n",
       "    .dataframe thead th {\n",
       "        text-align: right;\n",
       "    }\n",
       "</style>\n",
       "<table border=\"1\" class=\"dataframe\">\n",
       "  <thead>\n",
       "    <tr style=\"text-align: right;\">\n",
       "      <th></th>\n",
       "      <th>company_id</th>\n",
       "      <th>speciality</th>\n",
       "    </tr>\n",
       "  </thead>\n",
       "  <tbody>\n",
       "    <tr>\n",
       "      <th>0</th>\n",
       "      <td>22292832</td>\n",
       "      <td>window replacement</td>\n",
       "    </tr>\n",
       "    <tr>\n",
       "      <th>1</th>\n",
       "      <td>22292832</td>\n",
       "      <td>patio door replacement</td>\n",
       "    </tr>\n",
       "    <tr>\n",
       "      <th>2</th>\n",
       "      <td>20300</td>\n",
       "      <td>Commercial Banking</td>\n",
       "    </tr>\n",
       "    <tr>\n",
       "      <th>3</th>\n",
       "      <td>20300</td>\n",
       "      <td>Retail Banking</td>\n",
       "    </tr>\n",
       "    <tr>\n",
       "      <th>4</th>\n",
       "      <td>20300</td>\n",
       "      <td>Mortgage</td>\n",
       "    </tr>\n",
       "  </tbody>\n",
       "</table>\n",
       "</div>"
      ],
      "text/plain": [
       "   company_id              speciality\n",
       "0    22292832      window replacement\n",
       "1    22292832  patio door replacement\n",
       "2       20300      Commercial Banking\n",
       "3       20300          Retail Banking\n",
       "4       20300                Mortgage"
      ]
     },
     "execution_count": 43,
     "metadata": {},
     "output_type": "execute_result"
    }
   ],
   "source": [
    "company_specialities.head()"
   ]
  },
  {
   "cell_type": "code",
   "execution_count": 44,
   "metadata": {},
   "outputs": [],
   "source": [
    "company_specialities = company_specialities.astype({\n",
    "    'speciality': 'string'})"
   ]
  },
  {
   "cell_type": "code",
   "execution_count": 75,
   "metadata": {},
   "outputs": [],
   "source": [
    "company_specialities.to_csv('Updated_data/company_specialities.csv', index=False)"
   ]
  },
  {
   "cell_type": "code",
   "execution_count": 46,
   "metadata": {},
   "outputs": [
    {
     "name": "stdout",
     "output_type": "stream",
     "text": [
      "<class 'pandas.core.frame.DataFrame'>\n",
      "RangeIndex: 35787 entries, 0 to 35786\n",
      "Data columns (total 4 columns):\n",
      " #   Column          Non-Null Count  Dtype\n",
      "---  ------          --------------  -----\n",
      " 0   company_id      35787 non-null  int64\n",
      " 1   employee_count  35787 non-null  int64\n",
      " 2   follower_count  35787 non-null  int64\n",
      " 3   time_recorded   35787 non-null  int64\n",
      "dtypes: int64(4)\n",
      "memory usage: 1.1 MB\n"
     ]
    }
   ],
   "source": [
    "employee_counts.info()"
   ]
  },
  {
   "cell_type": "code",
   "execution_count": 47,
   "metadata": {},
   "outputs": [
    {
     "data": {
      "text/html": [
       "<div>\n",
       "<style scoped>\n",
       "    .dataframe tbody tr th:only-of-type {\n",
       "        vertical-align: middle;\n",
       "    }\n",
       "\n",
       "    .dataframe tbody tr th {\n",
       "        vertical-align: top;\n",
       "    }\n",
       "\n",
       "    .dataframe thead th {\n",
       "        text-align: right;\n",
       "    }\n",
       "</style>\n",
       "<table border=\"1\" class=\"dataframe\">\n",
       "  <thead>\n",
       "    <tr style=\"text-align: right;\">\n",
       "      <th></th>\n",
       "      <th>company_id</th>\n",
       "      <th>employee_count</th>\n",
       "      <th>follower_count</th>\n",
       "      <th>time_recorded</th>\n",
       "    </tr>\n",
       "  </thead>\n",
       "  <tbody>\n",
       "    <tr>\n",
       "      <th>0</th>\n",
       "      <td>391906</td>\n",
       "      <td>186</td>\n",
       "      <td>32508</td>\n",
       "      <td>1712346173</td>\n",
       "    </tr>\n",
       "    <tr>\n",
       "      <th>1</th>\n",
       "      <td>22292832</td>\n",
       "      <td>311</td>\n",
       "      <td>4471</td>\n",
       "      <td>1712346173</td>\n",
       "    </tr>\n",
       "    <tr>\n",
       "      <th>2</th>\n",
       "      <td>20300</td>\n",
       "      <td>1053</td>\n",
       "      <td>6554</td>\n",
       "      <td>1712346173</td>\n",
       "    </tr>\n",
       "    <tr>\n",
       "      <th>3</th>\n",
       "      <td>3570660</td>\n",
       "      <td>383</td>\n",
       "      <td>35241</td>\n",
       "      <td>1712346173</td>\n",
       "    </tr>\n",
       "    <tr>\n",
       "      <th>4</th>\n",
       "      <td>878353</td>\n",
       "      <td>52</td>\n",
       "      <td>26397</td>\n",
       "      <td>1712346173</td>\n",
       "    </tr>\n",
       "  </tbody>\n",
       "</table>\n",
       "</div>"
      ],
      "text/plain": [
       "   company_id  employee_count  follower_count  time_recorded\n",
       "0      391906             186           32508     1712346173\n",
       "1    22292832             311            4471     1712346173\n",
       "2       20300            1053            6554     1712346173\n",
       "3     3570660             383           35241     1712346173\n",
       "4      878353              52           26397     1712346173"
      ]
     },
     "execution_count": 47,
     "metadata": {},
     "output_type": "execute_result"
    }
   ],
   "source": [
    "employee_counts.head()"
   ]
  },
  {
   "cell_type": "code",
   "execution_count": 52,
   "metadata": {},
   "outputs": [],
   "source": [
    "employee_counts.to_csv('Updated_data/employee_counts.csv', index=False)"
   ]
  },
  {
   "cell_type": "code",
   "execution_count": 51,
   "metadata": {},
   "outputs": [
    {
     "name": "stdout",
     "output_type": "stream",
     "text": [
      "<class 'pandas.core.frame.DataFrame'>\n",
      "RangeIndex: 40785 entries, 0 to 40784\n",
      "Data columns (total 8 columns):\n",
      " #   Column             Non-Null Count  Dtype  \n",
      "---  ------             --------------  -----  \n",
      " 0   salary_id          40785 non-null  int64  \n",
      " 1   job_id             40785 non-null  int64  \n",
      " 2   max_salary         40785 non-null  float64\n",
      " 3   med_salary         40785 non-null  float64\n",
      " 4   min_salary         40785 non-null  float64\n",
      " 5   pay_period         40785 non-null  string \n",
      " 6   currency           40785 non-null  string \n",
      " 7   compensation_type  40785 non-null  string \n",
      "dtypes: float64(3), int64(2), string(3)\n",
      "memory usage: 2.5 MB\n"
     ]
    }
   ],
   "source": [
    "salaries.info()"
   ]
  },
  {
   "cell_type": "code",
   "execution_count": 49,
   "metadata": {},
   "outputs": [
    {
     "data": {
      "text/html": [
       "<div>\n",
       "<style scoped>\n",
       "    .dataframe tbody tr th:only-of-type {\n",
       "        vertical-align: middle;\n",
       "    }\n",
       "\n",
       "    .dataframe tbody tr th {\n",
       "        vertical-align: top;\n",
       "    }\n",
       "\n",
       "    .dataframe thead th {\n",
       "        text-align: right;\n",
       "    }\n",
       "</style>\n",
       "<table border=\"1\" class=\"dataframe\">\n",
       "  <thead>\n",
       "    <tr style=\"text-align: right;\">\n",
       "      <th></th>\n",
       "      <th>salary_id</th>\n",
       "      <th>job_id</th>\n",
       "      <th>max_salary</th>\n",
       "      <th>med_salary</th>\n",
       "      <th>min_salary</th>\n",
       "      <th>pay_period</th>\n",
       "      <th>currency</th>\n",
       "      <th>compensation_type</th>\n",
       "    </tr>\n",
       "  </thead>\n",
       "  <tbody>\n",
       "    <tr>\n",
       "      <th>0</th>\n",
       "      <td>1</td>\n",
       "      <td>3884428798</td>\n",
       "      <td>0.0</td>\n",
       "      <td>20.0</td>\n",
       "      <td>0.0</td>\n",
       "      <td>HOURLY</td>\n",
       "      <td>USD</td>\n",
       "      <td>BASE_SALARY</td>\n",
       "    </tr>\n",
       "    <tr>\n",
       "      <th>1</th>\n",
       "      <td>2</td>\n",
       "      <td>3887470552</td>\n",
       "      <td>25.0</td>\n",
       "      <td>0.0</td>\n",
       "      <td>23.0</td>\n",
       "      <td>HOURLY</td>\n",
       "      <td>USD</td>\n",
       "      <td>BASE_SALARY</td>\n",
       "    </tr>\n",
       "    <tr>\n",
       "      <th>2</th>\n",
       "      <td>3</td>\n",
       "      <td>3884431523</td>\n",
       "      <td>120000.0</td>\n",
       "      <td>0.0</td>\n",
       "      <td>100000.0</td>\n",
       "      <td>YEARLY</td>\n",
       "      <td>USD</td>\n",
       "      <td>BASE_SALARY</td>\n",
       "    </tr>\n",
       "  </tbody>\n",
       "</table>\n",
       "</div>"
      ],
      "text/plain": [
       "   salary_id      job_id  max_salary  med_salary  min_salary pay_period  \\\n",
       "0          1  3884428798         0.0        20.0         0.0     HOURLY   \n",
       "1          2  3887470552        25.0         0.0        23.0     HOURLY   \n",
       "2          3  3884431523    120000.0         0.0    100000.0     YEARLY   \n",
       "\n",
       "  currency compensation_type  \n",
       "0      USD       BASE_SALARY  \n",
       "1      USD       BASE_SALARY  \n",
       "2      USD       BASE_SALARY  "
      ]
     },
     "execution_count": 49,
     "metadata": {},
     "output_type": "execute_result"
    }
   ],
   "source": [
    "salaries.head(3)"
   ]
  },
  {
   "cell_type": "code",
   "execution_count": 50,
   "metadata": {},
   "outputs": [],
   "source": [
    "salaries = salaries.astype({\n",
    "    'pay_period': 'string',\n",
    "    'currency': 'string',\n",
    "    'compensation_type': 'string'\n",
    "    \n",
    "    })"
   ]
  },
  {
   "cell_type": "code",
   "execution_count": 53,
   "metadata": {},
   "outputs": [],
   "source": [
    "salaries.to_csv('Updated_data/salaries.csv', index=False)"
   ]
  },
  {
   "cell_type": "code",
   "execution_count": 54,
   "metadata": {},
   "outputs": [
    {
     "name": "stdout",
     "output_type": "stream",
     "text": [
      "<class 'pandas.core.frame.DataFrame'>\n",
      "RangeIndex: 213768 entries, 0 to 213767\n",
      "Data columns (total 2 columns):\n",
      " #   Column     Non-Null Count   Dtype \n",
      "---  ------     --------------   ----- \n",
      " 0   job_id     213768 non-null  int64 \n",
      " 1   skill_abr  213768 non-null  object\n",
      "dtypes: int64(1), object(1)\n",
      "memory usage: 3.3+ MB\n"
     ]
    }
   ],
   "source": [
    "job_skills.info()"
   ]
  },
  {
   "cell_type": "code",
   "execution_count": 55,
   "metadata": {},
   "outputs": [],
   "source": [
    "job_skills = job_skills.astype({\n",
    "    'skill_abr': 'string'})"
   ]
  },
  {
   "cell_type": "code",
   "execution_count": 56,
   "metadata": {},
   "outputs": [],
   "source": [
    "job_skills.to_csv('Updated_data/job_skills.csv', index=False)"
   ]
  },
  {
   "cell_type": "code",
   "execution_count": 57,
   "metadata": {},
   "outputs": [
    {
     "name": "stdout",
     "output_type": "stream",
     "text": [
      "<class 'pandas.core.frame.DataFrame'>\n",
      "RangeIndex: 164808 entries, 0 to 164807\n",
      "Data columns (total 2 columns):\n",
      " #   Column       Non-Null Count   Dtype\n",
      "---  ------       --------------   -----\n",
      " 0   job_id       164808 non-null  int64\n",
      " 1   industry_id  164808 non-null  int64\n",
      "dtypes: int64(2)\n",
      "memory usage: 2.5 MB\n"
     ]
    }
   ],
   "source": [
    "job_industries.info()"
   ]
  },
  {
   "cell_type": "code",
   "execution_count": 58,
   "metadata": {},
   "outputs": [],
   "source": [
    "job_industries.to_csv('Updated_data/job_industries.csv', index=False)"
   ]
  },
  {
   "cell_type": "code",
   "execution_count": 59,
   "metadata": {},
   "outputs": [
    {
     "name": "stdout",
     "output_type": "stream",
     "text": [
      "<class 'pandas.core.frame.DataFrame'>\n",
      "RangeIndex: 67943 entries, 0 to 67942\n",
      "Data columns (total 3 columns):\n",
      " #   Column    Non-Null Count  Dtype \n",
      "---  ------    --------------  ----- \n",
      " 0   job_id    67943 non-null  int64 \n",
      " 1   inferred  67943 non-null  int64 \n",
      " 2   type      67943 non-null  object\n",
      "dtypes: int64(2), object(1)\n",
      "memory usage: 1.6+ MB\n"
     ]
    }
   ],
   "source": [
    "benefits.info()"
   ]
  },
  {
   "cell_type": "code",
   "execution_count": 60,
   "metadata": {},
   "outputs": [
    {
     "data": {
      "text/html": [
       "<div>\n",
       "<style scoped>\n",
       "    .dataframe tbody tr th:only-of-type {\n",
       "        vertical-align: middle;\n",
       "    }\n",
       "\n",
       "    .dataframe tbody tr th {\n",
       "        vertical-align: top;\n",
       "    }\n",
       "\n",
       "    .dataframe thead th {\n",
       "        text-align: right;\n",
       "    }\n",
       "</style>\n",
       "<table border=\"1\" class=\"dataframe\">\n",
       "  <thead>\n",
       "    <tr style=\"text-align: right;\">\n",
       "      <th></th>\n",
       "      <th>job_id</th>\n",
       "      <th>inferred</th>\n",
       "      <th>type</th>\n",
       "    </tr>\n",
       "  </thead>\n",
       "  <tbody>\n",
       "    <tr>\n",
       "      <th>0</th>\n",
       "      <td>3887473071</td>\n",
       "      <td>0</td>\n",
       "      <td>Medical insurance</td>\n",
       "    </tr>\n",
       "    <tr>\n",
       "      <th>1</th>\n",
       "      <td>3887473071</td>\n",
       "      <td>0</td>\n",
       "      <td>Vision insurance</td>\n",
       "    </tr>\n",
       "    <tr>\n",
       "      <th>2</th>\n",
       "      <td>3887473071</td>\n",
       "      <td>0</td>\n",
       "      <td>Dental insurance</td>\n",
       "    </tr>\n",
       "  </tbody>\n",
       "</table>\n",
       "</div>"
      ],
      "text/plain": [
       "       job_id  inferred               type\n",
       "0  3887473071         0  Medical insurance\n",
       "1  3887473071         0   Vision insurance\n",
       "2  3887473071         0   Dental insurance"
      ]
     },
     "execution_count": 60,
     "metadata": {},
     "output_type": "execute_result"
    }
   ],
   "source": [
    "benefits.head(3)"
   ]
  },
  {
   "cell_type": "code",
   "execution_count": 61,
   "metadata": {},
   "outputs": [],
   "source": [
    "benefits = benefits.astype({\n",
    "    'type': 'string'})"
   ]
  },
  {
   "cell_type": "code",
   "execution_count": 62,
   "metadata": {},
   "outputs": [],
   "source": [
    "benefits.to_csv('Updated_data/benefits.csv', index=False)"
   ]
  },
  {
   "cell_type": "code",
   "execution_count": 63,
   "metadata": {},
   "outputs": [],
   "source": [
    "industries = pd.read_csv('cleaned_data\\Industries_cleaned.csv')\n",
    "skills = pd.read_csv('cleaned_data\\Skills_cleaned.csv')"
   ]
  },
  {
   "cell_type": "code",
   "execution_count": 64,
   "metadata": {},
   "outputs": [
    {
     "name": "stdout",
     "output_type": "stream",
     "text": [
      "<class 'pandas.core.frame.DataFrame'>\n",
      "RangeIndex: 422 entries, 0 to 421\n",
      "Data columns (total 2 columns):\n",
      " #   Column         Non-Null Count  Dtype \n",
      "---  ------         --------------  ----- \n",
      " 0   industry_id    422 non-null    int64 \n",
      " 1   industry_name  422 non-null    object\n",
      "dtypes: int64(1), object(1)\n",
      "memory usage: 6.7+ KB\n"
     ]
    }
   ],
   "source": [
    "industries.info()"
   ]
  },
  {
   "cell_type": "code",
   "execution_count": 65,
   "metadata": {},
   "outputs": [],
   "source": [
    "industries = industries.astype({\n",
    "    'industry_name': 'string'})"
   ]
  },
  {
   "cell_type": "code",
   "execution_count": 66,
   "metadata": {},
   "outputs": [],
   "source": [
    "industries.to_csv('Updated_data/industries.csv', index=False)"
   ]
  },
  {
   "cell_type": "code",
   "execution_count": 67,
   "metadata": {},
   "outputs": [
    {
     "name": "stdout",
     "output_type": "stream",
     "text": [
      "<class 'pandas.core.frame.DataFrame'>\n",
      "RangeIndex: 35 entries, 0 to 34\n",
      "Data columns (total 2 columns):\n",
      " #   Column      Non-Null Count  Dtype \n",
      "---  ------      --------------  ----- \n",
      " 0   skill_abr   35 non-null     object\n",
      " 1   skill_name  35 non-null     object\n",
      "dtypes: object(2)\n",
      "memory usage: 692.0+ bytes\n"
     ]
    }
   ],
   "source": [
    "skills.info()"
   ]
  },
  {
   "cell_type": "code",
   "execution_count": 68,
   "metadata": {},
   "outputs": [
    {
     "data": {
      "text/html": [
       "<div>\n",
       "<style scoped>\n",
       "    .dataframe tbody tr th:only-of-type {\n",
       "        vertical-align: middle;\n",
       "    }\n",
       "\n",
       "    .dataframe tbody tr th {\n",
       "        vertical-align: top;\n",
       "    }\n",
       "\n",
       "    .dataframe thead th {\n",
       "        text-align: right;\n",
       "    }\n",
       "</style>\n",
       "<table border=\"1\" class=\"dataframe\">\n",
       "  <thead>\n",
       "    <tr style=\"text-align: right;\">\n",
       "      <th></th>\n",
       "      <th>skill_abr</th>\n",
       "      <th>skill_name</th>\n",
       "    </tr>\n",
       "  </thead>\n",
       "  <tbody>\n",
       "    <tr>\n",
       "      <th>0</th>\n",
       "      <td>ART</td>\n",
       "      <td>Art/Creative</td>\n",
       "    </tr>\n",
       "    <tr>\n",
       "      <th>1</th>\n",
       "      <td>DSGN</td>\n",
       "      <td>Design</td>\n",
       "    </tr>\n",
       "    <tr>\n",
       "      <th>2</th>\n",
       "      <td>ADVR</td>\n",
       "      <td>Advertising</td>\n",
       "    </tr>\n",
       "    <tr>\n",
       "      <th>3</th>\n",
       "      <td>PRDM</td>\n",
       "      <td>Product Management</td>\n",
       "    </tr>\n",
       "    <tr>\n",
       "      <th>4</th>\n",
       "      <td>DIST</td>\n",
       "      <td>Distribution</td>\n",
       "    </tr>\n",
       "  </tbody>\n",
       "</table>\n",
       "</div>"
      ],
      "text/plain": [
       "  skill_abr          skill_name\n",
       "0       ART        Art/Creative\n",
       "1      DSGN              Design\n",
       "2      ADVR         Advertising\n",
       "3      PRDM  Product Management\n",
       "4      DIST        Distribution"
      ]
     },
     "execution_count": 68,
     "metadata": {},
     "output_type": "execute_result"
    }
   ],
   "source": [
    "skills.head()"
   ]
  },
  {
   "cell_type": "code",
   "execution_count": 69,
   "metadata": {},
   "outputs": [],
   "source": [
    "skills = skills.astype({\n",
    "    'skill_abr': 'string',\n",
    "    'skill_name': 'string'\n",
    "    })"
   ]
  },
  {
   "cell_type": "code",
   "execution_count": 70,
   "metadata": {},
   "outputs": [],
   "source": [
    "skills.to_csv('Updated_data/skills.csv', index=False)"
   ]
  },
  {
   "cell_type": "code",
   "execution_count": 73,
   "metadata": {},
   "outputs": [
    {
     "name": "stdout",
     "output_type": "stream",
     "text": [
      "<class 'pandas.core.frame.DataFrame'>\n",
      "RangeIndex: 35564 entries, 0 to 35563\n",
      "Data columns (total 19 columns):\n",
      " #   Column                Non-Null Count  Dtype         \n",
      "---  ------                --------------  -----         \n",
      " 0   job_id                35564 non-null  int32         \n",
      " 1   company_name          35564 non-null  string        \n",
      " 2   title                 35564 non-null  string        \n",
      " 3   description           35564 non-null  string        \n",
      " 4   pay_period            35564 non-null  string        \n",
      " 5   location              35564 non-null  string        \n",
      " 6   company_id            35564 non-null  int32         \n",
      " 7   views                 35564 non-null  int32         \n",
      " 8   formatted_work_type   35564 non-null  string        \n",
      " 9   applies               35564 non-null  int32         \n",
      " 10  original_listed_time  35564 non-null  datetime64[ns]\n",
      " 11  remote_allowed        35564 non-null  bool          \n",
      " 12  job_posting_url       35564 non-null  string        \n",
      " 13  expiry                35564 non-null  datetime64[ns]\n",
      " 14  listed_time           35564 non-null  datetime64[ns]\n",
      " 15  work_type             35564 non-null  string        \n",
      " 16  normalized_salary     35564 non-null  float64       \n",
      " 17  zip_code              35564 non-null  string        \n",
      " 18  fips                  35564 non-null  int32         \n",
      "dtypes: bool(1), datetime64[ns](3), float64(1), int32(5), string(9)\n",
      "memory usage: 4.2 MB\n"
     ]
    }
   ],
   "source": [
    "postings.info()"
   ]
  },
  {
   "cell_type": "code",
   "execution_count": 72,
   "metadata": {},
   "outputs": [],
   "source": [
    "postings = postings.drop(columns=[\n",
    "    'max_salary',           # To be deleted\n",
    "    'med_salary',          # To be deleted\n",
    "    'min_salary',           # To be deleted\n",
    "    'skills_desc',            # To be deleted\n",
    "    'compensation_type',\n",
    "    'currency'                  # To be deleted\n",
    "])"
   ]
  },
  {
   "cell_type": "code",
   "execution_count": 74,
   "metadata": {},
   "outputs": [],
   "source": [
    "postings.to_csv('Updated_data/postings.csv', index=False)"
   ]
  }
 ],
 "metadata": {
  "kernelspec": {
   "display_name": "Python 3",
   "language": "python",
   "name": "python3"
  },
  "language_info": {
   "codemirror_mode": {
    "name": "ipython",
    "version": 3
   },
   "file_extension": ".py",
   "mimetype": "text/x-python",
   "name": "python",
   "nbconvert_exporter": "python",
   "pygments_lexer": "ipython3",
   "version": "3.11.5"
  }
 },
 "nbformat": 4,
 "nbformat_minor": 2
}
